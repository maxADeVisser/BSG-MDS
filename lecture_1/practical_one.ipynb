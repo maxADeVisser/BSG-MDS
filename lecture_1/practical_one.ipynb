{
 "cells": [
  {
   "cell_type": "code",
   "execution_count": 18,
   "metadata": {},
   "outputs": [],
   "source": [
    "import networkx\n",
    "import sys\n",
    "from ete3 import Tree"
   ]
  },
  {
   "cell_type": "code",
   "execution_count": 14,
   "metadata": {},
   "outputs": [
    {
     "data": {
      "text/plain": [
       "'(Atrichantha_elsiae,(Atrichantha_gemmifera,Calotesta_alba,(Metalasia_oligocephala,(Metalasia_bodkinii,(Metalasia_humilis,(Metalasia_quinqueflora,Metalasia_lichtensteinii,((Metalasia_tenuis,Metalasia_tenuifolia),(Metalasia_phillipsii,(((Metalasia_serrata,Metalasia_cymbifolia),Metalasia_seriphiifolia,Metalasia_erubescens),((((Metalasia_serrulata,Metalasia_rogersii),Metalasia_albescens),Metalasia_juniperoides),(Metalasia_rhoderoides,Metalasia_confusa,Metalasia_riparia),(Metalasia_compacta,((((Metalasia_agathosmoides,Metalasia_fastigiata),Metalasia_adunca),Metalasia_capitata),((Metalasia_brevifolia,Metalasia_densa),(Metalasia_muraltiifolia,(Metalasia_pulchella,(Metalasia_cephalotes,(Metalasia_divergens,Metalasia_inversa)))))))))))))))Metalasia));\\n(Poaceae,(((Apiaceae,Asteraceae),(((Brassicaceae,Fabaceae),Solanaceae),Caprifoliaceae)),(Chenopodiaceae,Polygonaceae)));\\n(Poaceae,((((Apiaceae,Asteraceae),Caprifoliaceae),((Brassicaceae,Fabaceae),Solanaceae)),(Chenopodiaceae,Polygonaceae)));\\n((((Apiaceae,Asteraceae),((Brassicaceae,Fabaceae),Solanaceae),Caprifoliaceae),(Chenopodiaceae,Polygonaceae)),Poaceae);\\n((Apiaceae,((Brassicaceae,Fabaceae),Solanaceae),Caprifoliaceae,(Chenopodiaceae,Polygonaceae),Asteraceae),Poaceae);\\n((Apiaceae,((Brassicaceae,Fabaceae),Solanaceae),Caprifoliaceae,Chenopodiaceae,Asteraceae,Polygonaceae),Poaceae);\\n((Apiaceae,Brassicaceae,Caprifoliaceae,Solanaceae,Chenopodiaceae,Fabaceae,Asteraceae,Polygonaceae),Poaceae);\\n(Poaceae,((Apiaceae,Chenopodiaceae),((Brassicaceae,Fabaceae),Caprifoliaceae)));\\n(Poaceae,(((Apiaceae,Chenopodiaceae),Caprifoliaceae),(Brassicaceae,Fabaceae)));\\n(((Apiaceae,Chenopodiaceae),(Brassicaceae,Fabaceae),Caprifoliaceae),Poaceae);\\n((Apiaceae,Brassicaceae,Caprifoliaceae,Chenopodiaceae,Fabaceae),Poaceae);\\n((Ludwigia_peloides,((((Circaea_cordata,Fuchsia_X_triphylla),Hauya_elegans),(Oenothera_speciosa,Epilobium_angustifolium)),Lopezia_hirsuta))Onagraceae,Lythrum_salicaria);\\n(Heuchera,(Spigelia,Cornus,(((Adoxa,Sambucus),Viburnum),(Menyanthes,Hedera),((Lonicera,Symphoricarpos),Valeriana,Dipsacus))));\\n(Heuchera,(Spigelia,(Cornus,(((Adoxa,Sambucus),Viburnum),((Menyanthes,Hedera),((Lonicera,Symphoricarpos),(Valeriana,Dipsacus)))))));\\n(Heuchera,(Spigelia,(Cornus,((((Adoxa,Sambucus),Viburnum),(Menyanthes,Hedera)),((Lonicera,Symphoricarpos),(Valeriana,Dipsacus))))));\\n(Heuchera,((Spigelia,Cornus),((((Adoxa,Sambucus),Viburnum),(Menyanthes,Hedera)),((Lonicera,Symphoricarpos),(Valeriana,Dipsacus)))));\\n(Heuchera,(Spigelia,(Cornus,((((Adoxa,Sambucus),Viburnum),(Menyanthes,Hedera)),(((Lonicera,Symphoricarpos),Valeriana),Dipsacus)))));\\n(Heuchera,(Spigelia,Cornus,((Menyanthes,Hedera),(((Adoxa,Sambucus),Viburnum),((Lonicera,Symphoricarpos),(Valeriana,Dipsacus))))));\\n(Heuchera,(Cornus,(Hedera,((Menyanthes,Spigelia),((Adoxa,Sambucus),Viburnum),((Lonicera,Symphoricarpos),(Valeriana,Dipsacus))))));\\n(Heuchera,(Spigelia,Cornus,((Menyanthes,Hedera),(Adoxa,(Sambucus,(Viburnum,(Lonicera,Symphoricarpos)))),(Valeriana,Dipsacus))));\\n(Heuchera,(Spigelia,(Cornus,(((Menyanthes,Hedera),(((Adoxa,Sambucus),Viburnum),(Lonicera,Symphoricarpos))),(Valeriana,Dipsacus)))));\\n(Heuchera,(Spigelia,Cornus,((Adoxa,Sambucus),Viburnum),Menyanthes,Hedera,((Lonicera,Symphoricarpos),Valeriana,Dipsacus)));\\n(Heuchera,(Spigelia,Cornus,(Adoxa,Sambucus),Viburnum,Menyanthes,Hedera,((Lonicera,Symphoricarpos),Valeriana,Dipsacus)));\\n(Heuchera,(Spigelia,Cornus,Adoxa,Sambucus,Viburnum,Menyanthes,Hedera,((Lonicera,Symphoricarpos),Valeriana,Dipsacus)));\\n(Heuchera,(Spigelia,Cornus,Adoxa,Sambucus,Viburnum,Menyanthes,Hedera,(Lonicera,Symphoricarpos),Valeriana,Dipsacus));\\n(Heuchera,(Spigelia,Cornus,Adoxa,Sambucus,Viburnum,Menyanthes,Hedera,Lonicera,Symphoricarpos,Valeriana,Dipsacus));\\n((((((((((((Boykinia_rotundifolia,(Sullivantia_oregana,Bolandra_oregana)),Jepsonia_parryi),Telesonix_heucherifolia),(Tanakaea_radicans,Leptarrhena)),(Bergenia_cordifolia,(Saxifraga_mertensiana,(Saxifraga_oppositifolia,Saxifraga_cernua)))),Darmera_peltata),(Mukdenia_rosii,(Chrysosplenium,Peltoboykinia))),(Rodgersia_pinnata,Astilboides_tabularis)),((Tolmeia_menziesii,Elmera_racemosa),(Heuchera_micrantha,Tellima_grandiflora))),(Saxifraga_integrifolia,Saxifraga_punctata)),Astilbe_taque),((Tetracarpa,(Myriophyllum,Penthorum)),Kalanchoe));\\n(Gymnocladus_dioica,Amorpha_fruticosa,Xanthocercis_zambesiaca,(Cadia_purpurea,(Baphia_racemosa,Myroxylon_balsamum)),Indigofera,(Kunstleria_blackii,(Ophrestia_hedysaroides,(Centrosema_virginianum,Clitoria_ternatea)),(((((Dioclea_virgata,Cleobulia_crassistyla),Galactia_striata),Canavalia_ensiformis),(Lonchocarpus_eriocarinalis,Tephrosia_rhodesica)),((((Rhynchosia_clivorum,Eriosema_psoralioides),Cajanus_cajan,Bolusafra_bituminosa,Atylosia_lineata),Adenodolichos_rupestris),(((((Strophostyles_helvola,Macroptilium_lathyroides),Dipogon_lignosus),Vigna_elegans,Ramirezella_strobilophora,Sphenostylis_erecta,Phaseolus_sonorensis,Oxyrhynchus_volubilis,Macrotyloma_geocarpa,Lablab_purpureus),Psophocarpus_scandens),(((Calopogonium_caeruleum,Pachyrhizus_tuberosus),(Pueraria_phaseoloides,Pseudeminia_comosa,Pseudovigna_argentea),Teyleria_koordersii,Teramnus_labialis,Neonotonia_wightii,Glycine_tabacina,Dumasia_villosa,Cologania,Amphicarpaea_bracteata),(Erythrina_sousae,(Shuteria_vestita,((Kennedia_rubicunda,(Hardenbergia_violacea,Vandasia_retusa)),(Desmodium_grandiflorum,Lespedeza_cuneata))))))))));\\n((((((((((Papaver_rhoeas,(Papaver_macrostomum,Papaver_glaucum)),Papaver_gracile),Papaver_dubium),(Papaver_somniferum_somniferum,Papaver_somniferum_setigerum)),((Papaver_bracteatum,Papaver_caucasicum),Papaver_atlanticum)),Stylomecon_heterophyllum),((((Papaver_argemone,Papaver_apulum),Papaver_hybridum),(Papaver_pavoninum,(Roemeria_hybrida,Roemeria_refracta))),(Papaver_alpinum_rhaeticum,Papaver_alpinum_alpinum))),Romneya_coulteri),Argemone_munita),(Chelidonium_majus,Hunnemannia_fumariifolia));\\n(Kunstleria,(((Sesbania,(Daubentonia,Glottidium)),((Gliricidia,Hybosema,Sabinea),(Hebestigma,(Robinia,(Olneya,(Sphinctospermum,Peteria,Coursetia)))))),Dalbergiella,(Xeroderris,((Derris,Lonchocarpus),Tephrosia,Millettia,Piscidia))));\\n(Kunstleria,(Dalbergiella,(((Derris,Lonchocarpus),Millettia,Piscidia,Tephrosia),Xeroderris),(((Hebestigma,(Robinia,Olneya,(Peteria,Sphinctospermum,Coursetia))),Hybosema,Sabinea,Gliricidia),(Sesbania,(Daubentonia,Glottidium)))));\\n(Kunstleria,(Lonchocarpus,Piscidia,Tephrosia),(((Sphinctospermum,Robinia,Peteria,Coursetia),Hebestigma),Sesbania));\\n(Kunstleria,(Lonchocarpus,Piscidia,Tephrosia),Sphinctospermum,Robinia,Peteria,Coursetia,Hebestigma,Sesbania);\\n(Annona,(Euptelea,(Platanus,(Trochodendron,((Cercidiphyllum,Hamamelis,Fothergilla,Corylopsis,Liquidambar,Disanthus),(Leitneria,(Chrysobalanus,((Erythrina,Serjania),((Connarus,(Callicoma,Cunonia)),((Philadelphus,Staphylea),(Malus,(Nothofagus,((Fagus,(Castanea,Trigonobalanus,Colombobalanus)),(Casuarina,Juglans,Myrica,Betula,Alnus,(Corylus,Ostrya)))))))))))))));\\n(((Aster_texanus,Aster_carnerosanus),Aster_ericoides,Psilactis_brevilingulata),((Aster_pauciflorus,Psilactis_odysseus),((Aster_tenuifolius,Aster_subulatus),(Psilactis_tenuis,Psilactis_asteroides))));\\n(Lepidium_sativum,((Thlaspi_alliaceum,(Thlaspi_arvense,Thlaspi_ceratocarpum)),((Thlaspi_perfoliatum_tineoi,(Thlaspi_perfoliatum_Fr_Sw_Al,Thlaspi_perfoliatum_Germany)),(Thlaspi_bulbosum,(Thlaspi_PRA_GOE,Thlaspi_alpestre,Thlaspi_jankae,Thlaspi_macranthum,Thlaspi_BRA_CAE_CAL,Thlaspi_STY_BRE,Thlaspi_MON_ROT_LER,Thlaspi_BEL_DEN_NEV)))));\\n(Puccinellia_distans,Bellardiochloa_violacea,((Poa_eminens,Poa_autumnalis,(Poa_alsodes,Poa_saltuensis)),(Poa_alpina,(Poa_annua,(((Poa_iberica,Poa_arctica,Poa_pratensis),(Poa_labillardierei,(Poa_conglomerata,Poa_bigelovii,Poa_occidentalis,Poa_orizabensis,(Poa_hybrida,Poa_tracyi),(Poa_cuspidata,Poa_nervosa),Poa_rhizomata,Poa_strictiramea,Poa_candamoana,Poa_chamaeclinos,Poa_wheeleri,Poa_cusickii,Poa_fendleriana_albescens,Poa_fendleriana_fendleriana,Poa_confinis,Poa_piperi,(Poa_arachnifera,Poa_iridifolia,Poa_lanigera)))),((Poa_bulbosa,Poa_canbyi,Poa_canbyi_cultivar,(Poa_napensis,Poa_sandbergii,Poa_tenerrima)),(Poa_trivialis,(Poa_keckii,Poa_brachyanthera,Poa_paludigena,Poa_compressa,(Poa_nemoralis,Poa_palustris))))))))Poa);\\n((((Fuchsia_perscandens,Fuchsia_x_colensoi,Fuchsia_excorticata_3Table1,Fuchsia_excorticata_4Table1),Fuchsia_cyrtandroides),(Fuchsia_procumbens_x_excorticata,Fuchsia_procumbens)),(Fuchsia_paniculata,Fuchsia_boliviana));\\n((Triticum_searsii,Triticum_sharonense,Triticum_kotschyi,Triticum_syriacum,Triticum_longissimum,Triticum_bicorne),(Triticum_aestivum,(Triticum_timopheevii,Triticum_speltoides)));\\n(((((Robinsonia_gayana,Robinsonia_thurifera),(((Robinsonia_evenia_1,Robinsonia_evenia_2)Robinsonia_evenia,Robinsonia_masafuerae),Robinsonia_gracilis)),Robinsonia_berteroi)Robinsonia,Senecio_poeppigii),Senecio_glaber);\\n(((((((((Krigia_dandelion_1,Krigia_dandelion_2),(Krigia_virginica_d,Krigia_virginica_t)),Krigia_montana_t),(Krigia_biflora_d,Krigia_biflora_t)),((Krigia_occidentalis,(Krigia_cespitosa_1,Krigia_cespitosa_2,Krigia_cespitosa_3)),(Krigia_wrightii_1,Krigia_wrightii_2)))Krigia,Pyrrhopappus),(Agoseris,Microseris)),Stephanomeria),Lactuca);\\n(Retziaceae,(Scrophulariaceae,Buddlejaceae,((Globulariaceae,Selaginaceae),(Bignoniaceae,Myoporaceae,((Pedaliaceae,(Lentibulariaceae,(Martyniaceae,(Nelsoniaceae,Gesneriaceae)))),(Plantaginaceae,(Acanthaceae,(Thunbergiaceae,(Mendonciaceae,((Verbenaceae,Lamiaceae),(Phrymaceae,(Trapellaceae,(Hippuridaceae,(Callitrichaceae,Hydrostachyaceae))))))))))))))Lamiiflorae;\\n(Retziaceae,(Scrophulariaceae,((Bignoniaceae,Myoporaceae),(Globulariaceae,Selaginaceae),((Buddlejaceae,Gesneriaceae),(Plantaginaceae,((Pedaliaceae,(Lentibulariaceae,(Martyniaceae,Nelsoniaceae))),(Acanthaceae,(Thunbergiaceae,(Mendonciaceae,((Verbenaceae,Lamiaceae),(Phrymaceae,(Trapellaceae,(Hippuridaceae,(Callitrichaceae,Hydrostachyaceae))))))))))))));\\n(Retziaceae,(Scrophulariaceae,((Bignoniaceae,Myoporaceae),(Globulariaceae,Selaginaceae),((Buddlejaceae,Gesneriaceae),(Plantaginaceae,((Acanthaceae,(Pedaliaceae,(Lentibulariaceae,(Martyniaceae,Nelsoniaceae)))),(Thunbergiaceae,(Mendonciaceae,((Verbenaceae,Lamiaceae),(Phrymaceae,(Trapellaceae,(Hippuridaceae,(Callitrichaceae,Hydrostachyaceae)))))))))))));\\n(Retziaceae,(Bignoniaceae,Myoporaceae,Gesneriaceae,Buddlejaceae,Scrophulariaceae,Plantaginaceae,Lentibulariaceae,Pedaliaceae,Martyniaceae,Acanthaceae,Nelsoniaceae,(Globulariaceae,Selaginaceae),(Thunbergiaceae,(Mendonciaceae,((Verbenaceae,Lamiaceae),(Phrymaceae,(Trapellaceae,(Hippuridaceae,(Callitrichaceae,Hydrostachyaceae)))))))));\\n((Gamochaeta,((((Jalcophila_ecuadoriensis,Jalcophila_boliviensis),Jalcophil_peruviana)Jalcophila,((Cuatrecasasiella_isernii,Cuatrecasasiella_argentina)Cuatrecasasiella,(Chevreulia_diemii,Chevreulia_lycopodioides,(Chevreulia_pusilla,(Chevreulia_sarmentosa,Chevreulia_acuminata)))Chevreulia)),(Gamochaetopsis_alpina,(((((Luciliocline_burkartii,Luciliocline_subspicata),Luciliocline_catamarcensis),Luciliocline_lopezmirandae),Luciliocline_santanica)Luciliocline,(((((((Belloa_lehmanni,Belloa_kunthiana),Belloa_chilensis),Belloa_longifolia),Belloa_radians),(Belloa_pickeringii,(Belloa_piptolepis,Belloa_schultzii))),Belloa_plicatifolia)Belloa,((((Facelis_plumosa,Facelis_lasiocarpa),Facelis_retusa)Facelis,Berroa_gnaphalioides),(Lucilia_eriophora,((Lucilia_acutifolia,Lucilia_linearifolia),(Lucilia_ferruginea,Lucilia_tomentosa,(Lucilia_lycopodioides,Lucilia_nitens,Lucilia_recurva))))Lucilia))))))Lucilia_group);\\n(Conostylis_androstemma,(Blancoa_canescens,((Anigozanthos_humilis,(Anigozanthos_kalbarriensis,(Anigozanthos_manglesii,(Anigozanthos_bicolor,Anigozanthos_gabrielae,Anigozanthos_viridis)))),(((Anigozanthos_pulcherrimus,Anigozanthos_rufus),(Anigozanthos_flavidus,Macropidia_fuliginosa)),(Anigozanthos_onycis,Anigozanthos_preisii)))));\\n(Philyrophyllum,((Athrixia,Printzia),((Arrowsmithia,Macowania),(Phagnalon,((Denekia,Artemisiopsis),((Ixiolaena,Millotia),(((((((Metalasia,Atrichantha),(Phaenocoma,Dolichothrix)),(Elytropappus,Disparago)),Bryomorphe),(Antithrixia,(Oreoleysera,(Leysera,(Relhania,Rosenia)))))Relhaniinae,(Psychrophyton,(Pterygopappus,(Loricaria,Mniodes)))Loricariinae),((((((((Ewartia,Anaphalis),Antennaria),(Gnaphaliothamnus,Chionolaena)),Langebergia),(Anaxeton,Petalacte)),(Ozothamnus,(lxodia,Cassinia))),Raoulia)Cassiniinae,(Lawrencella,(Rhodanthe,(Craspedia,((Angianthus,Calocephalus),((Hyalosperma,Thiseltonia),(Rutidosis,(Chrysocephalum,(Gratwickia,(Asteridea,(Leptorhynchos,Podolepis))))))))))Angianthiinae),((Leontopodium,Leucogenes),((((Syncarpha,Edmondia),Helichrysopsis),(Helichrysum,Pseudognaphalium)),((Ifloga,Trichogyne),(((((Lucilia,Facelis),Belloa),Chevreulia),Gamochaeta),(Euchiton,(Gnaphalium,(Stuartina,(Filago,(Logfia,(Cymbolaena,Psilocarphus))))))))))Gnaphaliinae)))))));\\n(Philyrophyllum,((Athrixia,Printzia),((Arrowsmithia,Macowania),(Phagnalon,((Denekia,Artemisiopsis),((Ixiolaena,Millotia),(((((((Metalasia,Atrichantha),(Phaenocoma,Dolichothrix)),(Elytropappus,Disparago)),Bryomorphe),(Oreoleysera,(Leysera,(Rosenia,Relhania))),Antithrixia),(Psychrophyton,(Pterygopappus,(Loricaria,Mniodes)))),((Leontopodium,Leucogenes),((((Syncarpha,Edmondia),Helichrysopsis),(Helichrysum,Pseudognaphalium)),(Ifloga,Trichogyne),(((((Lucilia,Facelis),Belloa),Chevreulia),Gamochaeta),(Euchiton,(Gnaphalium,(Stuartina,(Filago,(Logfia,(Cymbolaena,Psilocarphus))))))))),(((((((Ewartia,Anaphalis),Antennaria),(Gnaphaliothamnus,Chionolaena)),Langebergia,Anaxeton,Petalacte),(Ozothamnus,(lxodia,Cassinia))),Raoulia),(Lawrencella,(Rhodanthe,(Craspedia,(Thiseltonia,Hyalosperma,(Angianthus,Calocephalus),(Rutidosis,(Chrysocephalum,(Gratwickia,(Asteridea,(Leptorhynchos,Podolepis)))))))))))))))));\\n(Ixiolaena,((Psychrophyton,(Pterygopappus,(Loricaria,(Sinoleontopodium,(Raouliopsis,Mniodes))))),(Antithrixia,(Oreoleysera,(Leysera,Rosenia,(Relhania,Oedera))),(Bryomorphe,(((Phaenocoma,Dolichothrix),Planea,Metalasia,Hydroidea,Atrichantha,Calotesta),(Lachnospermum,(Elytropappus,Stoebe,(Disparago,Amphiglossa))))))));\\n(Lawrencella,(Schoenia,(Bracteantha,(Erymophyllum,(Cephalipterum,(Rhodanthe,(Pithocarpa,((Quinqueremulus,Gilberta),((Craspedia,Neotysonia),((((Dithyrostegia,Polycalymma),Myriocephalus),Calomeria),((((((Gratwickia,Chrysocephalum),Waitzia),(Leptorhynchos,Podolepis,Asteridea)),Triptilodiscus),((Acomis,Rutidosis),(Bellida,Isoetopsis,Quinetia))),(((Hyalsperma,Thiseltonia),Gilruthia,Leucophyta,Actinobole),(Decazesia,(Siloxerus,(Chthonocephalus,(Pogonolepis,(Leptotriche,(Cephalosorus,Epitriche)),(Eriochlamys,(Hyalochlamys,Gnephosis)),(Pleuropappus,(Blennospora,(Calocephalus,Angianthus)))))))))))))))))));\\n(Lawrencella,(Argyroglottis,(Acanthocladium,(Raoulia,((Ammobium,Basedowia),(((((Apalochlamys,Haeckeria),(Ixodia,Odixia)),Ozothamnus),Cassinia),((Chionolaena,Gnaphaliothamnus),(Anaxeton,(Petalacte,(Langebergia,(Ewartiothamnus,(Ewartia,Antennaria,(Anaphalis,Anaphaloides)))))))))))));\\n(Ixiolaena,((Leontopodium,Leucogenes,Galeomma),(Syncephalum,(Stenocline,Catatia)),((Tenrhynea,Plechostachys),(Stenophalium,(Helichrysum,(Pseudognaphalium,Achyrocline)),(((Syncarpha,Edmondia),Helichrysopsis),((Ifloga,Trichogyne),(Lasiopogon,(Gamochaeta,Stuckertiella,Micropsis,(Lucilia,Belloa,(Chevreulia,Cuatrecasasiella),(Facelis,Berroa)),(Stuartina,(Euchiton,(Gnaphalium,(Troglophyton,Vellereophyton)))),(Filago,(Logfia,(Evacidium,(Bombycilaena,Cymbolaena,Micropus,(Psilocarphus,Stylocline,Ancistrocarphus)))))))))))));\\n(Arctotideae,(Anisopappus,((Anisopappus_smutsii,(Calostephane,(Geigeria,Ondetia))),((Xerolekia,(Buphthalmum,(Ighermia,(Asteriscus,Nauplius)))),((Rhanterium,Rhanteriopsis),(Telekia,(Anvillea,(Chrysophthalmum,((Amblyocarpum,Carpesium),(Pentanema,((Allagopappus,Vierea),(Varthemia,(Inula,(((Dittrichia,Duhaldea),(Blumea,(Pechuel.Loeschea,(Antiphiona,Pegolettia)))),(Limbarda,(Schizogyne,((Platychaete,Pulicaria,Sclerostephane),(Jasonia,(Chiliadenus,(Perralderia,(Grantia,(Hirschia,Iphiona))))))))))))))))))))));\\n(Arctotideae,(Anisopappus,(Anisopappus_smutsii,(Calostephane,(Geigeria,Ondetia)),((((Nauplius,Asteriscus),Ighermia),Buphthalmum),Xerolekia),(Rhanteriopsis,Rhanterium),Telekia,Anvillea,(Chrysophthalmum,(Inula,Limbarda,Pentanema,Varthemia,(Amblyocarpum,Carpesium),Allagopappus,Vierea,((Duhaldea,Dittrichia),(Blumea,(Pechuel.Loeschea,(Antiphiona,Pegolettia)))),(Schizogyne,((Sclerostephane,Pulicaria,Platychaete),(Jasonia,(Chiliadenus,(Perralderia,(Grantia,(Hirschia,Iphiona))))))))))));\\n(Arctotidinae,(Cylindrocline,((Thespidium,(Coleocoma,Delamerea)),(((Stenachaenium,Stenachaenium_campestre),(Neojeffreya,(Pterocaulon,Monenteles))),((Pseudoconyza,(Blumeopsis,(Laggera,Nicolasia)),(Doellia,Porphyrostemma)),((Streptoglossa,Karelinia,((Monarrhenus,Berthelotia_lanceolata),Tecmarsis_bojeri,(Pluchea_odorata,Tessaria))),((Merrittia,(Eyrea_dentex,Adelostigma)),(Epaltes,(Litogyne,(Triplocephalum,(Sphaeranthus,Pseudoblepharispermum)))))))))));\\n(Achnatherum,Ptilagrostis,(Stipa,Piptatherum),(Hesperostipa,Berriochloa,Piptochaetium,Nassella,Obtusae));\\n(Digitaleae,(((Nothobartsia,(((Odontites_s_str,Bornmuellerantha),Euphrasia),Omphalothrix),(Macrosyringion,Odontitella)),(Bartsia_{inc_Bellardia},Parentucellia)),Hedbergia));\\n(Astephanus,Microloma_poicilanthum,((Microloma_longitubum,Microloma_armatum),((Microloma_penicillatum,Microloma_incanum),((Microloma_hereroense,Microloma_calycinum),(Microloma_sagittatum,(Microloma_namaquense,Microloma_tenuifolium))))))Microloma;\\n(((Alsophila_abbottii,Alsophila_amintae,Alsophila_brooksii,Alsophila_bryophila,(Alsophila_fulgens,Alsophila_jimeneziana,Alsophila_woodwardioides),Alsophila_minor,Alsophila_portoricensis,Alsophila_urbanii),(((((Cnemidaria_horrida,Cyathea_andina),(Cyathea_arborea,Trichipteris_armata)),((Cyathea_caracasana,Cyathea_tenura),Cyathea_furfuracea)),(Cyathea_parvula,(Trichipteris_borinquena,Trichipteris_procera))),((Sphaeropteris_cooperi,Sphaeropteris_insignis),Sphaeropteris_medullaris))),Lophosoria_quadripinnata);\\n(Raphidophora,(Freycinetia,(Pandanus,Sararanga)));\\n(Balaka,(Freycinetia,(Pandanus,Sararanga)));\\n(Asplundia,(Freycinetia,(Pandanus,Sararanga)));\\n(Outgroup_to_Rudbeckiinae,(((Balsamorhiza,Helianthella),Wyethia),((Dracopis,Ratibida),((Echinacea,Rudbeckia_sect._Macrocline),(Rudbeckia_sect._Laciniata,Rudbeckia)))Rudbeckiinae));\\n(Outgroup_to_Rudbeckiinae,(((Viguiera,((Dracopis,((Echinacea,Rudbeckia_sect._Macrocline),(Rudbeckia,Rudbeckia_sect._Laciniata))),Ratibida)Rudbeckiinae),Helianthus),(Acmella,(((Balsamorhiza,Wyethia),Helianthella),Verbesina))Ecliptinae));\\n(Outgroup_to_Circaea,(Circaea_cordata,Circaea_glabrescens,((Circaea_mollis,Circaea_lutetiana_lutetiana,Circaea_lutetiana_canadensis,Circaea_lutetiana_quadrisulcata,Circaea_erubescens),(Circaea_repens,((((Circaea_alpina_alpina,Circaea_alpina_micrantha),Circaea_alpina_pacifica),Circaea_alpina_imaicola),Circaea_alpina_angustifolia,Circaea_alpina_caulescens)))));\\n(Outgroup_to_Circaea,((Circaea_cordata,Circaea_glabrescens),(((Circaea_mollis,(Circaea_lutetiana_canadensis,Circaea_lutetiana_quadrisulcata)),(Circaea_lutetiana_lutetiana,Circaea_erubescens)),(Circaea_repens,((((Circaea_alpina_alpina,Circaea_alpina_micrantha),Circaea_alpina_pacifica),Circaea_alpina_imaicola),Circaea_alpina_angustifolia,Circaea_alpina_caulescens)))));\\n(Outgroup_to_Circaea,(Circaea_cordata,(Circaea_glabrescens,((Circaea_mollis,(Circaea_lutetiana_lutetiana,((Circaea_lutetiana_canadensis,Circaea_lutetiana_quadrisulcata),Circaea_erubescens))),(Circaea_repens,((((Circaea_alpina_alpina,Circaea_alpina_micrantha),Circaea_alpina_pacifica),Circaea_alpina_imaicola),Circaea_alpina_angustifolia,Circaea_alpina_caulescens))))));\\n(Outgroup_to_Circaea,(Circaea_cordata,(Circaea_glabrescens,((Circaea_mollis,(((Circaea_lutetiana_lutetiana,Circaea_erubescens),Circaea_lutetiana_quadrisulcata),Circaea_lutetiana_canadensis)),(Circaea_repens,((((Circaea_alpina_alpina,Circaea_alpina_micrantha),Circaea_alpina_pacifica),Circaea_alpina_imaicola),Circaea_alpina_angustifolia,Circaea_alpina_caulescens))))));\\n(Outgroup_to_Circaea,(Circaea_cordata,(Circaea_glabrescens,(((Circaea_mollis,(Circaea_lutetiana_canadensis,(Circaea_lutetiana_quadrisulcata,Circaea_erubescens))),Circaea_lutetiana_lutetiana),(Circaea_repens,((((Circaea_alpina_alpina,Circaea_alpina_micrantha),Circaea_alpina_pacifica),Circaea_alpina_imaicola),Circaea_alpina_angustifolia,Circaea_alpina_caulescens))))));\\n(Erysimum_gomezcampoi,(Erysimum_linifolium,(Erysimum_lagascae,(Erysimum_baeticum,(Erysimum_popovii,Erysimum_cazorlense)))));\\n(Outgroup_to_Circaea,(Circaea_cordata,(Circaea_glabrescens,(((((Circaea_mollis,Circaea_lutetiana_canadensis),Circaea_lutetiana_quadrisulcata),Circaea_erubescens),Circaea_lutetiana_lutetiana),(Circaea_repens,((((Circaea_alpina_alpina,Circaea_alpina_micrantha),Circaea_alpina_pacifica),Circaea_alpina_imaicola),Circaea_alpina_angustifolia,Circaea_alpina_caulescens))))));\\n((((Tillandsia,Vriesea),(Catopsis,((Guzmania,Mezobromelia),Glomeropitcairnia))),Aechmea),Vellozia);\\n(Outgroup_to_Circaea,(Circaea_cordata,(Circaea_glabrescens,(((Circaea_mollis,Circaea_lutetiana_canadensis),(Circaea_lutetiana_lutetiana,(Circaea_lutetiana_quadrisulcata,Circaea_erubescens))),(Circaea_repens,((((Circaea_alpina_alpina,Circaea_alpina_micrantha),Circaea_alpina_pacifica),Circaea_alpina_imaicola),Circaea_alpina_angustifolia,Circaea_alpina_caulescens))))));\\n(Savannosiphon,((Lapeirousia,Sophronia),(Fastigiata,(Lapeirousia_coerulea,Lapeirousia_avasmontana,(Lapeirousia_setifolia,Lapeirousia_abyssinica,(Lapeirousia_angolensis,Lapeirousia_teretifolia),Lapeirousia_erythrantha,Lapeirousia_rivularis,(Lapeirousia_masukuensis,Lapeirousia_sandersonii),(Lapeirousia_gracilis,(Lapeirousia_otaviensis,Lapeirousia_bainesii,Lapeirousia_schimperi))))Paniculata)));\\n(Outgroup_to_Circaea,(Circaea_cordata,(Circaea_glabrescens,(((Circaea_mollis,(Circaea_lutetiana_canadensis,Circaea_lutetiana_quadrisulcata)),(Circaea_lutetiana_lutetiana,Circaea_erubescens)),(Circaea_repens,((((Circaea_alpina_alpina,Circaea_alpina_micrantha),Circaea_alpina_pacifica),Circaea_alpina_imaicola),Circaea_alpina_angustifolia,Circaea_alpina_caulescens))))));\\n(Libertia,((Orthrosanthus,Tapeinia),((Solenomelus_segethii,Solenomelus_pedunculatus),(((Sisyrinchium_spicatum,Sisyrinchium_sect._Echthronema),Sisyrinchium_sect._Sisyrinchium),(Sisyrinchium_sect._Eriphilema,(Ona,Phaiophleps,Chamelum))))));\\n(Outgroup_to_Circaea,((Circaea_cordata,((Circaea_mollis,(Circaea_lutetiana_lutetiana,((Circaea_lutetiana_canadensis,Circaea_lutetiana_quadrisulcata),Circaea_erubescens))),(Circaea_repens,((((Circaea_alpina_alpina,Circaea_alpina_micrantha),Circaea_alpina_pacifica),Circaea_alpina_imaicola),Circaea_alpina_angustifolia,Circaea_alpina_caulescens)))),Circaea_glabrescens));\\n(Ludwigia_peploides,((Oenothera_biennis,((Fuschia_x_triphylla,Hauya_heydeana),((Epilobium_ciliatum,Epilobium_hirsutum),((Epilobium_pallidiflorum,Epilobium_billardierianum,Epilobium_royleanum),Epilobium_melanocaulon)))),Circaea_cordata));\\n((((((Cullen_corylifolia,Bituminaria_bituminosa),(((Psoralea_argophyllum,Psoralea_linearifolium,Psoralea_digitatum),(Psoralea_esculentum,Psoralea_canescens,Psoralea_aromaticum,Psoralea_reverchonii,Psoralea_latestipulatum,Psoralea_cuspidatum,Psoralea_cyphocalyx),((Psoralea_megalanthum,Psoralea_mephiticum,Psoralea_californicum,Psoralea_hypogaeum,Psoralea_subacaule,Psoralea_pariense),Psoralea_humile,(Psoralea_castoreum,Psoralea_pentaphyllum))),(Psoralea_rhombifolia,Psoralea_palmeri))Pediomelum),(Psoralea_lanceolatum,Psoralea_junceum,Psoralea_tenuiflorum)Psoralidium,(Psoralea_physodes,Psoralea_rigida,Psoralea_hallii)Rupertia),(Psoralea_orbicularis,(Psoralea_macrostachya,Psoralea_stroblina))Hoita,((Psoralea_lupinellus,(Psoralea_macrophylla,Psoralea_onobrychis,Psoralea_melanocarpum,Psoralea_stipulatum)),Psoralea_virgatum,(Psoralea_pedunculatum,Psoralea_simplex))Orbexilum),(Otholobium_caffrum,(Psoralea_mexicana,Psoralea_brachystachya,Psoralea_holoserica),(Psoralea_munyense,Psoralea_pubescens),Psoralea_higuerella,(Psoralea_glandulosa,Psoralea_diffidens))Otholobium,Psoralea_pinnata),Outgroup_to_Psoraleeae);\\n(Outgroup_to_Circaea,((Circaea_cordata,((Circaea_mollis,(((Circaea_lutetiana_lutetiana,Circaea_erubescens),Circaea_lutetiana_quadrisulcata),Circaea_lutetiana_canadensis)),(Circaea_repens,((((Circaea_alpina_alpina,Circaea_alpina_micrantha),Circaea_alpina_pacifica),Circaea_alpina_imaicola),Circaea_alpina_angustifolia,Circaea_alpina_caulescens)))),Circaea_glabrescens));\\n(Ludwigia_peploides,((Oenothera_biennis,((Fuschia_x_triphylla,Hauya_heydeana),(((Epilobium_ciliatum,Epilobium_royleanum),Epilobium_hirsutum),((Epilobium_pallidiflorum,Epilobium_billardierianum),Epilobium_melanocaulon)))),Circaea_cordata));\\n(Aquifoliaceae,(Bruniaceae,Pittosporaceae,Araliaceae,(Escalloniaceae,Griseliniaceae,(Sambucaceae,Viburnaceae),Argophyllaceae,Menyanthaceae,(Asteraceae,Calyceraceae,Brunoniaceae,Goodeniaceae),Pentaphragmataceae,Sphenocleaceae,Donatiaceae,Stylidiaceae,(Campanulaceae,Nemacladaceae,Cyphiaceae,(Cyphocarpaceae,Lobeliaceae)))));\\n(Outgroup_to_Circaea,((Circaea_cordata,(((((Circaea_mollis,Circaea_lutetiana_canadensis),Circaea_lutetiana_quadrisulcata),Circaea_erubescens),Circaea_lutetiana_lutetiana),(Circaea_repens,((((Circaea_alpina_alpina,Circaea_alpina_micrantha),Circaea_alpina_pacifica),Circaea_alpina_imaicola),Circaea_alpina_angustifolia,Circaea_alpina_caulescens)))),Circaea_glabrescens));\\n(Ludwigia_peploides,((((Oenothera_biennis,((Epilobium_ciliatum,Epilobium_hirsutum),((Epilobium_pallidiflorum,Epilobium_billardierianum,Epilobium_royleanum),Epilobium_melanocaulon))),Hauya_heydeana),Fuschia_x_triphylla),Circaea_cordata));\\n(Aquifoliaceae,(Bruniaceae,(Pittosporaceae,(Araliaceae,(Escalloniaceae,(Griseliniaceae,((Sambucaceae,Viburnaceae),(Argophyllaceae,((Menyanthaceae,(Asteraceae,Calyceraceae,(Brunoniaceae,Goodeniaceae))),(Pentaphragmataceae,((Sphenocleaceae,(Donatiaceae,Stylidiaceae)),(Campanulaceae,(Nemacladaceae,Cyphiaceae,(Cyphocarpaceae,Lobeliaceae))))))))))))));\\n(Outgroup_to_Circaea,((Circaea_cordata,(((Circaea_mollis,(Circaea_lutetiana_canadensis,(Circaea_lutetiana_quadrisulcata,Circaea_erubescens))),Circaea_lutetiana_lutetiana),(Circaea_repens,((((Circaea_alpina_alpina,Circaea_alpina_micrantha),Circaea_alpina_pacifica),Circaea_alpina_imaicola),Circaea_alpina_angustifolia,Circaea_alpina_caulescens)))),Circaea_glabrescens));\\n(Ludwigia_peploides,((((Oenothera_biennis,(((Epilobium_ciliatum,Epilobium_royleanum),Epilobium_hirsutum),((Epilobium_pallidiflorum,Epilobium_billardierianum),Epilobium_melanocaulon))),Hauya_heydeana),Fuschia_x_triphylla),Circaea_cordata));\\n(Aquifoliaceae,(Bruniaceae,(Pittosporaceae,(Araliaceae,(Escalloniaceae,(Griseliniaceae,((Sambucaceae,Viburnaceae),(Argophyllaceae,((Menyanthaceae,((Asteraceae,Calyceraceae),(Brunoniaceae,Goodeniaceae))),(Pentaphragmataceae,((Sphenocleaceae,(Donatiaceae,Stylidiaceae)),(Campanulaceae,(Nemacladaceae,(Cyphiaceae,(Cyphocarpaceae,Lobeliaceae)))))))))))))));\\n(Outgroup_to_Circaea,((Circaea_cordata,(((Circaea_mollis,Circaea_lutetiana_canadensis),(Circaea_lutetiana_lutetiana,(Circaea_lutetiana_quadrisulcata,Circaea_erubescens))),(Circaea_repens,((((Circaea_alpina_alpina,Circaea_alpina_micrantha),Circaea_alpina_pacifica),Circaea_alpina_imaicola),Circaea_alpina_angustifolia,Circaea_alpina_caulescens)))),Circaea_glabrescens));\\n(Ludwigia_peploides,(((Fuschia_x_triphylla,Hauya_heydeana),(Oenothera_biennis,(((Epilobium_ciliatum,Epilobium_royleanum),Epilobium_hirsutum),((Epilobium_pallidiflorum,Epilobium_billardierianum),Epilobium_melanocaulon)))),Circaea_cordata));\\n(Cyclanthus,(((Asplundia,Thoracocarpus),(((Carludovica,(Evodianthus,Dianthoveus)),Schultesiophytum),Dicranopygium)),(Ludovia,(Sphaeradenia,Stelestylis))));\\n(Outgroup_to_Circaea,((Circaea_cordata,(((Circaea_mollis,(Circaea_lutetiana_canadensis,Circaea_lutetiana_quadrisulcata)),(Circaea_lutetiana_lutetiana,Circaea_erubescens)),(Circaea_repens,((((Circaea_alpina_alpina,Circaea_alpina_micrantha),Circaea_alpina_pacifica),Circaea_alpina_imaicola),Circaea_alpina_angustifolia,Circaea_alpina_caulescens)))),Circaea_glabrescens));\\n(Ludwigia_peploides,(((Epilobium_hirsutum,(Epilobium_ciliatum,(Epilobium_royleanum,(Epilobium_melanocaulon,Epilobium_billardierianum,Epilobium_pallidiflorum)))),Oenothera_biennis),((Fuschia_x_triphylla,Hauya_heydeana),Circaea_cordata)));\\n(Gamochaeta,((((Jalcophila_boliviensis,Jalcophila_ecuadoriensis),Jalcophil_peruviana),((Cuatrecasasiella_argentina,Cuatrecasasiella_isernii),(Chevreulia_diemii,Chevreulia_lycopodioides,(Chevreulia_pusilla,(Chevreulia_sarmentosa,Chevreulia_acuminata))))),(Gamochaetopsis_alpina,(((Luciliocline_subspicata,Luciliocline_lopezmirandae,Luciliocline_catamarcensis,Luciliocline_burkartii),Luciliocline_santanica),((((((Belloa_kunthiana,Belloa_lehmanni),Belloa_chilensis),Belloa_radians,Belloa_longifolia),(Belloa_pickeringii,(Belloa_piptolepis,Belloa_schultzii))),Belloa_plicatifolia),((((Facelis_lasiocarpa,Facelis_plumosa),Facelis_retusa),Berroa_gnaphalioides),(Lucilia_eriophora,((Lucilia_linearifolia,Lucilia_acutifolia),(Lucilia_ferruginea,Lucilia_tomentosa,(Lucilia_lycopodioides,Lucilia_nitens,Lucilia_recurva))))))))));\\n(Lulia,Trichocline_s.str.,((Trichocline_spathulata,((Gerbera_hieracioides,(Perdicium,(Parva,(((Lasiopus,Pseudoseris),Piloselloides),Chaptalia)),Leibnitzia)),Gerbera)),Uechtritzia,Isanthus));\\n(Outgroup_to_Circaea,((Circaea_cordata,Circaea_glabrescens),((Circaea_mollis,(Circaea_lutetiana_lutetiana,((Circaea_lutetiana_canadensis,Circaea_lutetiana_quadrisulcata),Circaea_erubescens))),(Circaea_repens,((((Circaea_alpina_alpina,Circaea_alpina_micrantha),Circaea_alpina_pacifica),Circaea_alpina_imaicola),Circaea_alpina_angustifolia,Circaea_alpina_caulescens)))));\\n(Ludwigia_peploides,(((Epilobium_melanocaulon,(Epilobium_billardierianum,Epilobium_pallidiflorum,(Epilobium_royleanum,(Epilobium_ciliatum,Epilobium_hirsutum)))),Oenothera_biennis),((Fuschia_x_triphylla,Hauya_heydeana),Circaea_cordata)));\\n(Gamochaeta,((((Jalcophila_boliviensis,Jalcophila_ecuadoriensis),Jalcophil_peruviana),((Cuatrecasasiella_argentina,Cuatrecasasiella_isernii),(Chevreulia_diemii,Chevreulia_lycopodioides,(Chevreulia_pusilla,(Chevreulia_sarmentosa,Chevreulia_acuminata))))),(Gamochaetopsis_alpina,(((Luciliocline_subspicata,Luciliocline_lopezmirandae,Luciliocline_catamarcensis,Luciliocline_burkartii),Luciliocline_santanica),(((((Belloa_kunthiana,Belloa_lehmanni),Belloa_chilensis),Belloa_radians,Belloa_longifolia,Belloa_schultzii,Belloa_piptolepis,Belloa_pickeringii),Belloa_plicatifolia),((((Facelis_lasiocarpa,Facelis_plumosa),Facelis_retusa),Berroa_gnaphalioides),(Lucilia_eriophora,((Lucilia_linearifolia,Lucilia_acutifolia),((Lucilia_tomentosa,Lucilia_ferruginea),(Lucilia_lycopodioides,Lucilia_nitens,Lucilia_recurva))))))))));\\n(Outgroup_to_Amentiferae,((Cunonia,Ceratopetalum),(Acsmithia,(((((Pterocarya,Platycarya),Davidsonia),Rhoiptelea),Brunellia),(Nothofagus_{1},((((Alnus_{2\\x7f},Alnus_{1}),(Castanea,Castanopsis)),(Canacomyrica,Myrica)),(Nothofagus_{2},(Fagopsis\\x7f,Ticodendron))))))));\\n'"
      ]
     },
     "execution_count": 14,
     "metadata": {},
     "output_type": "execute_result"
    }
   ],
   "source": [
    "with open(\"handins/handin1/newick.tre\", \"r\") as f:\n",
    "    tree_str = f.read()\n",
    "\n",
    "tree_str"
   ]
  },
  {
   "cell_type": "code",
   "execution_count": 49,
   "metadata": {},
   "outputs": [
    {
     "name": "stdout",
     "output_type": "stream",
     "text": [
      "There are in total: 101 phylogenetic trees\n"
     ]
    }
   ],
   "source": [
    "n_trees = [x + \";\" for x in tree_str.split(\";\")]\n",
    "print(f\"There are in total: {len(n_trees)} phylogenetic trees\")"
   ]
  },
  {
   "cell_type": "code",
   "execution_count": 59,
   "metadata": {},
   "outputs": [
    {
     "name": "stdout",
     "output_type": "stream",
     "text": [
      "True\n",
      "True\n",
      "True\n",
      "True\n",
      "True\n",
      "True\n",
      "True\n",
      "True\n",
      "True\n",
      "True\n",
      "True\n",
      "True\n",
      "True\n",
      "True\n",
      "True\n",
      "True\n",
      "True\n",
      "True\n",
      "True\n",
      "True\n",
      "True\n",
      "True\n",
      "True\n",
      "True\n",
      "True\n",
      "True\n",
      "True\n",
      "True\n",
      "True\n",
      "True\n",
      "True\n",
      "True\n",
      "True\n",
      "True\n",
      "True\n",
      "True\n",
      "True\n",
      "True\n",
      "True\n",
      "True\n",
      "True\n",
      "True\n",
      "True\n",
      "True\n",
      "True\n",
      "True\n",
      "True\n",
      "True\n",
      "True\n",
      "True\n",
      "True\n",
      "True\n",
      "True\n",
      "True\n",
      "True\n",
      "True\n",
      "True\n",
      "True\n",
      "True\n",
      "True\n",
      "True\n",
      "True\n",
      "True\n",
      "True\n",
      "True\n",
      "True\n",
      "True\n",
      "True\n",
      "True\n",
      "True\n",
      "True\n",
      "True\n",
      "True\n",
      "True\n",
      "True\n",
      "True\n",
      "True\n",
      "True\n",
      "True\n",
      "True\n",
      "True\n",
      "True\n",
      "True\n",
      "True\n",
      "True\n",
      "True\n",
      "True\n",
      "True\n",
      "True\n",
      "True\n",
      "True\n",
      "True\n",
      "True\n",
      "True\n",
      "True\n",
      "True\n",
      "True\n",
      "True\n",
      "True\n",
      "True\n",
      "True\n"
     ]
    }
   ],
   "source": [
    "# get the number of rooted and unrotted trees\n",
    "for t in n_trees:\n",
    "    tree = Tree(t, format=8)\n",
    "    tree.\n",
    "    #print(tree)\n",
    "    break"
   ]
  },
  {
   "cell_type": "code",
   "execution_count": null,
   "metadata": {},
   "outputs": [],
   "source": [
    "# ete3 is for dealing with phylogenetic trees. This can be used to parse the file. Then we need to make it into a graph representation\n",
    "# pip install ete3\n",
    "# also we should visualise the graph in some way."
   ]
  }
 ],
 "metadata": {
  "kernelspec": {
   "display_name": "BSG",
   "language": "python",
   "name": "python3"
  },
  "language_info": {
   "codemirror_mode": {
    "name": "ipython",
    "version": 3
   },
   "file_extension": ".py",
   "mimetype": "text/x-python",
   "name": "python",
   "nbconvert_exporter": "python",
   "pygments_lexer": "ipython3",
   "version": "3.11.4"
  },
  "orig_nbformat": 4
 },
 "nbformat": 4,
 "nbformat_minor": 2
}

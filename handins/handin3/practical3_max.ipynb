{
 "cells": [
  {
   "cell_type": "code",
   "execution_count": 1,
   "metadata": {},
   "outputs": [
    {
     "data": {
      "text/plain": [
       "[[0, 1, 2, 3, 3, 3, 4, 4, 4, 4],\n",
       " [1, 0, 2, 3, 3, 3, 4, 4, 4, 4],\n",
       " [2, 2, 0, 3, 3, 3, 4, 4, 4, 4],\n",
       " [3, 3, 3, 0, 1, 2, 4, 4, 4, 4],\n",
       " [3, 3, 3, 1, 0, 2, 4, 4, 4, 4],\n",
       " [3, 3, 3, 2, 2, 0, 4, 4, 4, 4],\n",
       " [4, 4, 4, 4, 4, 4, 0, 1, 2, 2],\n",
       " [4, 4, 4, 4, 4, 4, 1, 0, 2, 2],\n",
       " [4, 4, 4, 4, 4, 4, 2, 2, 0, 1],\n",
       " [4, 4, 4, 4, 4, 4, 2, 2, 1, 0]]"
      ]
     },
     "execution_count": 1,
     "metadata": {},
     "output_type": "execute_result"
    }
   ],
   "source": [
    "from itertools import combinations\n",
    "\n",
    "def read_matrix(file_name):\n",
    "    with open(file_name, \"r\") as f:\n",
    "        lines = f.readlines()\n",
    "    matrix = []\n",
    "    for line in lines:\n",
    "        row = list(line.strip().split())\n",
    "        matrix.append(row)\n",
    "    for i, row in enumerate(matrix):\n",
    "        matrix[i] = [int(a) for a in row]\n",
    "    return matrix\n",
    "\n",
    "m = read_matrix('handins/handin3/ultrametric.txt')\n",
    "m"
   ]
  },
  {
   "cell_type": "code",
   "execution_count": 15,
   "metadata": {},
   "outputs": [
    {
     "data": {
      "text/plain": [
       "[[0, 16, 16, 28, 28],\n",
       " [16, 0, 4, 28, 28],\n",
       " [16, 4, 0, 28, 28],\n",
       " [28, 28, 28, 0, 20],\n",
       " [28, 28, 28, 20, 0]]"
      ]
     },
     "execution_count": 15,
     "metadata": {},
     "output_type": "execute_result"
    }
   ],
   "source": [
    "m_wiki = [[0, 16, 16, 28, 28], [16, 0, 4, 28, 28], [16, 4, 0, 28, 28], [28, 28, 28, 0, 20], [28, 28, 28, 20, 0]]\n",
    "m_wiki"
   ]
  },
  {
   "cell_type": "markdown",
   "metadata": {},
   "source": [
    "# Additive"
   ]
  },
  {
   "cell_type": "code",
   "execution_count": 18,
   "metadata": {},
   "outputs": [
    {
     "data": {
      "text/plain": [
       "[[0, 3, 3, 4, 5, 6, 7, 7],\n",
       " [3, 0, 4, 5, 6, 7, 8, 8],\n",
       " [3, 4, 0, 3, 4, 5, 6, 6],\n",
       " [4, 5, 3, 0, 3, 4, 5, 5],\n",
       " [5, 6, 4, 3, 0, 3, 4, 4],\n",
       " [6, 7, 5, 4, 3, 0, 3, 3],\n",
       " [7, 8, 6, 5, 4, 3, 0, 2],\n",
       " [7, 8, 6, 5, 4, 3, 2, 0]]"
      ]
     },
     "execution_count": 18,
     "metadata": {},
     "output_type": "execute_result"
    }
   ],
   "source": [
    "m = read_matrix(\"handins/handin3/additive.txt\")\n",
    "m"
   ]
  },
  {
   "cell_type": "code",
   "execution_count": 29,
   "metadata": {},
   "outputs": [
    {
     "data": {
      "text/plain": [
       "True"
      ]
     },
     "execution_count": 29,
     "metadata": {},
     "output_type": "execute_result"
    }
   ],
   "source": [
    "def is_additive(matrix):\n",
    "    n = len(matrix)\n",
    "    \n",
    "    # check every quadruplet\n",
    "    for i in range(n):\n",
    "        for j in range(n):\n",
    "            for k in range(n):\n",
    "                for l in range(n):\n",
    "                    equal_count = 0 # equal to largest count\n",
    "\n",
    "                    sum_1 = matrix[i][j] + matrix[k][l]\n",
    "                    sum_2 = matrix[i][k] + matrix[j][l]\n",
    "                    sum_3 = matrix[i][l] + matrix[j][k]\n",
    "                    \n",
    "                    largest = max(\n",
    "                        sum_1, sum_2, sum_3\n",
    "                    )\n",
    "\n",
    "                    if sum_1 == largest:\n",
    "                        equal_count += 1\n",
    "                    if sum_2 == largest:\n",
    "                        equal_count += 1\n",
    "                    if sum_3 == largest:\n",
    "                        equal_count += 1\n",
    "\n",
    "                    if equal_count < 2:\n",
    "                        return False\n",
    "    return True\n",
    "\n",
    "is_additive(m)"
   ]
  },
  {
   "cell_type": "code",
   "execution_count": 32,
   "metadata": {},
   "outputs": [
    {
     "data": {
      "text/plain": [
       "True"
      ]
     },
     "execution_count": 32,
     "metadata": {},
     "output_type": "execute_result"
    }
   ],
   "source": [
    "m_wiki1 = [\n",
    "    [0, 11, 10, 9, 15],\n",
    "    [11, 0, 3, 12, 18],\n",
    "    [10, 3, 0, 11, 17],\n",
    "    [9, 12, 11, 0, 8],\n",
    "    [15, 18, 17, 8, 0],\n",
    "]\n",
    "is_additive(m_wiki1)"
   ]
  },
  {
   "cell_type": "markdown",
   "metadata": {},
   "source": [
    "running time of script is $O(n^4)$ because we have 4 nested loops, with a constant time operations in each iteration."
   ]
  },
  {
   "cell_type": "markdown",
   "metadata": {},
   "source": [
    "the best running time is $O(n^4)$"
   ]
  }
 ],
 "metadata": {
  "kernelspec": {
   "display_name": "BSG",
   "language": "python",
   "name": "python3"
  },
  "language_info": {
   "codemirror_mode": {
    "name": "ipython",
    "version": 3
   },
   "file_extension": ".py",
   "mimetype": "text/x-python",
   "name": "python",
   "nbconvert_exporter": "python",
   "pygments_lexer": "ipython3",
   "version": "3.11.4"
  },
  "orig_nbformat": 4
 },
 "nbformat": 4,
 "nbformat_minor": 2
}

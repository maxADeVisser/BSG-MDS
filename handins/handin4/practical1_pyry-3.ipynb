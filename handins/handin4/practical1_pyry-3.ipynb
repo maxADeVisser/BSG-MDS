{
 "cells": [
  {
   "cell_type": "code",
   "execution_count": 1,
   "metadata": {},
   "outputs": [],
   "source": [
    "import networkx as nx\n",
    "import pandas as pd\n",
    "from tqdm import tqdm\n",
    "from IPython.display import display"
   ]
  },
  {
   "cell_type": "code",
   "execution_count": 2,
   "metadata": {},
   "outputs": [],
   "source": [
    "data_path = \"./nodes.dmp\"\n",
    "\n",
    "re_expression = \"[|\\t]+\"\n",
    "\n",
    "# only read the first three columns\n",
    "df = pd.read_csv(\n",
    "    data_path, sep=re_expression, header=None, engine=\"python\", usecols=[0, 1, 2]\n",
    ")\n",
    "\n",
    "df.columns = [\"Parent Node ID\", \"Node ID\", \"rank\"]"
   ]
  },
  {
   "cell_type": "code",
   "execution_count": 3,
   "metadata": {},
   "outputs": [
    {
     "data": {
      "text/html": [
       "<div>\n",
       "<style scoped>\n",
       "    .dataframe tbody tr th:only-of-type {\n",
       "        vertical-align: middle;\n",
       "    }\n",
       "\n",
       "    .dataframe tbody tr th {\n",
       "        vertical-align: top;\n",
       "    }\n",
       "\n",
       "    .dataframe thead th {\n",
       "        text-align: right;\n",
       "    }\n",
       "</style>\n",
       "<table border=\"1\" class=\"dataframe\">\n",
       "  <thead>\n",
       "    <tr style=\"text-align: right;\">\n",
       "      <th></th>\n",
       "      <th>Parent Node ID</th>\n",
       "      <th>Node ID</th>\n",
       "      <th>rank</th>\n",
       "    </tr>\n",
       "  </thead>\n",
       "  <tbody>\n",
       "    <tr>\n",
       "      <th>0</th>\n",
       "      <td>1</td>\n",
       "      <td>1</td>\n",
       "      <td>no rank</td>\n",
       "    </tr>\n",
       "    <tr>\n",
       "      <th>1</th>\n",
       "      <td>2</td>\n",
       "      <td>131567</td>\n",
       "      <td>superkingdom</td>\n",
       "    </tr>\n",
       "    <tr>\n",
       "      <th>2</th>\n",
       "      <td>6</td>\n",
       "      <td>335928</td>\n",
       "      <td>genus</td>\n",
       "    </tr>\n",
       "    <tr>\n",
       "      <th>3</th>\n",
       "      <td>7</td>\n",
       "      <td>6</td>\n",
       "      <td>species</td>\n",
       "    </tr>\n",
       "    <tr>\n",
       "      <th>4</th>\n",
       "      <td>9</td>\n",
       "      <td>32199</td>\n",
       "      <td>species</td>\n",
       "    </tr>\n",
       "    <tr>\n",
       "      <th>5</th>\n",
       "      <td>10</td>\n",
       "      <td>1706371</td>\n",
       "      <td>genus</td>\n",
       "    </tr>\n",
       "    <tr>\n",
       "      <th>6</th>\n",
       "      <td>11</td>\n",
       "      <td>1707</td>\n",
       "      <td>species</td>\n",
       "    </tr>\n",
       "    <tr>\n",
       "      <th>7</th>\n",
       "      <td>13</td>\n",
       "      <td>203488</td>\n",
       "      <td>genus</td>\n",
       "    </tr>\n",
       "    <tr>\n",
       "      <th>8</th>\n",
       "      <td>14</td>\n",
       "      <td>13</td>\n",
       "      <td>species</td>\n",
       "    </tr>\n",
       "    <tr>\n",
       "      <th>9</th>\n",
       "      <td>16</td>\n",
       "      <td>32011</td>\n",
       "      <td>genus</td>\n",
       "    </tr>\n",
       "    <tr>\n",
       "      <th>10</th>\n",
       "      <td>17</td>\n",
       "      <td>16</td>\n",
       "      <td>species</td>\n",
       "    </tr>\n",
       "    <tr>\n",
       "      <th>11</th>\n",
       "      <td>18</td>\n",
       "      <td>213421</td>\n",
       "      <td>genus</td>\n",
       "    </tr>\n",
       "    <tr>\n",
       "      <th>12</th>\n",
       "      <td>19</td>\n",
       "      <td>2812025</td>\n",
       "      <td>species</td>\n",
       "    </tr>\n",
       "    <tr>\n",
       "      <th>13</th>\n",
       "      <td>20</td>\n",
       "      <td>76892</td>\n",
       "      <td>genus</td>\n",
       "    </tr>\n",
       "    <tr>\n",
       "      <th>14</th>\n",
       "      <td>21</td>\n",
       "      <td>20</td>\n",
       "      <td>species</td>\n",
       "    </tr>\n",
       "    <tr>\n",
       "      <th>15</th>\n",
       "      <td>22</td>\n",
       "      <td>267890</td>\n",
       "      <td>genus</td>\n",
       "    </tr>\n",
       "    <tr>\n",
       "      <th>16</th>\n",
       "      <td>23</td>\n",
       "      <td>22</td>\n",
       "      <td>species</td>\n",
       "    </tr>\n",
       "    <tr>\n",
       "      <th>17</th>\n",
       "      <td>24</td>\n",
       "      <td>22</td>\n",
       "      <td>species</td>\n",
       "    </tr>\n",
       "    <tr>\n",
       "      <th>18</th>\n",
       "      <td>25</td>\n",
       "      <td>22</td>\n",
       "      <td>species</td>\n",
       "    </tr>\n",
       "    <tr>\n",
       "      <th>19</th>\n",
       "      <td>27</td>\n",
       "      <td>49928</td>\n",
       "      <td>species</td>\n",
       "    </tr>\n",
       "    <tr>\n",
       "      <th>20</th>\n",
       "      <td>28</td>\n",
       "      <td>49928</td>\n",
       "      <td>species</td>\n",
       "    </tr>\n",
       "    <tr>\n",
       "      <th>21</th>\n",
       "      <td>29</td>\n",
       "      <td>28221</td>\n",
       "      <td>order</td>\n",
       "    </tr>\n",
       "    <tr>\n",
       "      <th>22</th>\n",
       "      <td>31</td>\n",
       "      <td>80811</td>\n",
       "      <td>family</td>\n",
       "    </tr>\n",
       "    <tr>\n",
       "      <th>23</th>\n",
       "      <td>32</td>\n",
       "      <td>31</td>\n",
       "      <td>genus</td>\n",
       "    </tr>\n",
       "    <tr>\n",
       "      <th>24</th>\n",
       "      <td>33</td>\n",
       "      <td>32</td>\n",
       "      <td>species</td>\n",
       "    </tr>\n",
       "    <tr>\n",
       "      <th>25</th>\n",
       "      <td>34</td>\n",
       "      <td>32</td>\n",
       "      <td>species</td>\n",
       "    </tr>\n",
       "    <tr>\n",
       "      <th>26</th>\n",
       "      <td>35</td>\n",
       "      <td>83461</td>\n",
       "      <td>species</td>\n",
       "    </tr>\n",
       "    <tr>\n",
       "      <th>27</th>\n",
       "      <td>38</td>\n",
       "      <td>47</td>\n",
       "      <td>species</td>\n",
       "    </tr>\n",
       "    <tr>\n",
       "      <th>28</th>\n",
       "      <td>39</td>\n",
       "      <td>80811</td>\n",
       "      <td>family</td>\n",
       "    </tr>\n",
       "    <tr>\n",
       "      <th>29</th>\n",
       "      <td>40</td>\n",
       "      <td>39</td>\n",
       "      <td>genus</td>\n",
       "    </tr>\n",
       "  </tbody>\n",
       "</table>\n",
       "</div>"
      ],
      "text/plain": [
       "    Parent Node ID  Node ID          rank\n",
       "0                1        1       no rank\n",
       "1                2   131567  superkingdom\n",
       "2                6   335928         genus\n",
       "3                7        6       species\n",
       "4                9    32199       species\n",
       "5               10  1706371         genus\n",
       "6               11     1707       species\n",
       "7               13   203488         genus\n",
       "8               14       13       species\n",
       "9               16    32011         genus\n",
       "10              17       16       species\n",
       "11              18   213421         genus\n",
       "12              19  2812025       species\n",
       "13              20    76892         genus\n",
       "14              21       20       species\n",
       "15              22   267890         genus\n",
       "16              23       22       species\n",
       "17              24       22       species\n",
       "18              25       22       species\n",
       "19              27    49928       species\n",
       "20              28    49928       species\n",
       "21              29    28221         order\n",
       "22              31    80811        family\n",
       "23              32       31         genus\n",
       "24              33       32       species\n",
       "25              34       32       species\n",
       "26              35    83461       species\n",
       "27              38       47       species\n",
       "28              39    80811        family\n",
       "29              40       39         genus"
      ]
     },
     "execution_count": 3,
     "metadata": {},
     "output_type": "execute_result"
    }
   ],
   "source": [
    "df.head(30)"
   ]
  },
  {
   "cell_type": "code",
   "execution_count": 4,
   "metadata": {},
   "outputs": [],
   "source": [
    "def build(df: pd.DataFrame) -> nx.DiGraph:\n",
    "    G = nx.DiGraph()\n",
    "    for _, row in tqdm(df.iterrows()):\n",
    "        parent_node_id = row['Parent Node ID']\n",
    "        node_id = row['Node ID']\n",
    "\n",
    "        G.add_node(parent_node_id)\n",
    "        G.add_node(node_id)\n",
    "        \n",
    "        G.add_edge(parent_node_id, node_id)\n",
    "    return G"
   ]
  },
  {
   "cell_type": "code",
   "execution_count": 5,
   "metadata": {},
   "outputs": [
    {
     "name": "stderr",
     "output_type": "stream",
     "text": [
      "2442791it [01:58, 20680.33it/s]\n"
     ]
    }
   ],
   "source": [
    "total_G = build(df)"
   ]
  },
  {
   "cell_type": "code",
   "execution_count": 6,
   "metadata": {},
   "outputs": [
    {
     "name": "stdout",
     "output_type": "stream",
     "text": [
      "Is the graph a DAG: False\n"
     ]
    }
   ],
   "source": [
    "print(f\"Is the graph a DAG: {nx.is_directed_acyclic_graph(total_G)}\") # topological sorting to determine if DAG"
   ]
  },
  {
   "cell_type": "code",
   "execution_count": 10,
   "metadata": {},
   "outputs": [
    {
     "name": "stdout",
     "output_type": "stream",
     "text": [
      "NCBI taxonomy is not rooted because a node has more than two parents\n"
     ]
    },
    {
     "data": {
      "text/plain": [
       "False"
      ]
     },
     "execution_count": 10,
     "metadata": {},
     "output_type": "execute_result"
    }
   ],
   "source": [
    "def is_rooted(G: nx.DiGraph) -> bool:\n",
    "\n",
    "    root_nodes = 0\n",
    "    for node in G.nodes():\n",
    "        in_degree = G.in_degree(node)\n",
    "        if in_degree == 0:\n",
    "            print(\"W\")\n",
    "            root_nodes += 1\n",
    "        elif in_degree > 1:\n",
    "            print(\"NCBI taxonomy is not rooted because a node has more than two parents\")\n",
    "            return False\n",
    "    if root_nodes != 1:\n",
    "        print(f\"NCBI taxonomy is not rooted because it has {root nodes} roots\")\n",
    "        return False\n",
    "        \n",
    "    return True\n",
    "is_rooted(total_G)"
   ]
  },
  {
   "cell_type": "code",
   "execution_count": 11,
   "metadata": {},
   "outputs": [
    {
     "name": "stdout",
     "output_type": "stream",
     "text": [
      "NCBI taxonomy is DAG\n"
     ]
    },
    {
     "data": {
      "text/plain": [
       "True"
      ]
     },
     "execution_count": 11,
     "metadata": {},
     "output_type": "execute_result"
    }
   ],
   "source": [
    "def is_dag(G: nx.DiGraph) -> bool:\n",
    "    # Copy the graphs so that the modifications dont affect the original graph\n",
    "    G_copy = G.copy()\n",
    "    \n",
    "    # Remove self-loop if it exists at the root (node 1)\n",
    "    if G_copy.has_edge(1, 1):\n",
    "        G_copy.remove_edge(1, 1)\n",
    "    \n",
    "    is_dag = nx.is_directed_acyclic_graph(G_copy)\n",
    "    if not is_dag:\n",
    "        return False\n",
    "    else:\n",
    "        print(\"NCBI taxonomy is DAG\")\n",
    "        return True\n",
    "    \n",
    "is_dag(total_G)"
   ]
  },
  {
   "cell_type": "markdown",
   "metadata": {},
   "source": [
    "there is a cycle from node 1 to it self. It is however the only cylce in the graph, as if i remove this node, the graph becomes acyclic"
   ]
  },
  {
   "cell_type": "code",
   "execution_count": 29,
   "metadata": {},
   "outputs": [
    {
     "name": "stdout",
     "output_type": "stream",
     "text": [
      "There are 2442791 nodes in the NCBI taxonomy\n"
     ]
    }
   ],
   "source": [
    "print(f\"There are {len(df['Node ID'])} nodes in the NCBI taxonomy\")"
   ]
  },
  {
   "cell_type": "code",
   "execution_count": 8,
   "metadata": {},
   "outputs": [
    {
     "data": {
      "text/plain": [
       "rank\n",
       "kingdom         13\n",
       "phylum         291\n",
       "class          461\n",
       "order         1760\n",
       "family        9907\n",
       "genus       104194\n",
       "species    1995381\n",
       "Name: count, dtype: int64"
      ]
     },
     "metadata": {},
     "output_type": "display_data"
    }
   ],
   "source": [
    "standard_taxonomic_ranks = [\n",
    "    \"kingdom\",\n",
    "    \"phylum\",\n",
    "    \"class\",\n",
    "    \"order\",\n",
    "    \"family\",\n",
    "    \"genus\",\n",
    "    \"species\",\n",
    "]\n",
    "\n",
    "display(df[\"rank\"].value_counts()[standard_taxonomic_ranks])"
   ]
  },
  {
   "cell_type": "code",
   "execution_count": 26,
   "metadata": {},
   "outputs": [
    {
     "name": "stderr",
     "output_type": "stream",
     "text": [
      "2112007it [04:47, 7357.23it/s]\n"
     ]
    }
   ],
   "source": [
    "filtered_df = df[df['rank'].isin(standard_taxonomic_ranks)]\n",
    "filtered_G = build(filtered_df)"
   ]
  },
  {
   "cell_type": "code",
   "execution_count": null,
   "metadata": {},
   "outputs": [],
   "source": []
  },
  {
   "cell_type": "markdown",
   "metadata": {},
   "source": [
    "## What is the name of the kingdom taxonomic rank in the NCBI taxonomy?"
   ]
  },
  {
   "cell_type": "code",
   "execution_count": null,
   "metadata": {},
   "outputs": [
    {
     "name": "stdout",
     "output_type": "stream",
     "text": [
      "Parent Node ID          1\n",
      "Node ID                 1\n",
      "rank              no rank\n",
      "Name: 0, dtype: object\n"
     ]
    }
   ],
   "source": [
    "for idx, node in df[df['Parent Node ID'] == 1].iterrows():\n",
    "    #parent_node_id = node['Parent Node ID']\n",
    "    #print(node['Parent Node ID'])\n",
    "    #print(df[df['Node ID'] == parent_node_id]['rank'])"
   ]
  },
  {
   "cell_type": "markdown",
   "metadata": {},
   "source": [
    "# Other"
   ]
  },
  {
   "cell_type": "code",
   "execution_count": null,
   "metadata": {},
   "outputs": [
    {
     "data": {
      "text/plain": [
       "rank\n",
       "species             1995381\n",
       "no rank              233587\n",
       "genus                104194\n",
       "strain                45245\n",
       "subspecies            27134\n",
       "family                 9907\n",
       "varietas               9243\n",
       "subfamily              3203\n",
       "tribe                  2304\n",
       "order                  1760\n",
       "subgenus               1740\n",
       "isolate                1322\n",
       "serotype               1235\n",
       "clade                   915\n",
       "superfamily             891\n",
       "forma specialis         747\n",
       "forma                   633\n",
       "subtribe                582\n",
       "section                 479\n",
       "class                   461\n",
       "suborder                373\n",
       "species group           347\n",
       "phylum                  291\n",
       "subclass                166\n",
       "serogroup               140\n",
       "infraorder              130\n",
       "species subgroup        129\n",
       "superorder               57\n",
       "subphylum                32\n",
       "parvorder                26\n",
       "genotype                 21\n",
       "subsection               21\n",
       "infraclass               19\n",
       "biotype                  17\n",
       "kingdom                  13\n",
       "morph                    12\n",
       "series                    9\n",
       "superclass                6\n",
       "cohort                    5\n",
       "pathogroup                5\n",
       "superkingdom              4\n",
       "subcohort                 3\n",
       "subkingdom                1\n",
       "superphylum               1\n",
       "Name: count, dtype: int64"
      ]
     },
     "execution_count": 75,
     "metadata": {},
     "output_type": "execute_result"
    }
   ],
   "source": [
    "df['rank'].value_counts()"
   ]
  },
  {
   "cell_type": "markdown",
   "metadata": {},
   "source": [
    "## How many nodes are there in the NCBI taxonomy, once restricted to the seven standard taxonomic ranks?"
   ]
  },
  {
   "cell_type": "code",
   "execution_count": 30,
   "metadata": {},
   "outputs": [
    {
     "name": "stdout",
     "output_type": "stream",
     "text": [
      "There are 2112007 nodes in the restricted NCBI taxonomy\n"
     ]
    }
   ],
   "source": [
    "print(f\"There are {len(filtered_df)} nodes in the restricted NCBI taxonomy\")"
   ]
  },
  {
   "cell_type": "code",
   "execution_count": null,
   "metadata": {},
   "outputs": [],
   "source": []
  }
 ],
 "metadata": {
  "kernelspec": {
   "display_name": "Python 3",
   "language": "python",
   "name": "python3"
  },
  "language_info": {
   "codemirror_mode": {
    "name": "ipython",
    "version": 3
   },
   "file_extension": ".py",
   "mimetype": "text/x-python",
   "name": "python",
   "nbconvert_exporter": "python",
   "pygments_lexer": "ipython3",
   "version": "3.10.8"
  }
 },
 "nbformat": 4,
 "nbformat_minor": 2
}

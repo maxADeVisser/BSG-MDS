{
 "cells": [
  {
   "cell_type": "code",
   "execution_count": 12,
   "id": "69a2a9aa",
   "metadata": {},
   "outputs": [
    {
     "name": "stdout",
     "output_type": "stream",
     "text": [
      "Collecting biopython\n",
      "  Downloading biopython-1.81-cp310-cp310-manylinux_2_17_x86_64.manylinux2014_x86_64.whl (3.1 MB)\n",
      "\u001b[2K     \u001b[90m━━━━━━━━━━━━━━━━━━━━━━━━━━━━━━━━━━━━━━━━\u001b[0m \u001b[32m3.1/3.1 MB\u001b[0m \u001b[31m60.4 MB/s\u001b[0m eta \u001b[36m0:00:00\u001b[0m:00:01\u001b[0m\n",
      "\u001b[?25hRequirement already satisfied: numpy in /opt/software/lib/python3.10/site-packages (from biopython) (1.24.4)\n",
      "Installing collected packages: biopython\n",
      "Successfully installed biopython-1.81\n"
     ]
    }
   ],
   "source": [
    "!pip install biopython"
   ]
  },
  {
   "cell_type": "code",
   "execution_count": 138,
   "id": "4247c076",
   "metadata": {},
   "outputs": [],
   "source": [
    "from Bio import SeqIO\n",
    "import numpy as np"
   ]
  },
  {
   "cell_type": "code",
   "execution_count": 139,
   "id": "4a7fa10a",
   "metadata": {},
   "outputs": [],
   "source": [
    "def read_fasta(file_path):\n",
    "    sequences = []\n",
    "    for record in SeqIO.parse(file_path, \"fasta\"):\n",
    "        sequences.append(str(record.seq))\n",
    "    return sequences\n"
   ]
  },
  {
   "cell_type": "code",
   "execution_count": 140,
   "id": "994dea2d",
   "metadata": {},
   "outputs": [],
   "source": [
    "s = read_fasta('./sequences.fa')"
   ]
  },
  {
   "cell_type": "code",
   "execution_count": 141,
   "id": "48fa791f",
   "metadata": {},
   "outputs": [
    {
     "data": {
      "text/plain": [
       "'GTCGACTGCACTCGCCCCCACGAGAGAACAGTATTTAAGGAGCTGCGAAGGTCCAAGTCATGCATTATTGTCTCAGTGCAGTTGTCAGTTGCAGTTCAGCAGACGGGCTAACGAGTACTTGCATCTCTTCAAATTTACTTAATTGATCAAGTAAGTAGCAAAAGGGCACACAATTGAAGGAAATTCTTGTTTAATTGAATTTATTGTGCAAGTGCGGAAATAAAATGACAGGATTGAATAGTAAATATTTTGTAAAATCATATATAATCAAATTTATTCAATCAGAACTAATTCAAGCTGTCACAAGTAGTGCGAACTCAATTAATTGGCATCGAATTAAAATTTGGAGGCCTGTGCCGCATATTCGTCTTGGAAAATCACCTGTTAGTTAACTTCTAAAAATAGGAATTTTAACATAACTCGTCCCTGTTAATCGGCGCCGTGCCTTCGTTAGCTATCTCAAAAGCGAGCGCGTGCAGACGAGCAGTAATTTTCCAAGCATCAGGCATA.............................TAATATACTAATACTAATACTAATACTAATATAAGAATACTAATATAGAAAAAGCTTTGCCGGTACAAAATCCCAAACAAAAACAAACCGTGTGTGCCGAAAAATAAA.....................................AATAAACCATAAACTAGGCAGCGCTGCCGTCGCCGTCTGAGCAGCCTGCGTACATAGCCGAGATCGCGTAACGGTAGATAATGAAAAGCTCTACGTAACCGAAGCTTCTGCTGTACGGATCTTCCTATAAATACGGGGCCGACACGAACTGGAAACCAACAACTAACGGAGCCCTCTTCCAATTGAAACAGATCGAAAGAGCCTGCTAAAGCAAAAAAGAAGTCACCATGTCGTTTACTTTGACCAACAAGAACGTGATTTTCGTGGCCGGTCTGGGAGGCATTGGTCTGGACACCAGCAAGGAGCTGCTCAAGCGCGATCTGAAGGTAACTATGCGATGCCCACAGGCTCCATGCAGCGATGGAGGTTAATCTCGTGTATTCAATCCTAGAACCTGGTGATCCTCGACCGCATTGAGAACCCGGCTGCCATTGCCGAGCTGAAGGCAATCAATCCAAAGGTGACCGTCACCTTCTACCCCTATGATGTGACCGTGCCCATTGCCGAGACCACCAAGCTGCTGAAGACCATCTTCGCCCAGCTGAAGACCGTCGATGTCCTGATCAACGGAGCTGGTATCCTGGACGATCACCAGATCGAGCGCACCATTGCCGTCAACTACACTGGCCTGGTCAACACCACGACGGCCATTCTGGACTTCTGGGACAAGCGCAAGGGCGGTCCAGGTGGTATCATCTGCAACATTGGATCCGTCACTGGATTCAATGCCATCTACCAGGTGCCCGTCTACTCCGGCACCAAGGCCGCCGTGGTCAACTTCACCAGCTCCCTGGCGGTAAGTTGATCAAAGGAAACGCGAAGTTTTCAAGAAAAAACAAAACTAATTTGATTTATAACACCTTTAGAAACTGGCCCCCATTACCGGCGTGACGGCTTACACTGTGAACCCCGGCATCACCCGCACCACCCTGGTGCACACGTTCAACTCCTGGTTGGATGTTGAGCCTCAGGTTGCCGAGAAGCTCCTGGCTCATCCCACCCAGCCCTCGTTGGCCTGCGCCGAGAACTTCGTCAAGGCTATCGAGCTGAACCAGAACGGAGCCATCTGGAAACTGGACTTGGGCACCCTGGAGGCCATCCAGTGGACCAAGCACTGGGACTCCGGCATCTAAGAAGTGATACTCCCAAAAAAAAAAAAAAA.CATAACATTAGTTCATAGGGTTCGCGAACCACAAGATATTCACGCAAGGCAATTAAGGCTGATTCGATGCACACTCACATTCTTCTCCTAATACGATAATAAAACTTTCCATGAAAAATATGGAAAAATATATGAAAATTGAGAAATCCAAAAAACTGATAAACGCTCTACTTAATTAAAATAGATAAATGGGAGCGGCAGGAATGGCGGAGCATGGCCAAGTTCCTCCGCCAATCAGTCGTAAAACAGAAGTCGTGGAAAGCGGATAGAAAGAATGTTCGATTTGACGGGCAAGCATGTCTGCTATGTGGCGGATTGCGGAGGAATTGCACTGGAGACCAGCAAGGTTCTCATGACCAAGAATATAGCGGT..GAGTGAGCGGGAAGCTCGGTTTCTGTCCAGATCGAACTCAAAACTAGTCCAGCCAGTCGCTGTCGAAACTAATTAAGTTAATGAGTTTTTCATGTTAGTTTCGCGCTGAGCAACAATTAAGTTTATGTTTCAGTTCGGCTTAGATTTCGCTGAAGGACTTGCCACTTTCAATCAATACTTTAGAACAAAATCAAAACTCATTCTAATAGCTTGGTGTTCATCTTTTTTTT..AATGATAAGCATTTTGTCGTTTATACTTTTTATATTTCGATATTAAACCACCTATGAAGTTCATTTTAATCGCCAGATAAGCAATATATTGTGTAAATATTTGTATTCTTTATCAGGAAATTCAGGGAGACGGGGAAGTTACTATCTACTAAAAGCCAAACAATTTCTTACAGTTTTACTCTCTCTACTCTAGAAACTGGCCATTTTACAGAGTACGGAAAATCCCCAGGCCATCGCTCAGTTGCAGTCGATAAAGCCGAGTACCCAAATATTTTTCTGGACCTACGACGTGACCATGGCAAGGGAAGATATGAAGAAGTACTTCGATGAGGTGATGGTCCAAATGG'"
      ]
     },
     "execution_count": 141,
     "metadata": {},
     "output_type": "execute_result"
    }
   ],
   "source": [
    "s[len(s)-1]"
   ]
  },
  {
   "cell_type": "code",
   "execution_count": 142,
   "id": "fe9d9d52",
   "metadata": {},
   "outputs": [
    {
     "data": {
      "text/plain": [
       "11"
      ]
     },
     "execution_count": 142,
     "metadata": {},
     "output_type": "execute_result"
    }
   ],
   "source": [
    "len(s)"
   ]
  },
  {
   "cell_type": "code",
   "execution_count": 143,
   "id": "3105f0e6",
   "metadata": {},
   "outputs": [
    {
     "name": "stdout",
     "output_type": "stream",
     "text": [
      "2800\n",
      "2800\n",
      "2800\n",
      "2800\n",
      "2800\n",
      "2800\n",
      "2800\n",
      "2800\n",
      "2800\n",
      "2800\n",
      "2800\n"
     ]
    }
   ],
   "source": [
    "for i in s:\n",
    "    print(len(i))"
   ]
  },
  {
   "cell_type": "markdown",
   "id": "48b63f5b",
   "metadata": {},
   "source": [
    "## write a Python script to extract the segregating sites from the sequences into a binary matrix"
   ]
  },
  {
   "cell_type": "code",
   "execution_count": 144,
   "id": "2d24fbbd",
   "metadata": {},
   "outputs": [],
   "source": [
    "def make_base_seq(sequences):\n",
    "    seg_sites = []\n",
    "    base_seq = ''\n",
    "    \n",
    "    # Loop through every column\n",
    "    for i in range(len(sequences[0])):\n",
    "        \n",
    "        # Create a list of all characters in the ith column across all sequences\n",
    "        col_seq = [seq[i] for seq in sequences]\n",
    "        \n",
    "        # Get the most frequent characters in ith column\n",
    "        most_frequent = max(set(col_seq), key = col_seq.count)\n",
    "        \n",
    "        # Add this most frequent character to the base sequence\n",
    "        base_seq += most_frequent\n",
    "    \n",
    "    return base_seq"
   ]
  },
  {
   "cell_type": "code",
   "execution_count": 145,
   "id": "da9eb0a2",
   "metadata": {},
   "outputs": [],
   "source": [
    "def seg_sites_matrix(base_seq, sequences):\n",
    "    matrix = []\n",
    "    \n",
    "    # Loop through every sequence\n",
    "    for seq in sequences:\n",
    "        row = []\n",
    "        # Loop through each character in a sequence\n",
    "        for i in range(len(seq)):\n",
    "            \n",
    "            # If the character is the same as the character in the base sequence, append 0 else 1\n",
    "            if seq[i] == base_seq[i]:\n",
    "                row.append(0)\n",
    "            else:\n",
    "                row.append(1)\n",
    "        matrix.append(row)\n",
    "    return np.array(matrix)"
   ]
  },
  {
   "cell_type": "code",
   "execution_count": 146,
   "id": "e2c5f167",
   "metadata": {},
   "outputs": [],
   "source": [
    "base_seq = make_base_seq(s)"
   ]
  },
  {
   "cell_type": "markdown",
   "id": "49d77c63",
   "metadata": {},
   "source": [
    "## How many genomic sequences are there?"
   ]
  },
  {
   "cell_type": "code",
   "execution_count": 147,
   "id": "a42bbb85",
   "metadata": {},
   "outputs": [
    {
     "data": {
      "text/plain": [
       "11"
      ]
     },
     "execution_count": 147,
     "metadata": {},
     "output_type": "execute_result"
    }
   ],
   "source": [
    "len(s)"
   ]
  },
  {
   "cell_type": "markdown",
   "id": "322a2e5b",
   "metadata": {},
   "source": [
    "## How many segregating sites do they have?"
   ]
  },
  {
   "cell_type": "code",
   "execution_count": 148,
   "id": "0d793621",
   "metadata": {},
   "outputs": [
    {
     "data": {
      "text/plain": [
       "871"
      ]
     },
     "execution_count": 148,
     "metadata": {},
     "output_type": "execute_result"
    }
   ],
   "source": [
    "seg_sites_matrix(base_seq, s).sum()"
   ]
  },
  {
   "cell_type": "code",
   "execution_count": null,
   "id": "a5522c8b",
   "metadata": {},
   "outputs": [],
   "source": []
  }
 ],
 "metadata": {
  "kernelspec": {
   "display_name": "Python 3",
   "language": "python",
   "name": "python3"
  },
  "language_info": {
   "codemirror_mode": {
    "name": "ipython",
    "version": 3
   },
   "file_extension": ".py",
   "mimetype": "text/x-python",
   "name": "python",
   "nbconvert_exporter": "python",
   "pygments_lexer": "ipython3",
   "version": "3.10.8"
  }
 },
 "nbformat": 4,
 "nbformat_minor": 5
}

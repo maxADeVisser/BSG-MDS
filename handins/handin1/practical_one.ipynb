{
 "cells": [
  {
   "cell_type": "code",
   "execution_count": 98,
   "metadata": {},
   "outputs": [
    {
     "data": {
      "text/plain": [
       "['(Atrichantha_elsiae,(Atrichantha_gemmifera,Calotesta_alba,(Metalasia_oligocephala,(Metalasia_bodkinii,(Metalasia_humilis,(Metalasia_quinqueflora,Metalasia_lichtensteinii,((Metalasia_tenuis,Metalasia_tenuifolia),(Metalasia_phillipsii,(((Metalasia_serrata,Metalasia_cymbifolia),Metalasia_seriphiifolia,Metalasia_erubescens),((((Metalasia_serrulata,Metalasia_rogersii),Metalasia_albescens),Metalasia_juniperoides),(Metalasia_rhoderoides,Metalasia_confusa,Metalasia_riparia),(Metalasia_compacta,((((Metalasia_agathosmoides,Metalasia_fastigiata),Metalasia_adunca),Metalasia_capitata),((Metalasia_brevifolia,Metalasia_densa),(Metalasia_muraltiifolia,(Metalasia_pulchella,(Metalasia_cephalotes,(Metalasia_divergens,Metalasia_inversa)))))))))))))))Metalasia));',\n",
       " '(Poaceae,(((Apiaceae,Asteraceae),(((Brassicaceae,Fabaceae),Solanaceae),Caprifoliaceae)),(Chenopodiaceae,Polygonaceae)));',\n",
       " '(Poaceae,((((Apiaceae,Asteraceae),Caprifoliaceae),((Brassicaceae,Fabaceae),Solanaceae)),(Chenopodiaceae,Polygonaceae)));',\n",
       " '((((Apiaceae,Asteraceae),((Brassicaceae,Fabaceae),Solanaceae),Caprifoliaceae),(Chenopodiaceae,Polygonaceae)),Poaceae);',\n",
       " '((Apiaceae,((Brassicaceae,Fabaceae),Solanaceae),Caprifoliaceae,(Chenopodiaceae,Polygonaceae),Asteraceae),Poaceae);',\n",
       " '((Apiaceae,((Brassicaceae,Fabaceae),Solanaceae),Caprifoliaceae,Chenopodiaceae,Asteraceae,Polygonaceae),Poaceae);',\n",
       " '((Apiaceae,Brassicaceae,Caprifoliaceae,Solanaceae,Chenopodiaceae,Fabaceae,Asteraceae,Polygonaceae),Poaceae);',\n",
       " '(Poaceae,((Apiaceae,Chenopodiaceae),((Brassicaceae,Fabaceae),Caprifoliaceae)));',\n",
       " '(Poaceae,(((Apiaceae,Chenopodiaceae),Caprifoliaceae),(Brassicaceae,Fabaceae)));',\n",
       " '(((Apiaceae,Chenopodiaceae),(Brassicaceae,Fabaceae),Caprifoliaceae),Poaceae);']"
      ]
     },
     "execution_count": 98,
     "metadata": {},
     "output_type": "execute_result"
    }
   ],
   "source": [
    "import networkx\n",
    "import sys\n",
    "from ete3 import Tree\n",
    "\n",
    "\n",
    "def read_phylogenetic_tree(path: str) -> list[str]:\n",
    "    with open(path, \"r\") as f:\n",
    "        tree_str = f.read()\n",
    "    return [x.replace(\"\\n\", \"\") + \";\" for x in tree_str.split(\";\")][:-1]\n",
    "\n",
    "newick_strings = read_phylogenetic_tree(\"handins/handin1/newick.tre\")\n",
    "newick_strings[0:10]"
   ]
  },
  {
   "cell_type": "code",
   "execution_count": 107,
   "metadata": {},
   "outputs": [
    {
     "data": {
      "text/plain": [
       "True"
      ]
     },
     "execution_count": 107,
     "metadata": {},
     "output_type": "execute_result"
    }
   ],
   "source": [
    "tree = Tree(newick_strings[0], format=8)\n",
    "tree.is_root()"
   ]
  },
  {
   "cell_type": "code",
   "execution_count": 104,
   "metadata": {},
   "outputs": [],
   "source": [
    "class TreeNode:\n",
    "    def __init__(self, name: str, children: list) -> None:\n",
    "        self.name = name\n",
    "        self.ancestors = children"
   ]
  },
  {
   "cell_type": "code",
   "execution_count": 103,
   "metadata": {},
   "outputs": [
    {
     "name": "stdout",
     "output_type": "stream",
     "text": [
      "0th tree failed\n",
      "11th tree failed\n",
      "36th tree failed\n",
      "39th tree failed\n",
      "40th tree failed\n",
      "41th tree failed\n",
      "45th tree failed\n",
      "47th tree failed\n",
      "58th tree failed\n",
      "63th tree failed\n",
      "64th tree failed\n",
      "74th tree failed\n",
      "79th tree failed\n",
      "0\n"
     ]
    }
   ],
   "source": [
    "#rooted_trees = 0\n",
    "\n",
    "#for tree in phylogenetic_trees:\n",
    "\n",
    "# rooted_trees = 0\n",
    "# for i in range(len(newick_strings)):\n",
    "#     try:\n",
    "#         phy_tree = Tree(newick_strings[i], format=9)\n",
    "#     except:\n",
    "#         print(f\"{i}th tree failed\")\n",
    "#         continue\n",
    "#     for node in phy_tree:\n",
    "#         if node.is_root():\n",
    "#             rooted_trees += 1\n",
    "    \n",
    "# print(rooted_trees)"
   ]
  },
  {
   "cell_type": "code",
   "execution_count": 224,
   "metadata": {},
   "outputs": [
    {
     "name": "stdout",
     "output_type": "stream",
     "text": [
      "1: [2, 3]\n",
      "2: [1]\n",
      "3: []\n",
      "\n"
     ]
    }
   ],
   "source": [
    "class AdjacencyList:\n",
    "    # directed unweighted adjacency list representation of a graph\n",
    "    # stores all outgoing edges for each vertex\n",
    "    # allows for edges going from a vertex to it self (so far)\n",
    "    def __init__(self) -> None:\n",
    "        self.adjList = {}\n",
    "\n",
    "    def add_vertex(self, vertex: str):\n",
    "        if vertex not in self.adjList.keys():\n",
    "            self.adjList[vertex] = []  # create the vertex if it does not already exists\n",
    "\n",
    "    def add_edge(self, start_vertex: str, end_vertex: str) -> None:\n",
    "        if (start_vertex not in self.adjList.keys()) or (\n",
    "            end_vertex not in self.adjList.keys()\n",
    "        ):\n",
    "            raise Exception(\"Some provided vertex does not exists in the graph\")\n",
    "        else:\n",
    "            self.adjList[start_vertex].append(end_vertex)\n",
    "\n",
    "    def __str__(self) -> str:\n",
    "        result = \"\"\n",
    "        for vertex, neighbors in self.adjList.items():\n",
    "            result += f\"{vertex}: {neighbors}\\n\"\n",
    "        return result\n",
    "\n",
    "\n",
    "adjList = AdjacencyList()\n",
    "adjList.add_vertex(1)\n",
    "adjList.add_vertex(2)\n",
    "adjList.add_vertex(3)\n",
    "adjList.add_edge(1, 2)\n",
    "adjList.add_edge(2, 1)\n",
    "adjList.add_edge(1, 3)\n",
    "\n",
    "print(adjList)"
   ]
  },
  {
   "cell_type": "code",
   "execution_count": 278,
   "metadata": {},
   "outputs": [
    {
     "name": "stdout",
     "output_type": "stream",
     "text": [
      "0: ['Poaceae', '']\n",
      "Poaceae: []\n",
      ": []\n",
      "2: ['', '']\n",
      "3: ['', '']\n",
      "4: ['Chenopodiaceae', 'Polygonaceae']\n",
      "Chenopodiaceae: []\n",
      "Polygonaceae: []\n",
      "5: ['Apiaceae', 'Asteraceae']\n",
      "Apiaceae: []\n",
      "Asteraceae: []\n",
      "6: ['', 'Caprifoliaceae']\n",
      "Caprifoliaceae: []\n",
      "11: ['', 'Solanaceae']\n",
      "Solanaceae: []\n",
      "13: ['Brassicaceae', 'Fabaceae']\n",
      "Brassicaceae: []\n",
      "Fabaceae: []\n",
      "\n"
     ]
    }
   ],
   "source": [
    "# this does not work 100 percent. I do not know what to do with the unlabelled leafs.\n",
    "\n",
    "tree = Tree(\n",
    "    newick_strings[1],\n",
    "    format=8,\n",
    ")\n",
    "\n",
    "adjList = AdjacencyList()\n",
    "\n",
    "name_iterator = 0\n",
    "for node in tree.traverse():\n",
    "    if node.name == \"\":\n",
    "        current_node_name = str(name_iterator) # give unlabelled intermediate nodes a unique label\n",
    "    else:\n",
    "        current_node_name = node.name\n",
    "    \n",
    "    adjList.add_vertex(current_node_name)\n",
    "    \n",
    "    if children := node.get_children(): # if current node is not a leaf node\n",
    "        for child_node in children: # add edges going to each child from current node\n",
    "            adjList.add_vertex(child_node.name)\n",
    "            adjList.add_edge(start_vertex=current_node_name, end_vertex=child_node.name)\n",
    "    \n",
    "    name_iterator += 1\n",
    "    \n",
    "print(adjList)"
   ]
  },
  {
   "cell_type": "code",
   "execution_count": 266,
   "metadata": {},
   "outputs": [
    {
     "ename": "Exception",
     "evalue": "Vertex does not exists",
     "output_type": "error",
     "traceback": [
      "\u001b[0;31m---------------------------------------------------------------------------\u001b[0m",
      "\u001b[0;31mException\u001b[0m                                 Traceback (most recent call last)",
      "Cell \u001b[0;32mIn[266], line 33\u001b[0m\n\u001b[1;32m     31\u001b[0m     \u001b[39mif\u001b[39;00m children \u001b[39m:=\u001b[39m node\u001b[39m.\u001b[39mget_children(): \u001b[39m# if current node is not a leaf node\u001b[39;00m\n\u001b[1;32m     32\u001b[0m         \u001b[39mfor\u001b[39;00m child_node \u001b[39min\u001b[39;00m children: \u001b[39m# add edges going to each child from current node\u001b[39;00m\n\u001b[0;32m---> 33\u001b[0m             adjList\u001b[39m.\u001b[39;49madd_edge(start_vertex\u001b[39m=\u001b[39;49mkeys[counter], end_vertex\u001b[39m=\u001b[39;49mchild_node\u001b[39m.\u001b[39;49mname)\n\u001b[1;32m     35\u001b[0m     counter \u001b[39m+\u001b[39m\u001b[39m=\u001b[39m \u001b[39m1\u001b[39m\n\u001b[1;32m     38\u001b[0m \u001b[39mprint\u001b[39m(adjList\u001b[39m.\u001b[39madjList)\n",
      "Cell \u001b[0;32mIn[224], line 14\u001b[0m, in \u001b[0;36mAdjacencyList.add_edge\u001b[0;34m(self, start_vertex, end_vertex)\u001b[0m\n\u001b[1;32m     12\u001b[0m \u001b[39mdef\u001b[39;00m \u001b[39madd_edge\u001b[39m(\u001b[39mself\u001b[39m, start_vertex: \u001b[39mstr\u001b[39m, end_vertex: \u001b[39mstr\u001b[39m) \u001b[39m-\u001b[39m\u001b[39m>\u001b[39m \u001b[39mNone\u001b[39;00m:\n\u001b[1;32m     13\u001b[0m     \u001b[39mif\u001b[39;00m (start_vertex \u001b[39mnot\u001b[39;00m \u001b[39min\u001b[39;00m \u001b[39mself\u001b[39m\u001b[39m.\u001b[39madjList) \u001b[39mor\u001b[39;00m (end_vertex \u001b[39mnot\u001b[39;00m \u001b[39min\u001b[39;00m \u001b[39mself\u001b[39m\u001b[39m.\u001b[39madjList):\n\u001b[0;32m---> 14\u001b[0m         \u001b[39mraise\u001b[39;00m \u001b[39mException\u001b[39;00m(\u001b[39m\"\u001b[39m\u001b[39mVertex does not exists\u001b[39m\u001b[39m\"\u001b[39m)\n\u001b[1;32m     15\u001b[0m     \u001b[39melse\u001b[39;00m:\n\u001b[1;32m     16\u001b[0m         \u001b[39mself\u001b[39m\u001b[39m.\u001b[39madjList[start_vertex]\u001b[39m.\u001b[39mappend(end_vertex)\n",
      "\u001b[0;31mException\u001b[0m: Vertex does not exists"
     ]
    }
   ],
   "source": [
    "# def label_creator() -> str:\n",
    "#     # util function to provide unlabelled nodes with a label\n",
    "#     return None\n",
    "\n",
    "adjList = AdjacencyList()\n",
    "\n",
    "tree = Tree(\n",
    "    newick_strings[1],\n",
    "    format=8,\n",
    ")\n",
    "\n",
    "\n",
    "# pre-fill all intermediate nodes with no label\n",
    "name_iterator = 0\n",
    "for node in tree.traverse():\n",
    "    if node.name == \"\":\n",
    "        node.name = str(name_iterator) # give unlabelled intermediate nodes a unique label\n",
    "    else:\n",
    "        node.name = node.name\n",
    "    \n",
    "    adjList.add_vertex(node.name)\n",
    "\n",
    "    name_iterator += 1\n",
    "    \n",
    "\n",
    "# make the edges\n",
    "keys = list(adjList.adjList.keys())\n",
    "counter = 0\n",
    "\n",
    "for node in tree.traverse():\n",
    "    if children := node.get_children(): # if current node is not a leaf node\n",
    "        child_names = []\n",
    "        for child_node in children: # add edges going to each child from current node\n",
    "            adjList.add_edge(start_vertex=keys[counter], end_vertex=child_node.name)\n",
    "    \n",
    "    counter += 1\n",
    "\n",
    "\n",
    "print(adjList.adjList)"
   ]
  },
  {
   "cell_type": "markdown",
   "metadata": {},
   "source": [
    "# Newick Strings"
   ]
  },
  {
   "cell_type": "markdown",
   "metadata": {},
   "source": [
    "## 1. Write a Python script to extract the phylogenetic trees into a graph representation"
   ]
  },
  {
   "cell_type": "code",
   "execution_count": 38,
   "metadata": {},
   "outputs": [],
   "source": [
    "# doing it for a single phylogenetic tree first\n",
    "\n",
    "graph_tree = AdjacencyList()\n",
    "\n",
    "# add all unique vertices\n",
    "vertices = newick_strings[0].replace(\"(\", \"\").replace(\")\", \"\").split(\",\")\n",
    "\n",
    "for vertex in vertices:\n",
    "    graph_tree.add_vertex(vertex)\n",
    "\n",
    "\n",
    "#print(graph_tree)"
   ]
  },
  {
   "cell_type": "code",
   "execution_count": 41,
   "metadata": {},
   "outputs": [
    {
     "name": "stdout",
     "output_type": "stream",
     "text": [
      "A\n"
     ]
    }
   ],
   "source": [
    "tree = newick_strings[0]\n",
    "\n",
    "for i in range(len(newick_strings[0])):\n",
    "    if char == \"(\":\n",
    "        print(tree[i + 1])\n",
    "    break\n",
    "        "
   ]
  },
  {
   "cell_type": "markdown",
   "metadata": {},
   "source": [
    "## 2. How many phylogenetic trees are there?"
   ]
  },
  {
   "cell_type": "code",
   "execution_count": 52,
   "metadata": {},
   "outputs": [
    {
     "name": "stdout",
     "output_type": "stream",
     "text": [
      "There are in total: 100 phylogenetic trees\n"
     ]
    }
   ],
   "source": [
    "print(f\"There are in total: {len(newick_strings)} phylogenetic trees\")"
   ]
  },
  {
   "cell_type": "markdown",
   "metadata": {},
   "source": [
    "## 3. Are these phylogenetic trees rooted or unrooted?"
   ]
  },
  {
   "cell_type": "code",
   "execution_count": 34,
   "metadata": {},
   "outputs": [
    {
     "name": "stdout",
     "output_type": "stream",
     "text": [
      "\n",
      "   /-Atrichantha_elsiae\n",
      "  |\n",
      "--|   /-Atrichantha_gemmifera\n",
      "  |  |\n",
      "  |  |--Calotesta_alba\n",
      "   \\-|\n",
      "     |   /-Metalasia_oligocephala\n",
      "     |  |\n",
      "      \\-|   /-Metalasia_bodkinii\n",
      "        |  |\n",
      "         \\-|   /-Metalasia_humilis\n",
      "           |  |\n",
      "           |  |   /-Metalasia_quinqueflora\n",
      "            \\-|  |\n",
      "              |  |--Metalasia_lichtensteinii\n",
      "              |  |\n",
      "               \\-|      /-Metalasia_tenuis\n",
      "                 |   /-|\n",
      "                 |  |   \\-Metalasia_tenuifolia\n",
      "                 |  |\n",
      "                 |  |   /-Metalasia_phillipsii\n",
      "                  \\-|  |\n",
      "                    |  |         /-Metalasia_serrata\n",
      "                    |  |      /-|\n",
      "                    |  |     |   \\-Metalasia_cymbifolia\n",
      "                    |  |   /-|\n",
      "                     \\-|  |  |--Metalasia_seriphiifolia\n",
      "                       |  |  |\n",
      "                       |  |   \\-Metalasia_erubescens\n",
      "                       |  |\n",
      "                       |  |            /-Metalasia_serrulata\n",
      "                       |  |         /-|\n",
      "                       |  |      /-|   \\-Metalasia_rogersii\n",
      "                        \\-|     |  |\n",
      "                          |   /-|   \\-Metalasia_albescens\n",
      "                          |  |  |\n",
      "                          |  |   \\-Metalasia_juniperoides\n",
      "                          |  |\n",
      "                          |  |   /-Metalasia_rhoderoides\n",
      "                          |  |  |\n",
      "                          |  |--|--Metalasia_confusa\n",
      "                           \\-|  |\n",
      "                             |   \\-Metalasia_riparia\n",
      "                             |\n",
      "                             |   /-Metalasia_compacta\n",
      "                             |  |\n",
      "                             |  |            /-Metalasia_agathosmoides\n",
      "                             |  |         /-|\n",
      "                              \\-|      /-|   \\-Metalasia_fastigiata\n",
      "                                |     |  |\n",
      "                                |   /-|   \\-Metalasia_adunca\n",
      "                                |  |  |\n",
      "                                |  |   \\-Metalasia_capitata\n",
      "                                 \\-|\n",
      "                                   |      /-Metalasia_brevifolia\n",
      "                                   |   /-|\n",
      "                                   |  |   \\-Metalasia_densa\n",
      "                                    \\-|\n",
      "                                      |   /-Metalasia_muraltiifolia\n",
      "                                       \\-|\n",
      "                                         |   /-Metalasia_pulchella\n",
      "                                          \\-|\n",
      "                                            |   /-Metalasia_cephalotes\n",
      "                                             \\-|\n",
      "                                               |   /-Metalasia_divergens\n",
      "                                                \\-|\n",
      "                                                   \\-Metalasia_inversa\n"
     ]
    }
   ],
   "source": [
    "# get the number of rooted and unrotted trees\n",
    "for t in n_trees:\n",
    "    tree = Tree(t, format=8)\n",
    "    #tree.\n",
    "    print(tree)\n",
    "    break"
   ]
  },
  {
   "cell_type": "code",
   "execution_count": null,
   "metadata": {},
   "outputs": [],
   "source": [
    "# ete3 is for dealing with phylogenetic trees. This can be used to parse the file. Then we need to make it into a graph representation\n",
    "# pip install ete3\n",
    "# also we should visualise the graph in some way."
   ]
  },
  {
   "cell_type": "markdown",
   "metadata": {},
   "source": [
    "# Enewick strings"
   ]
  },
  {
   "cell_type": "code",
   "execution_count": 69,
   "metadata": {},
   "outputs": [
    {
     "data": {
      "text/plain": [
       "['(#1,((((2,3),1))#1,4));',\n",
       " '((#1,4),((1)#1,(2,3)));',\n",
       " '((#1,4),(((3)#1,2),1));',\n",
       " '((#1,4),(((2,3))#1,1));',\n",
       " '((#1,4),(((2)#1,3),1));',\n",
       " '((#1,((1)#1,4)),(2,3));',\n",
       " '(((#1,4),1),((3)#1,2));',\n",
       " '(#1,((((2,3))#1,4),1));',\n",
       " '(((#1,4),1),((2)#1,3));',\n",
       " '(#1,((((1)#1,4),3),2));']"
      ]
     },
     "execution_count": 69,
     "metadata": {},
     "output_type": "execute_result"
    }
   ],
   "source": [
    "enewick_strings = read_phylogenetic_tree(\"handins/handin1/enewick.tre\")\n",
    "enewick_strings[0:10]"
   ]
  },
  {
   "cell_type": "markdown",
   "metadata": {},
   "source": [
    "## 4. "
   ]
  },
  {
   "cell_type": "markdown",
   "metadata": {},
   "source": [
    "## 5. How many phylogenetic networks are there?"
   ]
  },
  {
   "cell_type": "code",
   "execution_count": 70,
   "metadata": {},
   "outputs": [
    {
     "name": "stdout",
     "output_type": "stream",
     "text": [
      "There are in total: 100 phylogenetic trees\n"
     ]
    }
   ],
   "source": [
    "print(f\"There are in total: {len(enewick_strings)} phylogenetic trees\")"
   ]
  }
 ],
 "metadata": {
  "kernelspec": {
   "display_name": "BSG",
   "language": "python",
   "name": "python3"
  },
  "language_info": {
   "codemirror_mode": {
    "name": "ipython",
    "version": 3
   },
   "file_extension": ".py",
   "mimetype": "text/x-python",
   "name": "python",
   "nbconvert_exporter": "python",
   "pygments_lexer": "ipython3",
   "version": "3.11.4"
  },
  "orig_nbformat": 4
 },
 "nbformat": 4,
 "nbformat_minor": 2
}

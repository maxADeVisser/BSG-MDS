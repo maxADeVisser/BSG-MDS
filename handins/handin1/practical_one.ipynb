{
 "cells": [
  {
   "cell_type": "code",
   "execution_count": 3,
   "metadata": {},
   "outputs": [
    {
     "data": {
      "text/plain": [
       "['(Atrichantha_elsiae,(Atrichantha_gemmifera,Calotesta_alba,(Metalasia_oligocephala,(Metalasia_bodkinii,(Metalasia_humilis,(Metalasia_quinqueflora,Metalasia_lichtensteinii,((Metalasia_tenuis,Metalasia_tenuifolia),(Metalasia_phillipsii,(((Metalasia_serrata,Metalasia_cymbifolia),Metalasia_seriphiifolia,Metalasia_erubescens),((((Metalasia_serrulata,Metalasia_rogersii),Metalasia_albescens),Metalasia_juniperoides),(Metalasia_rhoderoides,Metalasia_confusa,Metalasia_riparia),(Metalasia_compacta,((((Metalasia_agathosmoides,Metalasia_fastigiata),Metalasia_adunca),Metalasia_capitata),((Metalasia_brevifolia,Metalasia_densa),(Metalasia_muraltiifolia,(Metalasia_pulchella,(Metalasia_cephalotes,(Metalasia_divergens,Metalasia_inversa)))))))))))))))Metalasia));',\n",
       " '(Poaceae,(((Apiaceae,Asteraceae),(((Brassicaceae,Fabaceae),Solanaceae),Caprifoliaceae)),(Chenopodiaceae,Polygonaceae)));',\n",
       " '(Poaceae,((((Apiaceae,Asteraceae),Caprifoliaceae),((Brassicaceae,Fabaceae),Solanaceae)),(Chenopodiaceae,Polygonaceae)));',\n",
       " '((((Apiaceae,Asteraceae),((Brassicaceae,Fabaceae),Solanaceae),Caprifoliaceae),(Chenopodiaceae,Polygonaceae)),Poaceae);',\n",
       " '((Apiaceae,((Brassicaceae,Fabaceae),Solanaceae),Caprifoliaceae,(Chenopodiaceae,Polygonaceae),Asteraceae),Poaceae);',\n",
       " '((Apiaceae,((Brassicaceae,Fabaceae),Solanaceae),Caprifoliaceae,Chenopodiaceae,Asteraceae,Polygonaceae),Poaceae);',\n",
       " '((Apiaceae,Brassicaceae,Caprifoliaceae,Solanaceae,Chenopodiaceae,Fabaceae,Asteraceae,Polygonaceae),Poaceae);',\n",
       " '(Poaceae,((Apiaceae,Chenopodiaceae),((Brassicaceae,Fabaceae),Caprifoliaceae)));',\n",
       " '(Poaceae,(((Apiaceae,Chenopodiaceae),Caprifoliaceae),(Brassicaceae,Fabaceae)));',\n",
       " '(((Apiaceae,Chenopodiaceae),(Brassicaceae,Fabaceae),Caprifoliaceae),Poaceae);']"
      ]
     },
     "execution_count": 3,
     "metadata": {},
     "output_type": "execute_result"
    }
   ],
   "source": [
    "import networkx\n",
    "import sys\n",
    "from ete3 import Tree\n",
    "\n",
    "\n",
    "def read_phylogenetic_tree(path: str) -> list[str]:\n",
    "    with open(path, \"r\") as f:\n",
    "        tree_str = f.read()\n",
    "    return [x.replace(\"\\n\", \"\") + \";\" for x in tree_str.split(\";\")][:-1]\n",
    "\n",
    "newick_strings = read_phylogenetic_tree(\"handins/handin1/newick.tre\")\n",
    "newick_strings[0:10]"
   ]
  },
  {
   "cell_type": "code",
   "execution_count": 4,
   "metadata": {},
   "outputs": [],
   "source": [
    "class AdjacencyList:\n",
    "    # directed unweighted adjacency list representation of a graph\n",
    "    # stores all outgoing edges for each vertex\n",
    "    # allows for edges going from a vertex to it self (so far)\n",
    "    def __init__(self) -> None:\n",
    "        self.adjList = {}\n",
    "\n",
    "    def add_vertex(self, vertex: str) -> None:\n",
    "        if vertex not in self.adjList.keys():\n",
    "            self.adjList[vertex] = []  # create the vertex if it does not already exists\n",
    "\n",
    "    def add_edge(self, start_vertex: str, end_vertex: str) -> None:\n",
    "        if (start_vertex not in self.adjList.keys()) or (\n",
    "            end_vertex not in self.adjList.keys()\n",
    "        ):\n",
    "            raise Exception(\"Some provided vertex does not exists in the graph\")\n",
    "        elif start_vertex == end_vertex:\n",
    "            raise Exception(\"A vertex can't have an edge to itself\")\n",
    "        else:\n",
    "            self.adjList[start_vertex].append(end_vertex)\n",
    "\n",
    "    def __str__(self) -> str:\n",
    "        result = \"\"\n",
    "        for vertex, neighbors in self.adjList.items():\n",
    "            result += f\"{vertex}: {neighbors}\\n\"\n",
    "        return result"
   ]
  },
  {
   "cell_type": "markdown",
   "metadata": {},
   "source": [
    "# Newick Strings"
   ]
  },
  {
   "cell_type": "markdown",
   "metadata": {},
   "source": [
    "## 1. Write a Python script to extract the phylogenetic trees into a graph representation"
   ]
  },
  {
   "cell_type": "code",
   "execution_count": 5,
   "metadata": {},
   "outputs": [],
   "source": [
    "graph_representations1 = []  # to store the adjacency lists\n",
    "\n",
    "for tree in newick_strings:\n",
    "    tree = Tree(tree, format=8)\n",
    "    adjList = AdjacencyList()\n",
    "\n",
    "    # give labels to intermediate nodes with no labels\n",
    "    name_iterator = 0\n",
    "    for node in tree.traverse():\n",
    "        if node.name == \"\":\n",
    "            node.name = str(\n",
    "                name_iterator\n",
    "            )  # give unlabelled intermediate nodes a unique label\n",
    "\n",
    "        adjList.add_vertex(node.name)\n",
    "        name_iterator += 1\n",
    "\n",
    "    # add edges\n",
    "    for node in tree.traverse():\n",
    "        if children := node.get_children():  # if current node is not a leaf node\n",
    "            for (\n",
    "                child_node\n",
    "            ) in children:  # add edges going to each child from current node\n",
    "                adjList.add_vertex(child_node.name)\n",
    "                adjList.add_edge(start_vertex=node.name, end_vertex=child_node.name)\n",
    "\n",
    "    graph_representations1.append(adjList)"
   ]
  },
  {
   "cell_type": "code",
   "execution_count": 11,
   "metadata": {},
   "outputs": [
    {
     "name": "stdout",
     "output_type": "stream",
     "text": [
      "0: ['Poaceae', '2']\n",
      "Poaceae: []\n",
      "2: ['3', '4']\n",
      "3: ['5', '6']\n",
      "4: ['Chenopodiaceae', 'Polygonaceae']\n",
      "5: ['Apiaceae', 'Asteraceae']\n",
      "6: ['11', 'Caprifoliaceae']\n",
      "Chenopodiaceae: []\n",
      "Polygonaceae: []\n",
      "Apiaceae: []\n",
      "Asteraceae: []\n",
      "11: ['13', 'Solanaceae']\n",
      "Caprifoliaceae: []\n",
      "13: ['Brassicaceae', 'Fabaceae']\n",
      "Solanaceae: []\n",
      "Brassicaceae: []\n",
      "Fabaceae: []\n",
      "\n"
     ]
    }
   ],
   "source": [
    "print(graph_representations1[1])"
   ]
  },
  {
   "cell_type": "markdown",
   "metadata": {},
   "source": [
    "## 2. How many phylogenetic trees are there?"
   ]
  },
  {
   "cell_type": "code",
   "execution_count": 7,
   "metadata": {},
   "outputs": [
    {
     "name": "stdout",
     "output_type": "stream",
     "text": [
      "There are in total: 100 phylogenetic trees\n"
     ]
    }
   ],
   "source": [
    "print(f\"There are in total: {len(newick_strings)} phylogenetic trees\")"
   ]
  },
  {
   "cell_type": "markdown",
   "metadata": {},
   "source": [
    "## 3. Are these phylogenetic trees rooted or unrooted?"
   ]
  },
  {
   "cell_type": "code",
   "execution_count": 8,
   "metadata": {},
   "outputs": [
    {
     "name": "stdout",
     "output_type": "stream",
     "text": [
      "There are 7 unrooted trees\n",
      "and 93 rooted trees\n"
     ]
    }
   ],
   "source": [
    "n_unrooted_trees = 0\n",
    "#counter = 0\n",
    "\n",
    "for tree in newick_strings:\n",
    "    \n",
    "    t = Tree(tree, format=8)\n",
    "    \n",
    "    for node in t.traverse():\n",
    "        if len(node.children) > 2:\n",
    "            n_unrooted_trees += 1\n",
    "            #print(counter)\n",
    "        break\n",
    "    #counter += 1\n",
    "\n",
    "print(f\"There are {n_unrooted_trees} unrooted trees\\nand {len(newick_strings) - n_unrooted_trees} rooted trees\")"
   ]
  },
  {
   "cell_type": "markdown",
   "metadata": {},
   "source": [
    "There are 93 rooted trees and 7 unrooted (with indicies 27,31,32,36,56,58,95 in newick_strings variable)"
   ]
  },
  {
   "cell_type": "markdown",
   "metadata": {},
   "source": [
    "# Enewick strings"
   ]
  },
  {
   "cell_type": "code",
   "execution_count": 9,
   "metadata": {},
   "outputs": [
    {
     "data": {
      "text/plain": [
       "['(#1,((((2,3),1))#1,4));',\n",
       " '((#1,4),((1)#1,(2,3)));',\n",
       " '((#1,4),(((3)#1,2),1));',\n",
       " '((#1,4),(((2,3))#1,1));',\n",
       " '((#1,4),(((2)#1,3),1));',\n",
       " '((#1,((1)#1,4)),(2,3));',\n",
       " '(((#1,4),1),((3)#1,2));',\n",
       " '(#1,((((2,3))#1,4),1));',\n",
       " '(((#1,4),1),((2)#1,3));',\n",
       " '(#1,((((1)#1,4),3),2));']"
      ]
     },
     "execution_count": 9,
     "metadata": {},
     "output_type": "execute_result"
    }
   ],
   "source": [
    "enewick_strings = read_phylogenetic_tree(\"handins/handin1/enewick.tre\")\n",
    "enewick_strings[0:10]"
   ]
  },
  {
   "cell_type": "markdown",
   "metadata": {},
   "source": [
    "## 4. "
   ]
  },
  {
   "cell_type": "markdown",
   "metadata": {},
   "source": [
    "## 5. How many phylogenetic networks are there?"
   ]
  },
  {
   "cell_type": "code",
   "execution_count": 10,
   "metadata": {},
   "outputs": [
    {
     "name": "stdout",
     "output_type": "stream",
     "text": [
      "There are in total: 100 phylogenetic trees\n"
     ]
    }
   ],
   "source": [
    "print(f\"There are in total: {len(enewick_strings)} phylogenetic trees\")"
   ]
  }
 ],
 "metadata": {
  "kernelspec": {
   "display_name": "BSG",
   "language": "python",
   "name": "python3"
  },
  "language_info": {
   "codemirror_mode": {
    "name": "ipython",
    "version": 3
   },
   "file_extension": ".py",
   "mimetype": "text/x-python",
   "name": "python",
   "nbconvert_exporter": "python",
   "pygments_lexer": "ipython3",
   "version": "3.11.4"
  },
  "orig_nbformat": 4
 },
 "nbformat": 4,
 "nbformat_minor": 2
}

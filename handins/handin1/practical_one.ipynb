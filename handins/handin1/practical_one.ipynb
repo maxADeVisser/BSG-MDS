{
 "cells": [
  {
   "cell_type": "code",
   "execution_count": 280,
   "metadata": {},
   "outputs": [
    {
     "data": {
      "text/plain": [
       "['(Atrichantha_elsiae,(Atrichantha_gemmifera,Calotesta_alba,(Metalasia_oligocephala,(Metalasia_bodkinii,(Metalasia_humilis,(Metalasia_quinqueflora,Metalasia_lichtensteinii,((Metalasia_tenuis,Metalasia_tenuifolia),(Metalasia_phillipsii,(((Metalasia_serrata,Metalasia_cymbifolia),Metalasia_seriphiifolia,Metalasia_erubescens),((((Metalasia_serrulata,Metalasia_rogersii),Metalasia_albescens),Metalasia_juniperoides),(Metalasia_rhoderoides,Metalasia_confusa,Metalasia_riparia),(Metalasia_compacta,((((Metalasia_agathosmoides,Metalasia_fastigiata),Metalasia_adunca),Metalasia_capitata),((Metalasia_brevifolia,Metalasia_densa),(Metalasia_muraltiifolia,(Metalasia_pulchella,(Metalasia_cephalotes,(Metalasia_divergens,Metalasia_inversa)))))))))))))))Metalasia));',\n",
       " '(Poaceae,(((Apiaceae,Asteraceae),(((Brassicaceae,Fabaceae),Solanaceae),Caprifoliaceae)),(Chenopodiaceae,Polygonaceae)));',\n",
       " '(Poaceae,((((Apiaceae,Asteraceae),Caprifoliaceae),((Brassicaceae,Fabaceae),Solanaceae)),(Chenopodiaceae,Polygonaceae)));',\n",
       " '((((Apiaceae,Asteraceae),((Brassicaceae,Fabaceae),Solanaceae),Caprifoliaceae),(Chenopodiaceae,Polygonaceae)),Poaceae);',\n",
       " '((Apiaceae,((Brassicaceae,Fabaceae),Solanaceae),Caprifoliaceae,(Chenopodiaceae,Polygonaceae),Asteraceae),Poaceae);',\n",
       " '((Apiaceae,((Brassicaceae,Fabaceae),Solanaceae),Caprifoliaceae,Chenopodiaceae,Asteraceae,Polygonaceae),Poaceae);',\n",
       " '((Apiaceae,Brassicaceae,Caprifoliaceae,Solanaceae,Chenopodiaceae,Fabaceae,Asteraceae,Polygonaceae),Poaceae);',\n",
       " '(Poaceae,((Apiaceae,Chenopodiaceae),((Brassicaceae,Fabaceae),Caprifoliaceae)));',\n",
       " '(Poaceae,(((Apiaceae,Chenopodiaceae),Caprifoliaceae),(Brassicaceae,Fabaceae)));',\n",
       " '(((Apiaceae,Chenopodiaceae),(Brassicaceae,Fabaceae),Caprifoliaceae),Poaceae);']"
      ]
     },
     "execution_count": 280,
     "metadata": {},
     "output_type": "execute_result"
    }
   ],
   "source": [
    "import networkx\n",
    "import sys\n",
    "from ete3 import Tree\n",
    "\n",
    "\n",
    "def read_phylogenetic_tree(path: str) -> list[str]:\n",
    "    with open(path, \"r\") as f:\n",
    "        tree_str = f.read()\n",
    "    return [x.replace(\"\\n\", \"\") + \";\" for x in tree_str.split(\";\")][:-1]\n",
    "\n",
    "newick_strings = read_phylogenetic_tree(\"handins/handin1/newick.tre\")\n",
    "newick_strings[0:10]"
   ]
  },
  {
   "cell_type": "code",
   "execution_count": 296,
   "metadata": {},
   "outputs": [],
   "source": [
    "class AdjacencyList:\n",
    "    # directed unweighted adjacency list representation of a graph\n",
    "    # stores all outgoing edges for each vertex\n",
    "    # allows for edges going from a vertex to it self (so far)\n",
    "    def __init__(self) -> None:\n",
    "        self.adjList = {}\n",
    "\n",
    "    def add_vertex(self, vertex: str) -> None:\n",
    "        if vertex not in self.adjList.keys():\n",
    "            self.adjList[vertex] = []  # create the vertex if it does not already exists\n",
    "\n",
    "    def add_edge(self, start_vertex: str, end_vertex: str) -> None:\n",
    "        if (start_vertex not in self.adjList.keys()) or (\n",
    "            end_vertex not in self.adjList.keys()\n",
    "        ):\n",
    "            raise Exception(\"Some provided vertex does not exists in the graph\")\n",
    "        elif start_vertex == end_vertex:\n",
    "            raise Exception(\"A vertex can't have an edge to itself\")\n",
    "        else:\n",
    "            self.adjList[start_vertex].append(end_vertex)\n",
    "\n",
    "    def __str__(self) -> str:\n",
    "        result = \"\"\n",
    "        for vertex, neighbors in self.adjList.items():\n",
    "            result += f\"{vertex}: {neighbors}\\n\"\n",
    "        return result"
   ]
  },
  {
   "cell_type": "markdown",
   "metadata": {},
   "source": [
    "# Newick Strings"
   ]
  },
  {
   "cell_type": "markdown",
   "metadata": {},
   "source": [
    "## 1. Write a Python script to extract the phylogenetic trees into a graph representation"
   ]
  },
  {
   "cell_type": "code",
   "execution_count": 305,
   "metadata": {},
   "outputs": [],
   "source": [
    "graph_representations1 = [] # to store the adjacency lists\n",
    "\n",
    "for tree in newick_strings:\n",
    "    tree = Tree(tree, format=8)\n",
    "    adjList = AdjacencyList()\n",
    "\n",
    "    # give labels to intermediate nodes with no labels\n",
    "    name_iterator = 0\n",
    "    for node in tree.traverse():\n",
    "        if node.name == \"\":\n",
    "            node.name = str(\n",
    "                name_iterator\n",
    "            )  # give unlabelled intermediate nodes a unique label\n",
    "\n",
    "        adjList.add_vertex(node.name)\n",
    "        name_iterator += 1\n",
    "\n",
    "    # add edges\n",
    "    for node in tree.traverse():\n",
    "        if children := node.get_children():  # if current node is not a leaf node\n",
    "            for (\n",
    "                child_node\n",
    "            ) in children:  # add edges going to each child from current node\n",
    "                adjList.add_vertex(child_node.name)\n",
    "                adjList.add_edge(start_vertex=node.name, end_vertex=child_node.name)\n",
    "    \n",
    "    graph_representations1.append(adjList)"
   ]
  },
  {
   "cell_type": "code",
   "execution_count": 306,
   "metadata": {},
   "outputs": [
    {
     "name": "stdout",
     "output_type": "stream",
     "text": [
      "0: ['Atrichantha_elsiae', '2']\n",
      "Atrichantha_elsiae: []\n",
      "2: ['Atrichantha_gemmifera', 'Calotesta_alba', 'Metalasia']\n",
      "Atrichantha_gemmifera: []\n",
      "Calotesta_alba: []\n",
      "Metalasia: ['Metalasia_oligocephala', '7']\n",
      "Metalasia_oligocephala: []\n",
      "7: ['Metalasia_bodkinii', '9']\n",
      "Metalasia_bodkinii: []\n",
      "9: ['Metalasia_humilis', '11']\n",
      "Metalasia_humilis: []\n",
      "11: ['Metalasia_quinqueflora', 'Metalasia_lichtensteinii', '14']\n",
      "Metalasia_quinqueflora: []\n",
      "Metalasia_lichtensteinii: []\n",
      "14: ['15', '16']\n",
      "15: ['Metalasia_tenuis', 'Metalasia_tenuifolia']\n",
      "16: ['Metalasia_phillipsii', '20']\n",
      "Metalasia_tenuis: []\n",
      "Metalasia_tenuifolia: []\n",
      "Metalasia_phillipsii: []\n",
      "20: ['21', '22']\n",
      "21: ['23', 'Metalasia_seriphiifolia', 'Metalasia_erubescens']\n",
      "22: ['26', '27', '28']\n",
      "23: ['Metalasia_serrata', 'Metalasia_cymbifolia']\n",
      "Metalasia_seriphiifolia: []\n",
      "Metalasia_erubescens: []\n",
      "26: ['31', 'Metalasia_juniperoides']\n",
      "27: ['Metalasia_rhoderoides', 'Metalasia_confusa', 'Metalasia_riparia']\n",
      "28: ['Metalasia_compacta', '37']\n",
      "Metalasia_serrata: []\n",
      "Metalasia_cymbifolia: []\n",
      "31: ['38', 'Metalasia_albescens']\n",
      "Metalasia_juniperoides: []\n",
      "Metalasia_rhoderoides: []\n",
      "Metalasia_confusa: []\n",
      "Metalasia_riparia: []\n",
      "Metalasia_compacta: []\n",
      "37: ['40', '41']\n",
      "38: ['Metalasia_serrulata', 'Metalasia_rogersii']\n",
      "Metalasia_albescens: []\n",
      "40: ['44', 'Metalasia_capitata']\n",
      "41: ['46', '47']\n",
      "Metalasia_serrulata: []\n",
      "Metalasia_rogersii: []\n",
      "44: ['48', 'Metalasia_adunca']\n",
      "Metalasia_capitata: []\n",
      "46: ['Metalasia_brevifolia', 'Metalasia_densa']\n",
      "47: ['Metalasia_muraltiifolia', '53']\n",
      "48: ['Metalasia_agathosmoides', 'Metalasia_fastigiata']\n",
      "Metalasia_adunca: []\n",
      "Metalasia_brevifolia: []\n",
      "Metalasia_densa: []\n",
      "Metalasia_muraltiifolia: []\n",
      "53: ['Metalasia_pulchella', '57']\n",
      "Metalasia_agathosmoides: []\n",
      "Metalasia_fastigiata: []\n",
      "Metalasia_pulchella: []\n",
      "57: ['Metalasia_cephalotes', '59']\n",
      "Metalasia_cephalotes: []\n",
      "59: ['Metalasia_divergens', 'Metalasia_inversa']\n",
      "Metalasia_divergens: []\n",
      "Metalasia_inversa: []\n",
      "\n"
     ]
    }
   ],
   "source": [
    "print(graph_representations1[0])"
   ]
  },
  {
   "cell_type": "markdown",
   "metadata": {},
   "source": [
    "## 2. How many phylogenetic trees are there?"
   ]
  },
  {
   "cell_type": "code",
   "execution_count": 52,
   "metadata": {},
   "outputs": [
    {
     "name": "stdout",
     "output_type": "stream",
     "text": [
      "There are in total: 100 phylogenetic trees\n"
     ]
    }
   ],
   "source": [
    "print(f\"There are in total: {len(newick_strings)} phylogenetic trees\")"
   ]
  },
  {
   "cell_type": "markdown",
   "metadata": {},
   "source": [
    "## 3. Are these phylogenetic trees rooted or unrooted?"
   ]
  },
  {
   "cell_type": "code",
   "execution_count": 34,
   "metadata": {},
   "outputs": [
    {
     "name": "stdout",
     "output_type": "stream",
     "text": [
      "\n",
      "   /-Atrichantha_elsiae\n",
      "  |\n",
      "--|   /-Atrichantha_gemmifera\n",
      "  |  |\n",
      "  |  |--Calotesta_alba\n",
      "   \\-|\n",
      "     |   /-Metalasia_oligocephala\n",
      "     |  |\n",
      "      \\-|   /-Metalasia_bodkinii\n",
      "        |  |\n",
      "         \\-|   /-Metalasia_humilis\n",
      "           |  |\n",
      "           |  |   /-Metalasia_quinqueflora\n",
      "            \\-|  |\n",
      "              |  |--Metalasia_lichtensteinii\n",
      "              |  |\n",
      "               \\-|      /-Metalasia_tenuis\n",
      "                 |   /-|\n",
      "                 |  |   \\-Metalasia_tenuifolia\n",
      "                 |  |\n",
      "                 |  |   /-Metalasia_phillipsii\n",
      "                  \\-|  |\n",
      "                    |  |         /-Metalasia_serrata\n",
      "                    |  |      /-|\n",
      "                    |  |     |   \\-Metalasia_cymbifolia\n",
      "                    |  |   /-|\n",
      "                     \\-|  |  |--Metalasia_seriphiifolia\n",
      "                       |  |  |\n",
      "                       |  |   \\-Metalasia_erubescens\n",
      "                       |  |\n",
      "                       |  |            /-Metalasia_serrulata\n",
      "                       |  |         /-|\n",
      "                       |  |      /-|   \\-Metalasia_rogersii\n",
      "                        \\-|     |  |\n",
      "                          |   /-|   \\-Metalasia_albescens\n",
      "                          |  |  |\n",
      "                          |  |   \\-Metalasia_juniperoides\n",
      "                          |  |\n",
      "                          |  |   /-Metalasia_rhoderoides\n",
      "                          |  |  |\n",
      "                          |  |--|--Metalasia_confusa\n",
      "                           \\-|  |\n",
      "                             |   \\-Metalasia_riparia\n",
      "                             |\n",
      "                             |   /-Metalasia_compacta\n",
      "                             |  |\n",
      "                             |  |            /-Metalasia_agathosmoides\n",
      "                             |  |         /-|\n",
      "                              \\-|      /-|   \\-Metalasia_fastigiata\n",
      "                                |     |  |\n",
      "                                |   /-|   \\-Metalasia_adunca\n",
      "                                |  |  |\n",
      "                                |  |   \\-Metalasia_capitata\n",
      "                                 \\-|\n",
      "                                   |      /-Metalasia_brevifolia\n",
      "                                   |   /-|\n",
      "                                   |  |   \\-Metalasia_densa\n",
      "                                    \\-|\n",
      "                                      |   /-Metalasia_muraltiifolia\n",
      "                                       \\-|\n",
      "                                         |   /-Metalasia_pulchella\n",
      "                                          \\-|\n",
      "                                            |   /-Metalasia_cephalotes\n",
      "                                             \\-|\n",
      "                                               |   /-Metalasia_divergens\n",
      "                                                \\-|\n",
      "                                                   \\-Metalasia_inversa\n"
     ]
    }
   ],
   "source": [
    "# get the number of rooted and unrotted trees\n",
    "for t in n_trees:\n",
    "    tree = Tree(t, format=8)\n",
    "    #tree.\n",
    "    print(tree)\n",
    "    break"
   ]
  },
  {
   "cell_type": "code",
   "execution_count": null,
   "metadata": {},
   "outputs": [],
   "source": [
    "# ete3 is for dealing with phylogenetic trees. This can be used to parse the file. Then we need to make it into a graph representation\n",
    "# pip install ete3\n",
    "# also we should visualise the graph in some way."
   ]
  },
  {
   "cell_type": "markdown",
   "metadata": {},
   "source": [
    "# Enewick strings"
   ]
  },
  {
   "cell_type": "code",
   "execution_count": 69,
   "metadata": {},
   "outputs": [
    {
     "data": {
      "text/plain": [
       "['(#1,((((2,3),1))#1,4));',\n",
       " '((#1,4),((1)#1,(2,3)));',\n",
       " '((#1,4),(((3)#1,2),1));',\n",
       " '((#1,4),(((2,3))#1,1));',\n",
       " '((#1,4),(((2)#1,3),1));',\n",
       " '((#1,((1)#1,4)),(2,3));',\n",
       " '(((#1,4),1),((3)#1,2));',\n",
       " '(#1,((((2,3))#1,4),1));',\n",
       " '(((#1,4),1),((2)#1,3));',\n",
       " '(#1,((((1)#1,4),3),2));']"
      ]
     },
     "execution_count": 69,
     "metadata": {},
     "output_type": "execute_result"
    }
   ],
   "source": [
    "enewick_strings = read_phylogenetic_tree(\"handins/handin1/enewick.tre\")\n",
    "enewick_strings[0:10]"
   ]
  },
  {
   "cell_type": "markdown",
   "metadata": {},
   "source": [
    "## 4. "
   ]
  },
  {
   "cell_type": "markdown",
   "metadata": {},
   "source": [
    "## 5. How many phylogenetic networks are there?"
   ]
  },
  {
   "cell_type": "code",
   "execution_count": 70,
   "metadata": {},
   "outputs": [
    {
     "name": "stdout",
     "output_type": "stream",
     "text": [
      "There are in total: 100 phylogenetic trees\n"
     ]
    }
   ],
   "source": [
    "print(f\"There are in total: {len(enewick_strings)} phylogenetic trees\")"
   ]
  }
 ],
 "metadata": {
  "kernelspec": {
   "display_name": "BSG",
   "language": "python",
   "name": "python3"
  },
  "language_info": {
   "codemirror_mode": {
    "name": "ipython",
    "version": 3
   },
   "file_extension": ".py",
   "mimetype": "text/x-python",
   "name": "python",
   "nbconvert_exporter": "python",
   "pygments_lexer": "ipython3",
   "version": "3.11.4"
  },
  "orig_nbformat": 4
 },
 "nbformat": 4,
 "nbformat_minor": 2
}

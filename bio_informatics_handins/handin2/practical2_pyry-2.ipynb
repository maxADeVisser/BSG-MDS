{
 "cells": [
  {
   "cell_type": "code",
   "execution_count": 1,
   "id": "69a2a9aa",
   "metadata": {},
   "outputs": [
    {
     "name": "stdout",
     "output_type": "stream",
     "text": [
      "Requirement already satisfied: biopython in /opt/software/lib/python3.10/site-packages (1.81)\r\n",
      "Requirement already satisfied: numpy in /opt/software/lib/python3.10/site-packages (from biopython) (1.24.4)\r\n"
     ]
    }
   ],
   "source": [
    "!pip install biopython"
   ]
  },
  {
   "cell_type": "code",
   "execution_count": 2,
   "id": "4247c076",
   "metadata": {},
   "outputs": [],
   "source": [
    "from Bio import SeqIO\n",
    "import numpy as np\n",
    "from collections import Counter"
   ]
  },
  {
   "cell_type": "code",
   "execution_count": 3,
   "id": "4a7fa10a",
   "metadata": {},
   "outputs": [],
   "source": [
    "def read_fasta(file_path):\n",
    "    sequences = []\n",
    "    for record in SeqIO.parse(file_path, \"fasta\"):\n",
    "        sequences.append(str(record.seq))\n",
    "    return sequences\n"
   ]
  },
  {
   "cell_type": "code",
   "execution_count": 4,
   "id": "994dea2d",
   "metadata": {},
   "outputs": [],
   "source": [
    "s = read_fasta('./sequences.fa')"
   ]
  },
  {
   "cell_type": "code",
   "execution_count": 5,
   "id": "63f2e857",
   "metadata": {},
   "outputs": [],
   "source": [
    "filter_indices = []\n",
    "\n",
    "for i in range(len(s[0])):\n",
    "        \n",
    "        # Create a list of all characters in the ith column across all sequences\n",
    "        col_seq = [seq[i] for seq in s]\n",
    "        \n",
    "        \n",
    "        if '.' in col_seq or 'N' in col_seq:\n",
    "            \n",
    "            filter_indices.append(i)\n",
    "new_seq = ''\n",
    "for seq in enumerate(s):\n",
    "    for index in range(len(seq[1])):\n",
    "        if index not in filter_indices:\n",
    "            new_seq += seq[1][index]\n",
    "    s[seq[0]] = new_seq\n",
    "    new_seq = []"
   ]
  },
  {
   "cell_type": "markdown",
   "id": "a17c12f3",
   "metadata": {},
   "source": [
    "## write a Python script to extract the segregating sites from the sequences into a binary matrix"
   ]
  },
  {
   "cell_type": "code",
   "execution_count": 6,
   "id": "2d24fbbd",
   "metadata": {},
   "outputs": [],
   "source": [
    "def make_base_seq(sequences):\n",
    "    seg_sites = []\n",
    "    base_seq = ''\n",
    "    \n",
    "    # Loop through every column\n",
    "    for i in range(len(sequences[0])):\n",
    "        \n",
    "        # Create a list of all characters in the ith column across all sequences\n",
    "        col_seq = [seq[i] for seq in sequences]\n",
    "        \n",
    "        # Get the most frequent characters in ith column\n",
    "        most_frequent = max(set(col_seq), key = col_seq.count)\n",
    "        \n",
    "        \n",
    "        # Add this most frequent character to the base sequence\n",
    "        base_seq += most_frequent\n",
    "    \n",
    "    return base_seq"
   ]
  },
  {
   "cell_type": "code",
   "execution_count": 7,
   "id": "da9eb0a2",
   "metadata": {},
   "outputs": [],
   "source": [
    "def seg_sites_matrix(base_seq, sequences):\n",
    "    matrix = []\n",
    "    \n",
    "    \n",
    "    \n",
    "    # Loop through every sequence\n",
    "    for seq in sequences:\n",
    "        row = []\n",
    "        # Loop through each character in a sequence\n",
    "        for i in range(len(seq)):\n",
    "            \n",
    "            # If the character is the same as the character in the base sequence, append 0 else 1\n",
    "            if seq[i] == base_seq[i]:\n",
    "                row.append(0)\n",
    "            else:\n",
    "                row.append(1)\n",
    "        matrix.append(row)\n",
    "    return np.array(matrix)"
   ]
  },
  {
   "cell_type": "code",
   "execution_count": 8,
   "id": "e7e42a4a",
   "metadata": {},
   "outputs": [],
   "source": [
    "base_seq = make_base_seq(s)"
   ]
  },
  {
   "cell_type": "markdown",
   "id": "0812ccef",
   "metadata": {},
   "source": [
    "## How many genomic sequences are there?"
   ]
  },
  {
   "cell_type": "code",
   "execution_count": 9,
   "id": "bcddc2c5",
   "metadata": {},
   "outputs": [
    {
     "data": {
      "text/plain": [
       "11"
      ]
     },
     "execution_count": 9,
     "metadata": {},
     "output_type": "execute_result"
    }
   ],
   "source": [
    "len(s)"
   ]
  },
  {
   "cell_type": "markdown",
   "id": "3f12fcab",
   "metadata": {},
   "source": [
    "## How many segregating sites do they have?"
   ]
  },
  {
   "cell_type": "code",
   "execution_count": 10,
   "id": "d7838878",
   "metadata": {},
   "outputs": [
    {
     "data": {
      "text/plain": [
       "118"
      ]
     },
     "execution_count": 10,
     "metadata": {},
     "output_type": "execute_result"
    }
   ],
   "source": [
    "binary_matrix = seg_sites_matrix(base_seq, s)\n",
    "binary_matrix.sum()"
   ]
  },
  {
   "cell_type": "markdown",
   "id": "94c6149e",
   "metadata": {},
   "source": [
    "## write a Python script to determine whether there is a perfect phylogeny for the segregating sites of the sequences."
   ]
  },
  {
   "cell_type": "code",
   "execution_count": 11,
   "id": "a0157fe5",
   "metadata": {},
   "outputs": [],
   "source": [
    "def check_perfect_phylogeny(matrix):\n",
    "    rows, cols = matrix.shape\n",
    "    \n",
    "    # set to hold the positions of ones in the matrix\n",
    "    O = set()\n",
    "    \n",
    "    L = np.zeros((rows, cols))  # Initialize to zeros\n",
    "    \n",
    "    # Add positions of ones in the matrix to the set O \n",
    "    for r in range(rows):\n",
    "        for c in range(cols):\n",
    "            if matrix[r][c] == 1:\n",
    "                O.add((r, c))\n",
    "    \n",
    "    # Calculate the L matrix based on the positions in O\n",
    "    for i, j in O:\n",
    "        for k in range(j):\n",
    "            if (i, k) in O:\n",
    "                L[i, j] = k+1\n",
    "    \n",
    "    \n",
    "    L_ = np.zeros(cols)\n",
    "    \n",
    "     # For each column, find the largest value in L for that column among rows that are in set O\n",
    "    for j in range(cols):\n",
    "        largest = 0\n",
    "        for i in range(rows):\n",
    "            if (i, j) in O and L[i, j] > largest:\n",
    "                largest = L[i, j]\n",
    "        L_[j] = largest\n",
    "    for i, j in O:\n",
    "        if L[i, j] != L_[j]:\n",
    "            return False\n",
    "            \n",
    "    return True"
   ]
  },
  {
   "cell_type": "code",
   "execution_count": 12,
   "id": "defa0cb9",
   "metadata": {},
   "outputs": [
    {
     "data": {
      "text/plain": [
       "False"
      ]
     },
     "execution_count": 12,
     "metadata": {},
     "output_type": "execute_result"
    }
   ],
   "source": [
    "check_perfect_phylogeny(binary_matrix)"
   ]
  },
  {
   "cell_type": "markdown",
   "id": "969a0f75",
   "metadata": {},
   "source": [
    "## What is the running time of your script, as a function of the number n of genomic sequences and the number m of segregating sites?"
   ]
  },
  {
   "cell_type": "markdown",
   "id": "7fb647a0",
   "metadata": {},
   "source": [
    "WORST CASES:\n",
    "\n",
    "constructing O (first loop): n*m\n",
    "\n",
    "calculating L (second loop): n*m^2\n",
    "\n",
    "calculating L_ (third loop): n*m\n",
    "\n",
    "final check (fourth loop): n*m\n",
    "\n",
    "so the running time of the function is O(n * m^2)"
   ]
  },
  {
   "cell_type": "markdown",
   "id": "449343a1",
   "metadata": {},
   "source": [
    "## What is the best possible running time of an algorithm to solve the perfect phylogeny problem?"
   ]
  },
  {
   "cell_type": "markdown",
   "id": "19236fb9",
   "metadata": {},
   "source": [
    "By sorting the columns in decreasing order and removing repeated columns you can get the running time to O(nm)."
   ]
  },
  {
   "cell_type": "code",
   "execution_count": null,
   "id": "25bc8665",
   "metadata": {},
   "outputs": [],
   "source": []
  }
 ],
 "metadata": {
  "kernelspec": {
   "display_name": "Python 3",
   "language": "python",
   "name": "python3"
  },
  "language_info": {
   "codemirror_mode": {
    "name": "ipython",
    "version": 3
   },
   "file_extension": ".py",
   "mimetype": "text/x-python",
   "name": "python",
   "nbconvert_exporter": "python",
   "pygments_lexer": "ipython3",
   "version": "3.10.8"
  }
 },
 "nbformat": 4,
 "nbformat_minor": 5
}

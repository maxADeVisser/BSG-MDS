{
 "cells": [
  {
   "cell_type": "code",
   "execution_count": 1,
   "id": "13b9cc27",
   "metadata": {},
   "outputs": [],
   "source": [
    "def read_matrix(file_name):\n",
    "    with open(file_name, \"r\") as f:\n",
    "        lines = f.readlines()\n",
    "    matrix = []\n",
    "    for line in lines:\n",
    "        row = list(line.strip().split())\n",
    "        matrix.append(row)\n",
    "    for i, row in enumerate(matrix):\n",
    "        matrix[i] = [int(a) for a in row]\n",
    "    return matrix"
   ]
  },
  {
   "cell_type": "code",
   "execution_count": 11,
   "id": "d24b50d5",
   "metadata": {},
   "outputs": [
    {
     "data": {
      "text/plain": [
       "[[0, 1, 2, 3, 3, 3, 4, 4, 4, 4],\n",
       " [1, 0, 2, 3, 3, 3, 4, 4, 4, 4],\n",
       " [2, 2, 0, 3, 3, 3, 4, 4, 4, 4],\n",
       " [3, 3, 3, 0, 1, 2, 4, 4, 4, 4],\n",
       " [3, 3, 3, 1, 0, 2, 4, 4, 4, 4],\n",
       " [3, 3, 3, 2, 2, 0, 4, 4, 4, 4],\n",
       " [4, 4, 4, 4, 4, 4, 0, 1, 2, 2],\n",
       " [4, 4, 4, 4, 4, 4, 1, 0, 2, 2],\n",
       " [4, 4, 4, 4, 4, 4, 2, 2, 0, 1],\n",
       " [4, 4, 4, 4, 4, 4, 2, 2, 1, 0]]"
      ]
     },
     "execution_count": 11,
     "metadata": {},
     "output_type": "execute_result"
    }
   ],
   "source": [
    "m = read_matrix('./ultrametric.txt')\n",
    "m"
   ]
  },
  {
   "cell_type": "code",
   "execution_count": 22,
   "id": "b52896d1",
   "metadata": {},
   "outputs": [
    {
     "data": {
      "text/plain": [
       "[[0, 16, 16, 28, 28],\n",
       " [16, 0, 4, 28, 28],\n",
       " [16, 4, 0, 28, 28],\n",
       " [28, 28, 28, 0, 20],\n",
       " [28, 28, 28, 20, 0]]"
      ]
     },
     "execution_count": 22,
     "metadata": {},
     "output_type": "execute_result"
    }
   ],
   "source": [
    "m_wiki = [[0, 16, 16, 28, 28], [16, 0, 4, 28, 28], [16, 4, 0, 28, 28], [28, 28, 28, 0, 20], [28, 28, 28, 20, 0]]\n",
    "m_wiki"
   ]
  },
  {
   "cell_type": "code",
   "execution_count": 23,
   "id": "0c7754f1",
   "metadata": {},
   "outputs": [],
   "source": [
    "def is_ultra(matrix):\n",
    "    \n",
    "    n = len(matrix)\n",
    "    for i in range(n):\n",
    "        for j in range(n):\n",
    "            for k in range(n):\n",
    "                equal_count = 0\n",
    "                largest = max(matrix[i][j], matrix[i][k], matrix[j][k])\n",
    "                if matrix[i][j] == largest:\n",
    "                    equal_count += 1\n",
    "                if matrix[i][k] == largest:\n",
    "                    equal_count += 1\n",
    "                if matrix[j][k] == largest:\n",
    "                    equal_count += 1\n",
    "                \n",
    "                if equal_count < 2:\n",
    "                    return False\n",
    "    return True"
   ]
  },
  {
   "cell_type": "code",
   "execution_count": 24,
   "id": "0c78b68b",
   "metadata": {},
   "outputs": [
    {
     "data": {
      "text/plain": [
       "True"
      ]
     },
     "execution_count": 24,
     "metadata": {},
     "output_type": "execute_result"
    }
   ],
   "source": [
    "is_ultra(m)"
   ]
  },
  {
   "cell_type": "code",
   "execution_count": 25,
   "id": "c026d6d7",
   "metadata": {},
   "outputs": [
    {
     "data": {
      "text/plain": [
       "True"
      ]
     },
     "execution_count": 25,
     "metadata": {},
     "output_type": "execute_result"
    }
   ],
   "source": [
    "is_ultra(m_wiki)"
   ]
  },
  {
   "cell_type": "markdown",
   "id": "cf3e9727",
   "metadata": {},
   "source": [
    "## What is the running time of your script, as a function of the number n of species?"
   ]
  },
  {
   "cell_type": "markdown",
   "id": "618f5312",
   "metadata": {},
   "source": [
    "There are 3 nested loops in the function, each running n times. Thus the running time is O(n^3)"
   ]
  },
  {
   "cell_type": "markdown",
   "id": "b0f866b0",
   "metadata": {},
   "source": [
    "## What is the best possible running time of an algorithm to test for an ultrametric distance matrix?"
   ]
  },
  {
   "cell_type": "markdown",
   "id": "3d555d32",
   "metadata": {},
   "source": [
    "The best possible runnig time is O(n^3)"
   ]
  },
  {
   "cell_type": "code",
   "execution_count": null,
   "id": "8a246ddc",
   "metadata": {},
   "outputs": [],
   "source": []
  }
 ],
 "metadata": {
  "kernelspec": {
   "display_name": "Python 3",
   "language": "python",
   "name": "python3"
  },
  "language_info": {
   "codemirror_mode": {
    "name": "ipython",
    "version": 3
   },
   "file_extension": ".py",
   "mimetype": "text/x-python",
   "name": "python",
   "nbconvert_exporter": "python",
   "pygments_lexer": "ipython3",
   "version": "3.10.8"
  }
 },
 "nbformat": 4,
 "nbformat_minor": 5
}

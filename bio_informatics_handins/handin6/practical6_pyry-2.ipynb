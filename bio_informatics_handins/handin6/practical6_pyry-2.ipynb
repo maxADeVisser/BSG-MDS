{
 "cells": [
  {
   "cell_type": "code",
   "execution_count": 1,
   "id": "200faf77",
   "metadata": {},
   "outputs": [],
   "source": [
    "import networkx as nx\n",
    "import pandas as pd\n",
    "from tqdm import tqdm\n",
    "from IPython.display import display"
   ]
  },
  {
   "cell_type": "code",
   "execution_count": 2,
   "id": "6c99d56b",
   "metadata": {},
   "outputs": [],
   "source": [
    "def read_nodes(data_path):\n",
    "    re_expression = \"[|\\t]+\"\n",
    "\n",
    "    # only read the first three columns\n",
    "    df = pd.read_csv(\n",
    "        data_path, sep=re_expression, header=None, engine=\"python\", usecols=[0, 1, 2]\n",
    "    )\n",
    "\n",
    "    df.columns = [\"Node ID\", \"Parent Node ID\", \"rank\"]\n",
    "\n",
    "    return df\n",
    "\n",
    "\n",
    "# Store the data as a graph\n",
    "def build(df: pd.DataFrame) -> nx.DiGraph:\n",
    "    G = nx.DiGraph()\n",
    "    for _, row in df.iterrows():\n",
    "        parent_node_id = row[\"Parent Node ID\"]\n",
    "        node_id = row[\"Node ID\"]\n",
    "\n",
    "        # Add nodes\n",
    "        if not G.has_node(parent_node_id):\n",
    "            G.add_node(parent_node_id, name=parent_node_id)\n",
    "\n",
    "        G.add_node(node_id, name=node_id)\n",
    "\n",
    "        # Add edges\n",
    "        G.add_edge(parent_node_id, node_id)\n",
    "    return G\n",
    "\n",
    "\n",
    "def get_children(tree: nx.DiGraph, node_ID: int) -> list[int]:\n",
    "    \"\"\"Given a tree graph, return a list of the children of the node_ID\"\"\"\n",
    "    return [c for _, c in tree.out_edges(node_ID)]\n",
    "\n",
    "\n",
    "def get_parent(tree: nx.DiGraph, node_ID: int) -> int | None:\n",
    "    \"\"\"Given a tree graph, return the parent of the given node\"\"\"\n",
    "    parent_nodes = [p for p, _ in tree.in_edges(node_ID)]\n",
    "    if len(parent_nodes) > 1:\n",
    "        raise Exception(f\"There are multiple parent nodes for node {node_ID}\")\n",
    "    if len(parent_nodes) == 0:\n",
    "        return None\n",
    "    return parent_nodes[0]\n",
    "\n",
    "\n",
    "def restrict_tree(tree: nx.DiGraph, df: pd.DataFrame) -> nx.DiGraph:\n",
    "    \"\"\"Restrict a tree graph to the seven standard taxonomic ranks\"\"\"\n",
    "    restricted_tree = tree.copy()\n",
    "    standard_taxonomic_ranks = [\n",
    "        \"superkingdom\",  # is actually kingdom in the data\n",
    "        \"phylum\",\n",
    "        \"class\",\n",
    "        \"order\",\n",
    "        \"family\",\n",
    "        \"genus\",\n",
    "        \"species\",\n",
    "    ]\n",
    "\n",
    "    # list of nodes ID with non-standard taxonomic rank:\n",
    "    non_standard_nodes = list(\n",
    "        df[~df[\"rank\"].isin(standard_taxonomic_ranks)][\"Node ID\"].values\n",
    "    )\n",
    "\n",
    "    no_parent_node_counter = 0\n",
    "    for current_node_ID in non_standard_nodes:\n",
    "        # connect each child node of current node to the parent node of current node\n",
    "        if parent_node_ID := get_parent(restricted_tree, current_node_ID):\n",
    "            if children := get_children(restricted_tree, current_node_ID): # we only care about children\n",
    "                for child_node_ID in children:\n",
    "                    restricted_tree.add_edge(parent_node_ID, child_node_ID)\n",
    "                restricted_tree.remove_node(current_node_ID)\n",
    "            else:\n",
    "                restricted_tree.remove_node(current_node_ID)\n",
    "        else:\n",
    "            no_parent_node_counter += 1\n",
    "            continue\n",
    "\n",
    "        # Remove node and edges connected to it\n",
    "\n",
    "    print(f\"Found {no_parent_node_counter} nodes with no parents\")\n",
    "    return restricted_tree\n",
    "\n",
    "\n",
    "def contract_elementary_paths(tree: nx.DiGraph) -> nx.DiGraph:\n",
    "    \"\"\"Given a tree graph, all elementary paths with only one parent and one child are removed, and child and parent are connected.\n",
    "    Functions assumes that every node in the tree graph only has a single parent\"\"\"\n",
    "    contracted_tree = tree.copy()\n",
    "\n",
    "    for current_node in tree.nodes:\n",
    "        if children := get_children(contracted_tree, current_node):\n",
    "            if len(children) == 1: # If only 1 child, contract node:\n",
    "                parent_node_ID = get_parent(contracted_tree, current_node)\n",
    "                child_node_ID = children[0]\n",
    "                contracted_tree.add_edge(parent_node_ID, child_node_ID)\n",
    "                contracted_tree.remove_node(current_node)\n",
    "            else:\n",
    "                # node has more than 1 children\n",
    "                continue\n",
    "        else:\n",
    "            # node is a leaf with no children\n",
    "            continue\n",
    "\n",
    "    return contracted_tree\n",
    "\n",
    "\n",
    "def read_mapping(mapping_path):\n",
    "    mappings = {}\n",
    "    with open(mapping_path, \"r\") as f:\n",
    "        for line in f:\n",
    "            tokens = line.strip().split()\n",
    "            sequence_id = tokens[0]\n",
    "            tax_ids = list(map(int, tokens[1:]))\n",
    "            mappings[sequence_id] = tax_ids\n",
    "    return mappings\n",
    "\n",
    "def find_lineage(graph: nx.DiGraph, node_ID: int, root_node_ID=1):\n",
    "    \"\"\"Returns the shortest path (lineage) from the rootnode (ID: 1) to the provided node using dijkstras DFS\"\"\"\n",
    "    lineage = nx.shortest_path(graph, source=root_node_ID, target=node_ID, method='dijkstra')\n",
    "    return lineage\n",
    "\n",
    "# Function to find the lowest common ancestor in a directed acyclic graph (DAG)\n",
    "def find_lca(tree: nx.DiGraph, nodes: list[int]) -> int:\n",
    "    # Create a set to store the ancestors of each node\n",
    "    ancestors = []\n",
    "    for node in nodes:\n",
    "        if node != 1:\n",
    "            a = nx.ancestors(tree, node)\n",
    "            ancestors.append(list(a))\n",
    "\n",
    "    # Find the intersection of all ancestors\n",
    "    common_ancestors = set(ancestors[0])\n",
    "    for a in ancestors[1:]:\n",
    "        \n",
    "        common_ancestors.intersection_update(set(a))\n",
    "    \n",
    "    if common_ancestors:\n",
    "        # If there is at least one common ancestor, return any one of them\n",
    "        return max(common_ancestors)\n",
    "    else:\n",
    "        # If there is no common ancestor, return None or handle it as needed\n",
    "        return None"
   ]
  },
  {
   "cell_type": "code",
   "execution_count": 3,
   "id": "9721b478",
   "metadata": {},
   "outputs": [],
   "source": [
    "df = read_nodes(\"./nodes.dmp\")\n",
    "total_G = build(df)\n",
    "total_G.remove_edge(1, 1)  # remove the one cycle from the first node to it self"
   ]
  },
  {
   "cell_type": "code",
   "execution_count": 4,
   "id": "47c0bd7c",
   "metadata": {
    "scrolled": true
   },
   "outputs": [
    {
     "name": "stdout",
     "output_type": "stream",
     "text": [
      "Found 1 nodes with no parents\n"
     ]
    }
   ],
   "source": [
    "restricted_tree = restrict_tree(total_G, df)"
   ]
  },
  {
   "cell_type": "code",
   "execution_count": 5,
   "id": "522aaa69",
   "metadata": {},
   "outputs": [],
   "source": [
    "mappings = read_mapping(\"./mapping.txt\")"
   ]
  },
  {
   "cell_type": "code",
   "execution_count": 6,
   "id": "f9c50344",
   "metadata": {},
   "outputs": [],
   "source": [
    "### Find lineages\n",
    "lineages = {}\n",
    "for sequence_id, tax_ids in mappings.items():\n",
    "    lineages_for_seq = []\n",
    "    for tax_id in tax_ids:\n",
    "        lineage = find_lineage(total_G, tax_id)\n",
    "        lineages_for_seq.append(lineage)\n",
    "    lineages[sequence_id] = lineages_for_seq"
   ]
  },
  {
   "cell_type": "code",
   "execution_count": 7,
   "id": "57aed734",
   "metadata": {},
   "outputs": [],
   "source": [
    "### Build LCA skeleton trees for each sequence read\n",
    "lca_skeleton_tree = {}\n",
    "for read_id, node_list in mappings.items():\n",
    "    lca = find_lca(restricted_tree, node_list)\n",
    "    \n",
    "    if lca is not None:\n",
    "        # Get all nodes from the root to each node in node_list and the LCA\n",
    "        nodes_to_include = set()\n",
    "        nodes_to_include.add(1)\n",
    "        for node in node_list:\n",
    "            nodes_to_include.update(\n",
    "                nx.shortest_path(restricted_tree, source=1, target=node)\n",
    "            )\n",
    "            nodes_to_include.update(\n",
    "                nx.shortest_path(restricted_tree, source=1, target=lca)\n",
    "            )\n",
    "\n",
    "        skeleton_tree = restricted_tree.subgraph(nodes_to_include)\n",
    "\n",
    "        lca_skeleton_tree[read_id] = contract_elementary_paths(skeleton_tree)"
   ]
  },
  {
   "cell_type": "code",
   "execution_count": 8,
   "id": "688b5397",
   "metadata": {},
   "outputs": [
    {
     "name": "stdout",
     "output_type": "stream",
     "text": [
      "Number of nodes in LCA skeleton tree for each sequence read:\n",
      "R00010: 16 nodes\n",
      "R00020: 32 nodes\n",
      "R00030: 44 nodes\n",
      "R00040: 58 nodes\n",
      "R00050: 70 nodes\n",
      "R00060: 82 nodes\n",
      "R00070: 99 nodes\n",
      "R00080: 106 nodes\n",
      "R00090: 129 nodes\n",
      "R00100: 135 nodes\n"
     ]
    }
   ],
   "source": [
    "# Number of nodes in LCA skeleton tree for each sequences read:\n",
    "# There should be 16 in the first one and 32 in the second\n",
    "num_nodes_per_read = {}\n",
    "for read_id, lca_tree in lca_skeleton_tree.items():\n",
    "    # contract skeleton tree:\n",
    "    #contracted_skel_tree = contract_elementary_paths(lca_tree)\n",
    "    num_nodes = len(list(lca_tree.nodes))\n",
    "    num_nodes_per_read[read_id] = num_nodes\n",
    "\n",
    "print(\"Number of nodes in LCA skeleton tree for each sequence read:\")\n",
    "for read_id, num_nodes in num_nodes_per_read.items():\n",
    "    print(f\"{read_id}: {num_nodes} nodes\")"
   ]
  },
  {
   "cell_type": "markdown",
   "id": "1d20ca78",
   "metadata": {},
   "source": [
    "## write a Python script to find the LCA mapping for each sequence read"
   ]
  },
  {
   "cell_type": "code",
   "execution_count": 10,
   "id": "955064cf",
   "metadata": {},
   "outputs": [
    {
     "name": "stdout",
     "output_type": "stream",
     "text": [
      "LCA Mapping for each sequence read:\n",
      "R00010: 1\n",
      "R00020: 1\n",
      "R00030: 1\n",
      "R00040: 1\n",
      "R00050: 1\n",
      "R00060: 1\n",
      "R00070: 1\n",
      "R00080: 1\n",
      "R00090: 1\n",
      "R00100: 1\n"
     ]
    }
   ],
   "source": [
    "print(\"LCA Mapping for each sequence read:\")\n",
    "for read, skel_tree in lca_skeleton_tree.items():\n",
    "    print(f\"{read}: {find_lca(skel_tree, list(skel_tree.nodes()))}\")"
   ]
  },
  {
   "cell_type": "markdown",
   "id": "1013cba9",
   "metadata": {},
   "source": [
    "## What is the highest taxonomic rank (that is, toward kingdom) for these LCA mappings?\n"
   ]
  },
  {
   "cell_type": "code",
   "execution_count": 18,
   "id": "f666c6f8",
   "metadata": {},
   "outputs": [
    {
     "data": {
      "text/plain": [
       "0    no rank\n",
       "Name: rank, dtype: object"
      ]
     },
     "execution_count": 18,
     "metadata": {},
     "output_type": "execute_result"
    }
   ],
   "source": [
    "df[df['Node ID'] == 1]['rank']"
   ]
  },
  {
   "cell_type": "markdown",
   "id": "553d1670",
   "metadata": {},
   "source": [
    "# What is the lowest taxonomic rank (that is, toward species) for these LCA mappings?"
   ]
  },
  {
   "cell_type": "code",
   "execution_count": 15,
   "id": "d72a1dc4",
   "metadata": {},
   "outputs": [
    {
     "data": {
      "text/plain": [
       "0    no rank\n",
       "Name: rank, dtype: object"
      ]
     },
     "execution_count": 15,
     "metadata": {},
     "output_type": "execute_result"
    }
   ],
   "source": [
    "df[df['Node ID'] == 1]['rank']"
   ]
  },
  {
   "cell_type": "markdown",
   "id": "c8ff3ad2",
   "metadata": {},
   "source": [
    "# write a Python script to find the optimal (in terms of the F-measure) taxonomic assignment for each sequence read."
   ]
  },
  {
   "cell_type": "code",
   "execution_count": 21,
   "id": "f025a846",
   "metadata": {},
   "outputs": [
    {
     "name": "stdout",
     "output_type": "stream",
     "text": [
      "[6656, 1, 1442184, 1642257, 2561303, 2750233, 1392409, 7088, 2759, 1224, 1566798, 241115, 2743521, 828009, 1420654, 50557]\n"
     ]
    }
   ],
   "source": [
    "print(lca_skeleton_tree['R00010'].nodes())"
   ]
  },
  {
   "cell_type": "code",
   "execution_count": 50,
   "id": "76959371",
   "metadata": {},
   "outputs": [],
   "source": [
    "def get_leaf_nodes(tree, node, leaf_nodes):\n",
    "    children = get_children(tree, node)\n",
    "    if len(children) == 0:\n",
    "        leaf_nodes.append(node)\n",
    "    else:\n",
    "        for child in children:\n",
    "            get_leaf_nodes(tree, child, leaf_nodes)\n",
    "    return leaf_nodes"
   ]
  },
  {
   "cell_type": "code",
   "execution_count": null,
   "id": "01a90de5",
   "metadata": {},
   "outputs": [
    {
     "name": "stdout",
     "output_type": "stream",
     "text": [
      "Optimal taxonomic assignment for R00010 is 241115 with F-measure 0.18181818181818182\n",
      "Optimal taxonomic assignment for R00020 is 152321 with F-measure 0.09523809523809523\n",
      "Optimal taxonomic assignment for R00030 is 101584 with F-measure 0.06451612903225806\n",
      "Optimal taxonomic assignment for R00040 is 74311 with F-measure 0.04878048780487806\n",
      "Optimal taxonomic assignment for R00050 is 145688 with F-measure 0.0392156862745098\n",
      "Optimal taxonomic assignment for R00060 is 27863 with F-measure 0.03278688524590164\n"
     ]
    }
   ],
   "source": [
    "for read, skel_tree in lca_skeleton_tree.items():\n",
    "    mapping = mappings[read]\n",
    "    optimal_a = None\n",
    "    best_f = 0\n",
    "    for node in restricted_tree.nodes():\n",
    "        TP = 0\n",
    "        FP = 0\n",
    "        FN = 0\n",
    "        leaf_nodes = get_leaf_nodes(restricted_tree, node, [])\n",
    "        for leaf in leaf_nodes:\n",
    "            if leaf in mapping:\n",
    "                TP += 1\n",
    "            else:\n",
    "                FP += 1\n",
    "        for m in mapping:\n",
    "            if m not in leaf_nodes:\n",
    "                FN += 1   \n",
    "        \n",
    "        if TP+FP != 0:\n",
    "            precision = TP / (TP + FP)\n",
    "        if TP+FN != 0:\n",
    "            recall = TP / (TP + FN)\n",
    "        if precision+recall != 0:\n",
    "            f_measure = (2*precision*recall) / (precision+recall)\n",
    "            \n",
    "        if f_measure > best_f:\n",
    "            best_f = f_measure\n",
    "            optimal_a = node\n",
    "    print(f\"Optimal taxonomic assignment for {read} is {optimal_a} with F-measure {best_f}\")"
   ]
  },
  {
   "cell_type": "code",
   "execution_count": null,
   "id": "b721fba3",
   "metadata": {},
   "outputs": [],
   "source": []
  }
 ],
 "metadata": {
  "kernelspec": {
   "display_name": "Python 3",
   "language": "python",
   "name": "python3"
  },
  "language_info": {
   "codemirror_mode": {
    "name": "ipython",
    "version": 3
   },
   "file_extension": ".py",
   "mimetype": "text/x-python",
   "name": "python",
   "nbconvert_exporter": "python",
   "pygments_lexer": "ipython3",
   "version": "3.10.8"
  }
 },
 "nbformat": 4,
 "nbformat_minor": 5
}

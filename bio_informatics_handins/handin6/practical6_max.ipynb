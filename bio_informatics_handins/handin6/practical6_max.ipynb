{
 "cells": [
  {
   "cell_type": "code",
   "execution_count": 6,
   "metadata": {},
   "outputs": [],
   "source": [
    "import networkx as nx\n",
    "import pandas as pd\n",
    "from tqdm import tqdm"
   ]
  },
  {
   "cell_type": "code",
   "execution_count": 28,
   "metadata": {},
   "outputs": [],
   "source": [
    "def read_nodes(data_path):\n",
    "    re_expression = \"[|\\t]+\"\n",
    "\n",
    "    # only read the first three columns\n",
    "    df = pd.read_csv(\n",
    "        data_path, sep=re_expression, header=None, engine=\"python\", usecols=[0, 1, 2]\n",
    "    )\n",
    "\n",
    "    df.columns = [\"Node ID\", \"Parent Node ID\", \"rank\"]\n",
    "\n",
    "    return df\n",
    "\n",
    "\n",
    "# Store the data as a graph\n",
    "def build(df: pd.DataFrame) -> nx.DiGraph:\n",
    "    G = nx.DiGraph()\n",
    "    for _, row in df.iterrows():\n",
    "        parent_node_id = row[\"Parent Node ID\"]\n",
    "        node_id = row[\"Node ID\"]\n",
    "        node_rank = row[\"rank\"]\n",
    "\n",
    "        # Add nodes\n",
    "        if not G.has_node(parent_node_id):\n",
    "            G.add_node(parent_node_id, name=parent_node_id, rank=node_rank)\n",
    "        \n",
    "        if not G.has_node(node_id):\n",
    "            G.add_node(node_id, name=node_id, rank=node_rank)\n",
    "\n",
    "        # Add edges\n",
    "        G.add_edge(parent_node_id, node_id)\n",
    "    return G\n",
    "\n",
    "\n",
    "def get_children(tree: nx.DiGraph, node_ID: int) -> list[int]:\n",
    "    \"\"\"Given a tree graph, return a list of the children of the node_ID\"\"\"\n",
    "    return [c for _, c in tree.out_edges(node_ID)]\n",
    "\n",
    "\n",
    "def get_parent(tree: nx.DiGraph, node_ID: int) -> int | None:\n",
    "    \"\"\"Given a tree graph, return the parent of the given node\"\"\"\n",
    "    parent_nodes = [p for p, _ in tree.in_edges(node_ID)]\n",
    "    if len(parent_nodes) > 1:\n",
    "        raise Exception(f\"There are multiple parent nodes for node {node_ID}\")\n",
    "    if len(parent_nodes) == 0:\n",
    "        return None\n",
    "    return parent_nodes[0]\n",
    "\n",
    "\n",
    "def restrict_tree(tree: nx.DiGraph, df: pd.DataFrame) -> nx.DiGraph:\n",
    "    \"\"\"Restrict a tree graph to the seven standard taxonomic ranks\"\"\"\n",
    "    restricted_tree = tree.copy()\n",
    "    standard_taxonomic_ranks = [\n",
    "        \"superkingdom\",  # is actually kingdom in the data\n",
    "        \"phylum\",\n",
    "        \"class\",\n",
    "        \"order\",\n",
    "        \"family\",\n",
    "        \"genus\",\n",
    "        \"species\",\n",
    "    ]\n",
    "\n",
    "    # list of nodes ID with non-standard taxonomic rank:\n",
    "    non_standard_nodes = list(\n",
    "        df[~df[\"rank\"].isin(standard_taxonomic_ranks)][\"Node ID\"].values\n",
    "    )\n",
    "\n",
    "    no_parent_node_counter = 0\n",
    "    for current_node_ID in non_standard_nodes:\n",
    "        # connect each child node of current node to the parent node of current node\n",
    "        if parent_node_ID := get_parent(restricted_tree, current_node_ID):\n",
    "            if children := get_children(\n",
    "                restricted_tree, current_node_ID\n",
    "            ):  # we only care about children\n",
    "                for child_node_ID in children:\n",
    "                    restricted_tree.add_edge(parent_node_ID, child_node_ID)\n",
    "                restricted_tree.remove_node(current_node_ID)\n",
    "            else:\n",
    "                restricted_tree.remove_node(current_node_ID)\n",
    "        else:\n",
    "            no_parent_node_counter += 1\n",
    "            continue\n",
    "\n",
    "        # Remove node and edges connected to it\n",
    "\n",
    "    print(f\"Found {no_parent_node_counter} nodes with no parents\")\n",
    "    return restricted_tree\n",
    "\n",
    "\n",
    "def contract_elementary_paths(tree: nx.DiGraph) -> nx.DiGraph:\n",
    "    \"\"\"Given a tree graph, all elementary paths with only one parent and one child are removed, and child and parent are connected.\n",
    "    Functions assumes that every node in the tree graph only has a single parent\"\"\"\n",
    "    contracted_tree = tree.copy()\n",
    "\n",
    "    for current_node in tree.nodes:\n",
    "        if children := get_children(contracted_tree, current_node):\n",
    "            if len(children) == 1:  # If only 1 child, contract node:\n",
    "                parent_node_ID = get_parent(contracted_tree, current_node)\n",
    "                child_node_ID = children[0]\n",
    "                contracted_tree.add_edge(parent_node_ID, child_node_ID)\n",
    "                contracted_tree.remove_node(current_node)\n",
    "            else:\n",
    "                # node has more than 1 children\n",
    "                continue\n",
    "        else:\n",
    "            # node is a leaf with no children\n",
    "            continue\n",
    "\n",
    "    return contracted_tree\n",
    "\n",
    "\n",
    "def read_mapping(mapping_path):\n",
    "    mappings = {}\n",
    "    with open(mapping_path, \"r\") as f:\n",
    "        for line in f:\n",
    "            tokens = line.strip().split()\n",
    "            sequence_id = tokens[0]\n",
    "            tax_ids = list(map(int, tokens[1:]))\n",
    "            mappings[sequence_id] = tax_ids\n",
    "    return mappings\n",
    "\n",
    "\n",
    "def find_lineage(graph: nx.DiGraph, node_ID: int, root_node_ID=1):\n",
    "    \"\"\"Returns the shortest path (lineage) from the rootnode (ID: 1) to the provided node using dijkstras DFS\"\"\"\n",
    "    lineage = nx.shortest_path(\n",
    "        graph, source=root_node_ID, target=node_ID, method=\"dijkstra\"\n",
    "    )\n",
    "    return lineage\n",
    "\n",
    "\n",
    "# Function to find the lowest common ancestor in a directed acyclic graph (DAG)\n",
    "def find_lca(tree: nx.DiGraph, nodes: list[int]) -> int:\n",
    "    # Create a set to store the ancestors of each node\n",
    "    ancestors = {node: set(nx.ancestors(tree, node)) for node in nodes}\n",
    "\n",
    "    # Find the intersection of all ancestors\n",
    "    common_ancestors = ancestors[nodes[0]]  # intersection of all ancestors\n",
    "    for node in nodes:\n",
    "        common_ancestors &= ancestors[node]\n",
    "\n",
    "    if common_ancestors:\n",
    "        # If there is at least one common ancestor, return any one of them\n",
    "        return common_ancestors.pop()\n",
    "    else:\n",
    "        # If there is no common ancestor, return None or handle it as needed\n",
    "        return None"
   ]
  },
  {
   "cell_type": "code",
   "execution_count": 29,
   "metadata": {},
   "outputs": [],
   "source": [
    "### Read in the nodes and construct the tree\n",
    "df = read_nodes(\"handins/handin6/nodes.dmp\")\n",
    "total_G = build(df)\n",
    "total_G.remove_edge(1, 1)  # remove the one cycle from the first node to it self\n",
    "\n",
    "#print(nx.is_tree(total_G))\n",
    "#print(nx.is_directed_acyclic_graph(total_G))"
   ]
  },
  {
   "cell_type": "code",
   "execution_count": 30,
   "metadata": {},
   "outputs": [
    {
     "name": "stdout",
     "output_type": "stream",
     "text": [
      "Found 1 nodes with no parents\n"
     ]
    }
   ],
   "source": [
    "### Restrict the tree to the seven standard taxonomic ranks:\n",
    "restricted_tree = restrict_tree(total_G, df)\n",
    "#print(nx.is_tree(restricted_tree))\n",
    "#print(nx.is_directed_acyclic_graph(restricted_tree))"
   ]
  },
  {
   "cell_type": "code",
   "execution_count": 31,
   "metadata": {},
   "outputs": [],
   "source": [
    "### Find lineages in sequence reads\n",
    "mappings = read_mapping(\"handins/handin6/mapping.txt\")"
   ]
  },
  {
   "cell_type": "code",
   "execution_count": 32,
   "metadata": {},
   "outputs": [],
   "source": [
    "### Find lineages\n",
    "lineages = {}\n",
    "for sequence_id, tax_ids in mappings.items():\n",
    "    lineages_for_seq = []\n",
    "    for tax_id in tax_ids:\n",
    "        lineage = find_lineage(total_G, tax_id)\n",
    "        lineages_for_seq.append(lineage)\n",
    "    lineages[sequence_id] = lineages_for_seq"
   ]
  },
  {
   "cell_type": "code",
   "execution_count": 33,
   "metadata": {},
   "outputs": [],
   "source": [
    "### Build LCA skeleton trees for each sequence read\n",
    "lca_skeleton_tree = {}\n",
    "for read_id, node_list in mappings.items():\n",
    "    lca = find_lca(restricted_tree, node_list)\n",
    "    \n",
    "    if lca is not None:\n",
    "        # Get all nodes from the root to each node in node_list and the LCA\n",
    "        nodes_to_include = set()\n",
    "        nodes_to_include.add(1)\n",
    "        for node in node_list:\n",
    "            nodes_to_include.update(\n",
    "                nx.shortest_path(restricted_tree, source=1, target=node)\n",
    "            )\n",
    "            nodes_to_include.update(\n",
    "                nx.shortest_path(restricted_tree, source=1, target=lca)\n",
    "            )\n",
    "\n",
    "        skeleton_tree = restricted_tree.subgraph(nodes_to_include)\n",
    "\n",
    "        lca_skeleton_tree[read_id] = skeleton_tree"
   ]
  },
  {
   "cell_type": "code",
   "execution_count": 34,
   "metadata": {},
   "outputs": [
    {
     "name": "stdout",
     "output_type": "stream",
     "text": [
      "Number of nodes in LCA skeleton tree for each sequence read:\n",
      "R00010: 16 nodes\n",
      "R00020: 32 nodes\n",
      "R00030: 44 nodes\n",
      "R00040: 58 nodes\n",
      "R00050: 70 nodes\n",
      "R00060: 82 nodes\n",
      "R00070: 99 nodes\n",
      "R00080: 106 nodes\n",
      "R00090: 129 nodes\n",
      "R00100: 135 nodes\n"
     ]
    }
   ],
   "source": [
    "# Number of nodes in LCA skeleton tree for each sequences read:\n",
    "# There should be 16 in the first one and 32 in the second\n",
    "num_nodes_per_read = {}\n",
    "for read_id, lca_tree in lca_skeleton_tree.items():\n",
    "    # contract skeleton tree:\n",
    "    contracted_skel_tree = contract_elementary_paths(lca_tree)\n",
    "    num_nodes = len(list(contracted_skel_tree.nodes))\n",
    "    num_nodes_per_read[read_id] = num_nodes\n",
    "\n",
    "print(\"Number of nodes in LCA skeleton tree for each sequence read:\")\n",
    "for read_id, num_nodes in num_nodes_per_read.items():\n",
    "    print(f\"{read_id}: {num_nodes} nodes\")"
   ]
  },
  {
   "cell_type": "markdown",
   "metadata": {},
   "source": [
    "# Practical 6"
   ]
  },
  {
   "cell_type": "markdown",
   "metadata": {},
   "source": [
    "## Task 1: write a Python script to find the LCA mapping for each sequence read"
   ]
  },
  {
   "cell_type": "markdown",
   "metadata": {},
   "source": [
    "one way you could do it, is that start with any arbitrary node, and then BFS in a bottom up, and for each iteration (that is, each time we visit a new node in the upwards direction), we check if we can reach all other sequence read nodes. If not, we go to the next node in the tree. If we can ... "
   ]
  },
  {
   "cell_type": "code",
   "execution_count": 40,
   "metadata": {},
   "outputs": [
    {
     "name": "stdout",
     "output_type": "stream",
     "text": [
      "{6656, 1, 33154, 85512, 1206794, 43787, 2645396, 7197, 7198, 33317, 6960, 6072, 33208, 197562, 197563, 474171, 33340, 33213, 88770, 2759, 7496, 41831, 7147, 7148, 131567, 33392, 50557}\n"
     ]
    }
   ],
   "source": [
    "def find_lca(tree: nx.DiGraph, nodes: list[int]) -> int:\n",
    "    # Create a set to store the ancestors of each node\n",
    "    ancestors = {node: set(nx.ancestors(tree, node)) for node in nodes}\n",
    "\n",
    "    # Find the intersection of all ancestors\n",
    "    common_ancestors = ancestors[nodes[0]]  # intersection of all ancestors\n",
    "    for node in nodes:\n",
    "        common_ancestors &= ancestors[node]\n",
    "\n",
    "    if common_ancestors:  \n",
    "        # If there is at least one common ancestor, return any one of them\n",
    "        return common_ancestors.pop()\n",
    "    else:\n",
    "        # If there is no common ancestor, return None or handle it as needed\n",
    "        return None\n",
    "for sequence_ID in mappings.keys():\n",
    "    find_lca(total_G, mappings[sequence_ID])\n",
    "    ancestors = nx.ancestors(total_G, mappings[sequence_ID][0])\n",
    "    print(ancestors)\n",
    "    break\n",
    "    "
   ]
  },
  {
   "cell_type": "markdown",
   "metadata": {},
   "source": [
    "## Task 2: What is the highest taxonomic rank (that is, toward *kingdom*) for these LCA mappings?"
   ]
  },
  {
   "cell_type": "markdown",
   "metadata": {},
   "source": [
    "## Task 3: What is the lowest taxonomic rank (taht, toward the *species*) for these LCA mappings?"
   ]
  },
  {
   "cell_type": "markdown",
   "metadata": {},
   "source": [
    "## Task 4: write a Python script to find theoptimal (in terms of the $F$-measure) taxonomic assignment for each sequence read."
   ]
  },
  {
   "cell_type": "markdown",
   "metadata": {},
   "source": [
    "## Task 5: What is the highest taxonomic rank (that is, toward *kingdom*) for these taxonomic assignments?"
   ]
  },
  {
   "cell_type": "markdown",
   "metadata": {},
   "source": [
    "## Task 6: What the lowest taxonomic rank (that is, toward *species*) for these taxonomic assignments?"
   ]
  }
 ],
 "metadata": {
  "kernelspec": {
   "display_name": "BSG",
   "language": "python",
   "name": "python3"
  },
  "language_info": {
   "codemirror_mode": {
    "name": "ipython",
    "version": 3
   },
   "file_extension": ".py",
   "mimetype": "text/x-python",
   "name": "python",
   "nbconvert_exporter": "python",
   "pygments_lexer": "ipython3",
   "version": "3.11.4"
  }
 },
 "nbformat": 4,
 "nbformat_minor": 2
}

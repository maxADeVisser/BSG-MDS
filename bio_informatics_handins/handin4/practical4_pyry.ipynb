{
 "cells": [
  {
   "cell_type": "code",
   "execution_count": 3,
   "metadata": {},
   "outputs": [],
   "source": [
    "import networkx as nx\n",
    "import pandas as pd\n",
    "from tqdm import tqdm\n",
    "from IPython.display import display"
   ]
  },
  {
   "cell_type": "code",
   "execution_count": 4,
   "metadata": {},
   "outputs": [],
   "source": [
    "data_path = \"./nodes.dmp\"\n",
    "\n",
    "re_expression = \"[|\\t]+\"\n",
    "\n",
    "# only read the first three columns\n",
    "df = pd.read_csv(\n",
    "    data_path, sep=re_expression, header=None, engine=\"python\", usecols=[0, 1, 2]\n",
    ")\n",
    "\n",
    "df.columns = [\"Node ID\",\"Parent Node ID\", \"rank\"]"
   ]
  },
  {
   "cell_type": "code",
   "execution_count": 5,
   "metadata": {},
   "outputs": [],
   "source": [
    "def read_nodes(data_path):\n",
    "    re_expression = \"[|\\t]+\"\n",
    "\n",
    "    # only read the first three columns\n",
    "    df = pd.read_csv(\n",
    "        data_path, sep=re_expression, header=None, engine=\"python\", usecols=[0, 1, 2]\n",
    "    )\n",
    "\n",
    "    df.columns = [\"Node ID\", \"Parent Node ID\", \"rank\"]\n",
    "    \n",
    "    return df\n",
    "\n",
    "df = read_nodes(\"./nodes.dmp\")"
   ]
  },
  {
   "cell_type": "code",
   "execution_count": 6,
   "metadata": {},
   "outputs": [
    {
     "data": {
      "text/plain": [
       "1"
      ]
     },
     "execution_count": 6,
     "metadata": {},
     "output_type": "execute_result"
    }
   ],
   "source": [
    "df[\"Node ID\"].value_counts().get(1,0)"
   ]
  },
  {
   "cell_type": "code",
   "execution_count": 7,
   "metadata": {},
   "outputs": [],
   "source": [
    "def build(df: pd.DataFrame) -> nx.DiGraph:\n",
    "    G = nx.DiGraph()\n",
    "    for _, row in tqdm(df.iterrows()):\n",
    "        parent_node_id = row['Parent Node ID']\n",
    "        node_id = row['Node ID']\n",
    "\n",
    "        G.add_node(parent_node_id)\n",
    "        G.add_node(node_id)\n",
    "        \n",
    "        G.add_edge(parent_node_id, node_id)\n",
    "    return G"
   ]
  },
  {
   "cell_type": "code",
   "execution_count": 8,
   "metadata": {},
   "outputs": [
    {
     "name": "stderr",
     "output_type": "stream",
     "text": [
      "2442791it [04:42, 8641.68it/s] \n"
     ]
    }
   ],
   "source": [
    "total_G = build(df)"
   ]
  },
  {
   "cell_type": "code",
   "execution_count": 9,
   "metadata": {},
   "outputs": [
    {
     "name": "stdout",
     "output_type": "stream",
     "text": [
      "Is the graph a DAG: False\n"
     ]
    }
   ],
   "source": [
    "print(f\"Is the graph a DAG: {nx.is_directed_acyclic_graph(total_G)}\") # topological sorting to determine if DAG"
   ]
  },
  {
   "cell_type": "code",
   "execution_count": 10,
   "metadata": {},
   "outputs": [
    {
     "name": "stdout",
     "output_type": "stream",
     "text": [
      "1\n",
      "True\n"
     ]
    }
   ],
   "source": [
    "def is_rooted(G: nx.DiGraph) -> bool:\n",
    "    \n",
    "    # Copy the graphs so that the modifications dont affect the original graph\n",
    "    G_copy = G.copy()\n",
    "    \n",
    "    # Remove self-loop if it exists at the root (node 1)\n",
    "    if G_copy.has_edge(1, 1):\n",
    "        G_copy.remove_edge(1, 1)\n",
    "    \n",
    "    root_nodes = 0\n",
    "    for node in G_copy.nodes():\n",
    "        in_degree = G_copy.in_degree(node)\n",
    "        if in_degree == 0:\n",
    "            print(node)\n",
    "            root_nodes += 1\n",
    "        elif in_degree > 1:\n",
    "            print(\"NCBI taxonomy is not rooted because a node has more than two parents\")\n",
    "            return False\n",
    "    if root_nodes != 1:\n",
    "        print(f\"NCBI taxonomy is not rooted because it has {root_nodes} roots\")\n",
    "        return False\n",
    "        \n",
    "    return True\n",
    "print(is_rooted(total_G))"
   ]
  },
  {
   "cell_type": "code",
   "execution_count": 11,
   "metadata": {},
   "outputs": [
    {
     "name": "stdout",
     "output_type": "stream",
     "text": [
      "NCBI taxonomy is DAG\n",
      "True\n"
     ]
    }
   ],
   "source": [
    "def is_dag(G: nx.DiGraph) -> bool:\n",
    "    # Copy the graphs so that the modifications dont affect the original graph\n",
    "    G_copy = G.copy()\n",
    "    \n",
    "    # Remove self-loop if it exists at the root (node 1)\n",
    "    if G_copy.has_edge(1, 1):\n",
    "        G_copy.remove_edge(1, 1)\n",
    "    \n",
    "    is_dag = nx.is_directed_acyclic_graph(G_copy)\n",
    "    if not is_dag:\n",
    "        return False\n",
    "    else:\n",
    "        print(\"NCBI taxonomy is DAG\")\n",
    "        return True\n",
    "    \n",
    "print(is_dag(total_G))"
   ]
  },
  {
   "cell_type": "markdown",
   "metadata": {},
   "source": [
    "there is a cycle from node 1 to it self. It is however the only cylce in the graph, as if i remove this node, the graph becomes acyclic"
   ]
  },
  {
   "cell_type": "code",
   "execution_count": 12,
   "metadata": {},
   "outputs": [
    {
     "name": "stdout",
     "output_type": "stream",
     "text": [
      "There are 2442791 nodes in the NCBI taxonomy\n"
     ]
    }
   ],
   "source": [
    "print(f\"There are {len(df['Node ID'])} nodes in the NCBI taxonomy\")"
   ]
  },
  {
   "cell_type": "code",
   "execution_count": 13,
   "metadata": {},
   "outputs": [
    {
     "data": {
      "text/plain": [
       "rank\n",
       "kingdom         13\n",
       "phylum         291\n",
       "class          461\n",
       "order         1760\n",
       "family        9907\n",
       "genus       104194\n",
       "species    1995381\n",
       "Name: count, dtype: int64"
      ]
     },
     "metadata": {},
     "output_type": "display_data"
    }
   ],
   "source": [
    "standard_taxonomic_ranks = [\n",
    "    \"kingdom\",\n",
    "    \"phylum\",\n",
    "    \"class\",\n",
    "    \"order\",\n",
    "    \"family\",\n",
    "    \"genus\",\n",
    "    \"species\",\n",
    "]\n",
    "\n",
    "display(df[\"rank\"].value_counts()[standard_taxonomic_ranks])"
   ]
  },
  {
   "cell_type": "code",
   "execution_count": 14,
   "metadata": {},
   "outputs": [
    {
     "name": "stderr",
     "output_type": "stream",
     "text": [
      "2112007it [04:30, 7817.30it/s]\n"
     ]
    }
   ],
   "source": [
    "filtered_df = df[df['rank'].isin(standard_taxonomic_ranks)]\n",
    "filtered_G = build(filtered_df)"
   ]
  },
  {
   "cell_type": "code",
   "execution_count": null,
   "metadata": {},
   "outputs": [],
   "source": []
  },
  {
   "cell_type": "markdown",
   "metadata": {},
   "source": [
    "## What is the name of the kingdom taxonomic rank in the NCBI taxonomy?"
   ]
  },
  {
   "cell_type": "code",
   "execution_count": 15,
   "metadata": {},
   "outputs": [
    {
     "ename": "SyntaxError",
     "evalue": "incomplete input (1570598073.py, line 4)",
     "output_type": "error",
     "traceback": [
      "\u001b[0;36m  Cell \u001b[0;32mIn[15], line 4\u001b[0;36m\u001b[0m\n\u001b[0;31m    #print(df[df['Node ID'] == parent_node_id]['rank'])\u001b[0m\n\u001b[0m                                                       ^\u001b[0m\n\u001b[0;31mSyntaxError\u001b[0m\u001b[0;31m:\u001b[0m incomplete input\n"
     ]
    }
   ],
   "source": [
    "for idx, node in df[df['Parent Node ID'] == 1].iterrows():\n",
    "    #parent_node_id = node['Parent Node ID']\n",
    "    #print(node['Parent Node ID'])\n",
    "    #print(df[df['Node ID'] == parent_node_id]['rank'])"
   ]
  },
  {
   "cell_type": "markdown",
   "metadata": {},
   "source": [
    "# Other"
   ]
  },
  {
   "cell_type": "code",
   "execution_count": 16,
   "metadata": {},
   "outputs": [
    {
     "data": {
      "text/plain": [
       "rank\n",
       "species             1995381\n",
       "no rank              233587\n",
       "genus                104194\n",
       "strain                45245\n",
       "subspecies            27134\n",
       "family                 9907\n",
       "varietas               9243\n",
       "subfamily              3203\n",
       "tribe                  2304\n",
       "order                  1760\n",
       "subgenus               1740\n",
       "isolate                1322\n",
       "serotype               1235\n",
       "clade                   915\n",
       "superfamily             891\n",
       "forma specialis         747\n",
       "forma                   633\n",
       "subtribe                582\n",
       "section                 479\n",
       "class                   461\n",
       "suborder                373\n",
       "species group           347\n",
       "phylum                  291\n",
       "subclass                166\n",
       "serogroup               140\n",
       "infraorder              130\n",
       "species subgroup        129\n",
       "superorder               57\n",
       "subphylum                32\n",
       "parvorder                26\n",
       "genotype                 21\n",
       "subsection               21\n",
       "infraclass               19\n",
       "biotype                  17\n",
       "kingdom                  13\n",
       "morph                    12\n",
       "series                    9\n",
       "superclass                6\n",
       "cohort                    5\n",
       "pathogroup                5\n",
       "superkingdom              4\n",
       "subcohort                 3\n",
       "subkingdom                1\n",
       "superphylum               1\n",
       "Name: count, dtype: int64"
      ]
     },
     "execution_count": 16,
     "metadata": {},
     "output_type": "execute_result"
    }
   ],
   "source": [
    "df['rank'].value_counts()"
   ]
  },
  {
   "cell_type": "markdown",
   "metadata": {},
   "source": [
    "## How many nodes are there in the NCBI taxonomy, once restricted to the seven standard taxonomic ranks?"
   ]
  },
  {
   "cell_type": "code",
   "execution_count": 17,
   "metadata": {},
   "outputs": [
    {
     "name": "stdout",
     "output_type": "stream",
     "text": [
      "There are 2112007 nodes in the restricted NCBI taxonomy\n"
     ]
    }
   ],
   "source": [
    "print(f\"There are {len(filtered_df)} nodes in the restricted NCBI taxonomy\")"
   ]
  },
  {
   "cell_type": "code",
   "execution_count": null,
   "metadata": {},
   "outputs": [],
   "source": []
  }
 ],
 "metadata": {
  "kernelspec": {
   "display_name": "Python 3",
   "language": "python",
   "name": "python3"
  },
  "language_info": {
   "codemirror_mode": {
    "name": "ipython",
    "version": 3
   },
   "file_extension": ".py",
   "mimetype": "text/x-python",
   "name": "python",
   "nbconvert_exporter": "python",
   "pygments_lexer": "ipython3",
   "version": "3.10.8"
  }
 },
 "nbformat": 4,
 "nbformat_minor": 2
}

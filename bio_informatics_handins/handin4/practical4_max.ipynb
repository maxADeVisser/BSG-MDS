{
 "cells": [
  {
   "cell_type": "code",
   "execution_count": 40,
   "metadata": {},
   "outputs": [
    {
     "data": {
      "text/html": [
       "<div>\n",
       "<style scoped>\n",
       "    .dataframe tbody tr th:only-of-type {\n",
       "        vertical-align: middle;\n",
       "    }\n",
       "\n",
       "    .dataframe tbody tr th {\n",
       "        vertical-align: top;\n",
       "    }\n",
       "\n",
       "    .dataframe thead th {\n",
       "        text-align: right;\n",
       "    }\n",
       "</style>\n",
       "<table border=\"1\" class=\"dataframe\">\n",
       "  <thead>\n",
       "    <tr style=\"text-align: right;\">\n",
       "      <th></th>\n",
       "      <th>Node ID</th>\n",
       "      <th>Parent Node ID</th>\n",
       "      <th>rank</th>\n",
       "    </tr>\n",
       "  </thead>\n",
       "  <tbody>\n",
       "    <tr>\n",
       "      <th>0</th>\n",
       "      <td>1</td>\n",
       "      <td>1</td>\n",
       "      <td>no rank</td>\n",
       "    </tr>\n",
       "    <tr>\n",
       "      <th>1</th>\n",
       "      <td>2</td>\n",
       "      <td>131567</td>\n",
       "      <td>superkingdom</td>\n",
       "    </tr>\n",
       "    <tr>\n",
       "      <th>2</th>\n",
       "      <td>6</td>\n",
       "      <td>335928</td>\n",
       "      <td>genus</td>\n",
       "    </tr>\n",
       "    <tr>\n",
       "      <th>3</th>\n",
       "      <td>7</td>\n",
       "      <td>6</td>\n",
       "      <td>species</td>\n",
       "    </tr>\n",
       "    <tr>\n",
       "      <th>4</th>\n",
       "      <td>9</td>\n",
       "      <td>32199</td>\n",
       "      <td>species</td>\n",
       "    </tr>\n",
       "    <tr>\n",
       "      <th>5</th>\n",
       "      <td>10</td>\n",
       "      <td>1706371</td>\n",
       "      <td>genus</td>\n",
       "    </tr>\n",
       "    <tr>\n",
       "      <th>6</th>\n",
       "      <td>11</td>\n",
       "      <td>1707</td>\n",
       "      <td>species</td>\n",
       "    </tr>\n",
       "    <tr>\n",
       "      <th>7</th>\n",
       "      <td>13</td>\n",
       "      <td>203488</td>\n",
       "      <td>genus</td>\n",
       "    </tr>\n",
       "    <tr>\n",
       "      <th>8</th>\n",
       "      <td>14</td>\n",
       "      <td>13</td>\n",
       "      <td>species</td>\n",
       "    </tr>\n",
       "    <tr>\n",
       "      <th>9</th>\n",
       "      <td>16</td>\n",
       "      <td>32011</td>\n",
       "      <td>genus</td>\n",
       "    </tr>\n",
       "  </tbody>\n",
       "</table>\n",
       "</div>"
      ],
      "text/plain": [
       "   Node ID  Parent Node ID          rank\n",
       "0        1               1       no rank\n",
       "1        2          131567  superkingdom\n",
       "2        6          335928         genus\n",
       "3        7               6       species\n",
       "4        9           32199       species\n",
       "5       10         1706371         genus\n",
       "6       11            1707       species\n",
       "7       13          203488         genus\n",
       "8       14              13       species\n",
       "9       16           32011         genus"
      ]
     },
     "execution_count": 40,
     "metadata": {},
     "output_type": "execute_result"
    }
   ],
   "source": [
    "import networkx as nx\n",
    "import pandas as pd\n",
    "\n",
    "data_path = \"handins/handin4/nodes.dmp\"\n",
    "\n",
    "re_expression = \"[|\\t]+\"\n",
    "\n",
    "# only read the first three columns\n",
    "df = pd.read_csv(\n",
    "    data_path, sep=re_expression, header=None, engine=\"python\", usecols=[0, 1, 2]\n",
    ")\n",
    "\n",
    "df.columns = [\"Node ID\", \"Parent Node ID\", \"rank\"]\n",
    "\n",
    "df.head(10)"
   ]
  },
  {
   "cell_type": "markdown",
   "metadata": {},
   "source": [
    "# 1. Store the data as a rooted tree"
   ]
  },
  {
   "cell_type": "markdown",
   "metadata": {},
   "source": [
    "there is a cycle from node 1 to it self. It is however the only cylce in the graph, as if i remove this node, the graph becomes acyclic"
   ]
  },
  {
   "cell_type": "code",
   "execution_count": 10,
   "metadata": {},
   "outputs": [],
   "source": [
    "# remove the first and only cyclic edge to make it a DAG\n",
    "df = df[1:]"
   ]
  },
  {
   "cell_type": "code",
   "execution_count": 75,
   "metadata": {},
   "outputs": [],
   "source": [
    "# Store the data as a graph\n",
    "def build(df: pd.DataFrame) -> nx.DiGraph:\n",
    "    G = nx.DiGraph()\n",
    "    for _, row in df.iterrows():\n",
    "        parent_node_id = row['Parent Node ID']\n",
    "        node_id = row['Node ID']\n",
    "\n",
    "        # Add nodes\n",
    "        if not G.has_node(parent_node_id):\n",
    "            G.add_node(parent_node_id, name=parent_node_id)\n",
    "        \n",
    "        G.add_node(node_id, name=node_id)\n",
    "        \n",
    "        # Add edges\n",
    "        #if parent_node_id != node_id: # no cycles\n",
    "        G.add_edge(parent_node_id, node_id)\n",
    "    return G\n",
    "\n",
    "total_G = build(df)\n",
    "#total_G.number_of_nodes() # number of nodes in graph"
   ]
  },
  {
   "cell_type": "code",
   "execution_count": 80,
   "metadata": {},
   "outputs": [
    {
     "name": "stdout",
     "output_type": "stream",
     "text": [
      "True\n",
      "True\n"
     ]
    }
   ],
   "source": [
    "total_G.remove_edge(1, 1) # remove the one cycle there is in the graph\n",
    "print(nx.is_tree(total_G))\n",
    "print(nx.is_directed_acyclic_graph(total_G))"
   ]
  },
  {
   "cell_type": "markdown",
   "metadata": {},
   "source": [
    "# 2. Is the NBCI taxonomy a rooted tree, a directed acyclic graph, or a directed graph with cycles?"
   ]
  },
  {
   "cell_type": "code",
   "execution_count": 43,
   "metadata": {},
   "outputs": [
    {
     "data": {
      "text/plain": [
       "False"
      ]
     },
     "execution_count": 43,
     "metadata": {},
     "output_type": "execute_result"
    }
   ],
   "source": [
    "# Check if the tree is a rooted tree\n",
    "nx.is_tree(total_G)"
   ]
  },
  {
   "cell_type": "code",
   "execution_count": 26,
   "metadata": {},
   "outputs": [
    {
     "name": "stdout",
     "output_type": "stream",
     "text": [
      "Is the graph a DAG: True\n",
      "The DAG is a DAG but not a rooted tree (multiple roots).\n"
     ]
    }
   ],
   "source": [
    "# topological sorting to determine if DAG\n",
    "is_dag = nx.is_directed_acyclic_graph(total_G)\n",
    "print(f\"Is the graph a DAG: {is_dag}\")\n",
    "\n",
    "if is_dag:\n",
    "    num_nodes = len(total_G.nodes())\n",
    "    num_edges = len(total_G.edges())\n",
    "    in_degrees = dict(total_G.in_degree())\n",
    "\n",
    "    if num_edges == num_nodes - 1:  # property of trees\n",
    "        root_count = sum(1 for node, in_degree in in_degrees.items() if in_degree == 1)\n",
    "        if root_count == 1:\n",
    "            print(\"The DAG is a rooted tree.\")\n",
    "        else:\n",
    "            print(\"The graph is DAG but not a rooted tree (multiple roots).\")\n",
    "    else:\n",
    "        print(\"The graph is a DAG but not a rooted tree (not enough edges).\")\n",
    "else:\n",
    "    print(\"The graph is not a DAG.\")"
   ]
  },
  {
   "cell_type": "markdown",
   "metadata": {},
   "source": [
    "# 3. how many nodes are there in the NCBI taxonomy?"
   ]
  },
  {
   "cell_type": "code",
   "execution_count": 39,
   "metadata": {},
   "outputs": [
    {
     "name": "stdout",
     "output_type": "stream",
     "text": [
      "There are 2442790 nodes in the NCBI taxonomy\n"
     ]
    }
   ],
   "source": [
    "print(f\"There are {len(df['Node ID'])} nodes in the NCBI taxonomy\")"
   ]
  },
  {
   "cell_type": "markdown",
   "metadata": {},
   "source": [
    "# 4. Restric the rooted tree to the seven standard taxonomic ranks"
   ]
  },
  {
   "cell_type": "markdown",
   "metadata": {},
   "source": [
    "the correct number of nodes is 2111999"
   ]
  },
  {
   "cell_type": "code",
   "execution_count": null,
   "metadata": {},
   "outputs": [],
   "source": [
    "standard_taxonomic_ranks = [\n",
    "    \"superkingdom\", # is actually kingdom\n",
    "    \"phylum\",\n",
    "    \"class\",\n",
    "    \"order\",\n",
    "    \"family\",\n",
    "    \"genus\",\n",
    "    \"species\",\n",
    "]\n",
    "\n",
    "non_standard_nodes = list(df[~df['rank'].isin(standard_taxonomic_ranks)]['Node ID'].values) # list of nodes ID with non-standard taxonomic rank"
   ]
  },
  {
   "cell_type": "code",
   "execution_count": 95,
   "metadata": {},
   "outputs": [],
   "source": [
    "restricted_tree = total_G.copy()\n",
    "\n",
    "for node_ID in non_standard_nodes:\n",
    "    if (parent_node_ID := [c for c, _ in restricted_tree.in_edges(node_ID)]) and (\n",
    "        (parent_node_ID) != node_ID\n",
    "    ):\n",
    "        parent_node_ID = parent_node_ID[0]\n",
    "        \n",
    "        # connect each child node from current node to the parent node of current node\n",
    "        for child_node_ID in [child for _, child in restricted_tree.out_edges(node_ID)]:\n",
    "            restricted_tree.add_edge(parent_node_ID, child_node_ID)\n",
    "\n",
    "        # remove current node\n",
    "        restricted_tree.remove_node(node_ID)\n",
    "    else:\n",
    "        continue\n",
    "\n",
    "print(nx.is_tree(restricted_tree))\n",
    "print(nx.is_directed_acyclic_graph(restricted_tree))\n",
    "print(restricted_tree.number_of_nodes())"
   ]
  },
  {
   "cell_type": "markdown",
   "metadata": {},
   "source": [
    "# 5.  What is the name of the kingdom taxonomic rank in the NCBI taxonomy?"
   ]
  },
  {
   "cell_type": "code",
   "execution_count": 24,
   "metadata": {},
   "outputs": [
    {
     "data": {
      "text/html": [
       "<div>\n",
       "<style scoped>\n",
       "    .dataframe tbody tr th:only-of-type {\n",
       "        vertical-align: middle;\n",
       "    }\n",
       "\n",
       "    .dataframe tbody tr th {\n",
       "        vertical-align: top;\n",
       "    }\n",
       "\n",
       "    .dataframe thead th {\n",
       "        text-align: right;\n",
       "    }\n",
       "</style>\n",
       "<table border=\"1\" class=\"dataframe\">\n",
       "  <thead>\n",
       "    <tr style=\"text-align: right;\">\n",
       "      <th></th>\n",
       "      <th>Node ID</th>\n",
       "      <th>Parent Node ID</th>\n",
       "      <th>rank</th>\n",
       "    </tr>\n",
       "  </thead>\n",
       "  <tbody>\n",
       "    <tr>\n",
       "      <th>1</th>\n",
       "      <td>2</td>\n",
       "      <td>131567</td>\n",
       "      <td>superkingdom</td>\n",
       "    </tr>\n",
       "    <tr>\n",
       "      <th>2</th>\n",
       "      <td>6</td>\n",
       "      <td>335928</td>\n",
       "      <td>genus</td>\n",
       "    </tr>\n",
       "    <tr>\n",
       "      <th>3</th>\n",
       "      <td>7</td>\n",
       "      <td>6</td>\n",
       "      <td>species</td>\n",
       "    </tr>\n",
       "    <tr>\n",
       "      <th>4</th>\n",
       "      <td>9</td>\n",
       "      <td>32199</td>\n",
       "      <td>species</td>\n",
       "    </tr>\n",
       "    <tr>\n",
       "      <th>5</th>\n",
       "      <td>10</td>\n",
       "      <td>1706371</td>\n",
       "      <td>genus</td>\n",
       "    </tr>\n",
       "    <tr>\n",
       "      <th>...</th>\n",
       "      <td>...</td>\n",
       "      <td>...</td>\n",
       "      <td>...</td>\n",
       "    </tr>\n",
       "    <tr>\n",
       "      <th>2442784</th>\n",
       "      <td>2978044</td>\n",
       "      <td>475815</td>\n",
       "      <td>species</td>\n",
       "    </tr>\n",
       "    <tr>\n",
       "      <th>2442785</th>\n",
       "      <td>2978049</td>\n",
       "      <td>651142</td>\n",
       "      <td>family</td>\n",
       "    </tr>\n",
       "    <tr>\n",
       "      <th>2442786</th>\n",
       "      <td>2978050</td>\n",
       "      <td>2978049</td>\n",
       "      <td>genus</td>\n",
       "    </tr>\n",
       "    <tr>\n",
       "      <th>2442787</th>\n",
       "      <td>2978051</td>\n",
       "      <td>2978049</td>\n",
       "      <td>genus</td>\n",
       "    </tr>\n",
       "    <tr>\n",
       "      <th>2442788</th>\n",
       "      <td>2978052</td>\n",
       "      <td>2978049</td>\n",
       "      <td>genus</td>\n",
       "    </tr>\n",
       "  </tbody>\n",
       "</table>\n",
       "<p>2111998 rows × 3 columns</p>\n",
       "</div>"
      ],
      "text/plain": [
       "         Node ID  Parent Node ID          rank\n",
       "1              2          131567  superkingdom\n",
       "2              6          335928         genus\n",
       "3              7               6       species\n",
       "4              9           32199       species\n",
       "5             10         1706371         genus\n",
       "...          ...             ...           ...\n",
       "2442784  2978044          475815       species\n",
       "2442785  2978049          651142        family\n",
       "2442786  2978050         2978049         genus\n",
       "2442787  2978051         2978049         genus\n",
       "2442788  2978052         2978049         genus\n",
       "\n",
       "[2111998 rows x 3 columns]"
      ]
     },
     "execution_count": 24,
     "metadata": {},
     "output_type": "execute_result"
    }
   ],
   "source": [
    "df[df['rank'].isin(standard_taxonomic_ranks)]"
   ]
  },
  {
   "cell_type": "code",
   "execution_count": null,
   "metadata": {},
   "outputs": [
    {
     "name": "stdout",
     "output_type": "stream",
     "text": [
      "Parent Node ID          1\n",
      "Node ID                 1\n",
      "rank              no rank\n",
      "Name: 0, dtype: object\n"
     ]
    }
   ],
   "source": [
    "for idx, node in df[df['Parent Node ID'] == 1].iterrows():\n",
    "    #parent_node_id = node['Parent Node ID']\n",
    "    #print(node['Parent Node ID'])\n",
    "    #print(df[df['Node ID'] == parent_node_id]['rank'])"
   ]
  },
  {
   "cell_type": "markdown",
   "metadata": {},
   "source": [
    "# Other"
   ]
  }
 ],
 "metadata": {
  "kernelspec": {
   "display_name": "BSG",
   "language": "python",
   "name": "python3"
  },
  "language_info": {
   "codemirror_mode": {
    "name": "ipython",
    "version": 3
   },
   "file_extension": ".py",
   "mimetype": "text/x-python",
   "name": "python",
   "nbconvert_exporter": "python",
   "pygments_lexer": "ipython3",
   "version": "3.11.4"
  }
 },
 "nbformat": 4,
 "nbformat_minor": 2
}
